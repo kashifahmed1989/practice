{
 "cells": [
  {
   "cell_type": "code",
   "execution_count": 1,
   "id": "088228fd",
   "metadata": {},
   "outputs": [
    {
     "ename": "FileNotFoundError",
     "evalue": "[Errno 2] No such file or directory: 'file1.txt'",
     "output_type": "error",
     "traceback": [
      "\u001b[1;31m---------------------------------------------------------------------------\u001b[0m",
      "\u001b[1;31mFileNotFoundError\u001b[0m                         Traceback (most recent call last)",
      "\u001b[1;32mC:\\Users\\LAB-02~1\\AppData\\Local\\Temp/ipykernel_5468/2619753121.py\u001b[0m in \u001b[0;36m<module>\u001b[1;34m\u001b[0m\n\u001b[1;32m----> 1\u001b[1;33m \u001b[1;32mwith\u001b[0m \u001b[0mopen\u001b[0m\u001b[1;33m(\u001b[0m\u001b[1;34m\"file1.txt\"\u001b[0m\u001b[1;33m,\u001b[0m \u001b[1;34m'r'\u001b[0m\u001b[1;33m)\u001b[0m \u001b[1;32mas\u001b[0m \u001b[0mf\u001b[0m\u001b[1;33m:\u001b[0m\u001b[1;33m\u001b[0m\u001b[1;33m\u001b[0m\u001b[0m\n\u001b[0m\u001b[0;32m      2\u001b[0m     \u001b[0mprint\u001b[0m\u001b[1;33m(\u001b[0m\u001b[0mf\u001b[0m\u001b[1;33m.\u001b[0m\u001b[0mread\u001b[0m\u001b[1;33m(\u001b[0m\u001b[1;33m)\u001b[0m\u001b[1;33m)\u001b[0m\u001b[1;33m\u001b[0m\u001b[1;33m\u001b[0m\u001b[0m\n",
      "\u001b[1;31mFileNotFoundError\u001b[0m: [Errno 2] No such file or directory: 'file1.txt'"
     ]
    }
   ],
   "source": [
    "with open(\"file1.txt\", 'r') as f:\n",
    "    print(f.read())"
   ]
  },
  {
   "cell_type": "code",
   "execution_count": 6,
   "id": "baeeb350",
   "metadata": {},
   "outputs": [
    {
     "ename": "UnsupportedOperation",
     "evalue": "not readable",
     "output_type": "error",
     "traceback": [
      "\u001b[1;31m---------------------------------------------------------------------------\u001b[0m",
      "\u001b[1;31mUnsupportedOperation\u001b[0m                      Traceback (most recent call last)",
      "\u001b[1;32mC:\\Users\\LAB-02~1\\AppData\\Local\\Temp/ipykernel_17172/3651655485.py\u001b[0m in \u001b[0;36m<module>\u001b[1;34m\u001b[0m\n\u001b[0;32m      2\u001b[0m     \u001b[0mfile1\u001b[0m\u001b[1;33m.\u001b[0m\u001b[0mwrite\u001b[0m\u001b[1;33m(\u001b[0m\u001b[1;34m'this is file one!'\u001b[0m\u001b[1;33m)\u001b[0m\u001b[1;33m\u001b[0m\u001b[1;33m\u001b[0m\u001b[0m\n\u001b[0;32m      3\u001b[0m     \u001b[0mfile1\u001b[0m\u001b[1;33m.\u001b[0m\u001b[0mseek\u001b[0m\u001b[1;33m(\u001b[0m\u001b[1;36m0\u001b[0m\u001b[1;33m)\u001b[0m\u001b[1;33m\u001b[0m\u001b[1;33m\u001b[0m\u001b[0m\n\u001b[1;32m----> 4\u001b[1;33m     \u001b[0mfile1\u001b[0m\u001b[1;33m.\u001b[0m\u001b[0mread\u001b[0m\u001b[1;33m(\u001b[0m\u001b[1;33m)\u001b[0m\u001b[1;33m\u001b[0m\u001b[1;33m\u001b[0m\u001b[0m\n\u001b[0m",
      "\u001b[1;31mUnsupportedOperation\u001b[0m: not readable"
     ]
    }
   ],
   "source": [
    "with open ('Sylani.txt', 'w') as file1:\n",
    "    file1.write('this is file one!')\n",
    "    file1.seek(0)"
   ]
  },
  {
   "cell_type": "code",
   "execution_count": 8,
   "id": "4599a4af",
   "metadata": {},
   "outputs": [
    {
     "name": "stdout",
     "output_type": "stream",
     "text": [
      "this is file one!\n"
     ]
    }
   ],
   "source": [
    "with open ('Sylani.txt', 'r') as file1:\n",
    "    print(file1.read())"
   ]
  },
  {
   "cell_type": "code",
   "execution_count": null,
   "id": "05577a7e",
   "metadata": {},
   "outputs": [],
   "source": []
  },
  {
   "cell_type": "code",
   "execution_count": null,
   "id": "bba898da",
   "metadata": {},
   "outputs": [],
   "source": []
  },
  {
   "cell_type": "code",
   "execution_count": 3,
   "id": "7f27b3f0",
   "metadata": {},
   "outputs": [],
   "source": [
    "with open(\"file1.txt\", 'w') as f:\n",
    "    f.write(\"Hello file\")"
   ]
  },
  {
   "cell_type": "code",
   "execution_count": 4,
   "id": "47b9b84f",
   "metadata": {},
   "outputs": [],
   "source": [
    "with open(\"file1.txt\", 'w') as f:\n",
    "    f.write(\"Hello i am line\")"
   ]
  },
  {
   "cell_type": "code",
   "execution_count": 5,
   "id": "8f685ace",
   "metadata": {},
   "outputs": [
    {
     "name": "stdout",
     "output_type": "stream",
     "text": [
      "Hello i am line\n"
     ]
    }
   ],
   "source": [
    "with open(\"file1.txt\", 'r') as f:\n",
    "    print(f.read())"
   ]
  },
  {
   "cell_type": "code",
   "execution_count": 7,
   "id": "60585b29",
   "metadata": {},
   "outputs": [],
   "source": [
    "with open(\"file1.txt\", 'a') as f:\n",
    "    f.write(\"Hello i am line \\n\")\n",
    "    f.write(\"Hello i am line\\n\")\n",
    "    f.write(\"Hello i am line\\n\")\n",
    "    f.write(\"Hello i am line\\n\")\n",
    "    f.write(\"Hello i am line\\n\")\n",
    "    f.write(\"Hello i am line\\n\")\n",
    "    f.write(\"Hello i am line\\n\")\n",
    "    f.write(\"Hello i am line\\n\")"
   ]
  },
  {
   "cell_type": "code",
   "execution_count": 9,
   "id": "723a9734",
   "metadata": {},
   "outputs": [
    {
     "name": "stdout",
     "output_type": "stream",
     "text": [
      "Hello i am line\n"
     ]
    }
   ],
   "source": [
    "with open(\"file2.txt\", 'w+') as f:\n",
    "    f.write(\"Hello i am line\")\n",
    "    f.seek(0)\n",
    "    cont = f.read()\n",
    "    print(cont)"
   ]
  },
  {
   "cell_type": "code",
   "execution_count": null,
   "id": "16fa965a",
   "metadata": {},
   "outputs": [],
   "source": [
    "with open(\"file1.txt\", 'r+') as f:\n",
    "    f.write(\"Hello i am line\")"
   ]
  },
  {
   "cell_type": "code",
   "execution_count": 15,
   "id": "e4f3e6c1",
   "metadata": {},
   "outputs": [
    {
     "name": "stdout",
     "output_type": "stream",
     "text": [
      "['Year', 'Event', 'Winner']\n",
      "['1995', 'Best-Kept Lawn', 'None']\n",
      "['1999', 'Gobstones', 'Welch National']\n",
      "['2006', 'World Cup', 'Burkina Faso']\n"
     ]
    }
   ],
   "source": [
    "import csv\n",
    "with open(\"comp.csv\") as f:\n",
    "    content = csv.reader(f)\n",
    "    for rec in content:\n",
    "        print(rec)"
   ]
  },
  {
   "cell_type": "code",
   "execution_count": 10,
   "id": "74c129b2",
   "metadata": {},
   "outputs": [
    {
     "name": "stdout",
     "output_type": "stream",
     "text": [
      "['Name', 'address', 'id']\n",
      "['Noah', 'Abc street', '1']\n",
      "['Waqas', 'ijk', '2']\n"
     ]
    }
   ],
   "source": [
    "import csv\n",
    "with open ('file2.csv') as file2:\n",
    "    textfile= csv.reader(file2)\n",
    "    for i in textfile:\n",
    "        print(i)"
   ]
  },
  {
   "cell_type": "code",
   "execution_count": null,
   "id": "a063de07",
   "metadata": {},
   "outputs": [],
   "source": [
    "import csv\n",
    "with open(\"comp1.csv\",\"w\",) as f:\n",
    "    content = csv.reader(f)\n",
    "    for rec in content:\n",
    "        print(rec)"
   ]
  },
  {
   "cell_type": "code",
   "execution_count": null,
   "id": "e9c070c7",
   "metadata": {},
   "outputs": [],
   "source": []
  },
  {
   "cell_type": "code",
   "execution_count": 23,
   "id": "99f95979",
   "metadata": {},
   "outputs": [],
   "source": [
    "import json\n",
    "student1 = {\n",
    "    \"first name\": \"David\",\n",
    "\"last name\": \"Elliott\",\n",
    "\"address\": \"4803 Wellesley St.\"\n",
    "}"
   ]
  },
  {
   "cell_type": "code",
   "execution_count": 24,
   "id": "9ccdb9a1",
   "metadata": {},
   "outputs": [],
   "source": [
    "with open (\"file1.json\", \"w\") as jsonfile:\n",
    "    json.dump(student1, jsonfile)"
   ]
  },
  {
   "cell_type": "code",
   "execution_count": 26,
   "id": "566e8d56",
   "metadata": {},
   "outputs": [],
   "source": [
    "student2 = {\n",
    "    \n",
    "    \n",
    "    \"first name\": \"Nasir\",\n",
    "\"last name\": \"Hussain\",\n",
    "\"address\": \"XYZ St.\"\n",
    "}\n",
    "\n",
    "with open (\"file1.json\", \"a+\") as jsonfile:\n",
    "    \n",
    "    json.dump(student2,jsonfile)"
   ]
  },
  {
   "cell_type": "code",
   "execution_count": 17,
   "id": "b6681055",
   "metadata": {},
   "outputs": [],
   "source": [
    "import json\n",
    "customer_29876 = {\n",
    "\"first name\": \"David\",\n",
    "\"last name\": \"Elliott\",\n",
    "\"address\": \"4803 Wellesley St.\"}\n",
    "\n",
    "with open(\"abc.json\",\"w\") as f :\n",
    "    json.dump(customer_29876,f)"
   ]
  },
  {
   "cell_type": "code",
   "execution_count": 28,
   "id": "425e51fc",
   "metadata": {},
   "outputs": [
    {
     "data": {
      "text/plain": [
       "'Nasir'"
      ]
     },
     "execution_count": 28,
     "metadata": {},
     "output_type": "execute_result"
    }
   ],
   "source": [
    "student2['first name']"
   ]
  },
  {
   "cell_type": "code",
   "execution_count": null,
   "id": "bfd5f422",
   "metadata": {},
   "outputs": [],
   "source": []
  },
  {
   "cell_type": "code",
   "execution_count": 19,
   "id": "7c6652c1",
   "metadata": {},
   "outputs": [],
   "source": [
    "with open(\"newfile.json\",\"r\") as f :\n",
    "    data = json.load(f)"
   ]
  },
  {
   "cell_type": "code",
   "execution_count": 20,
   "id": "93e4f87d",
   "metadata": {},
   "outputs": [
    {
     "data": {
      "text/plain": [
       "{'first name': 'David',\n",
       " 'last name': 'Elliott',\n",
       " 'address': '4803 Wellesley St.'}"
      ]
     },
     "execution_count": 20,
     "metadata": {},
     "output_type": "execute_result"
    }
   ],
   "source": [
    "data"
   ]
  },
  {
   "cell_type": "code",
   "execution_count": 21,
   "id": "f4de9f92",
   "metadata": {},
   "outputs": [
    {
     "data": {
      "text/plain": [
       "'David'"
      ]
     },
     "execution_count": 21,
     "metadata": {},
     "output_type": "execute_result"
    }
   ],
   "source": [
    "data['first name']"
   ]
  },
  {
   "cell_type": "code",
   "execution_count": null,
   "id": "2f7c0aca",
   "metadata": {},
   "outputs": [],
   "source": []
  }
 ],
 "metadata": {
  "kernelspec": {
   "display_name": "Python 3 (ipykernel)",
   "language": "python",
   "name": "python3"
  },
  "language_info": {
   "codemirror_mode": {
    "name": "ipython",
    "version": 3
   },
   "file_extension": ".py",
   "mimetype": "text/x-python",
   "name": "python",
   "nbconvert_exporter": "python",
   "pygments_lexer": "ipython3",
   "version": "3.9.7"
  }
 },
 "nbformat": 4,
 "nbformat_minor": 5
}
