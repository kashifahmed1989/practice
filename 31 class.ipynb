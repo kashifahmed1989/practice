{
 "cells": [
  {
   "cell_type": "markdown",
   "id": "4aa4304c",
   "metadata": {},
   "source": [
    "# business intelligence (BI) is a technology-driven process for analyzing data and delivering actionable information that helps executives, managers and workers make informed business decisions"
   ]
  },
  {
   "cell_type": "markdown",
   "id": "bf716939",
   "metadata": {},
   "source": [
    "ttps://www.google.com/search?q=business+intelligence&source=lnms&tbm=isch&sa=X&ved=2ahUKEwjC64n2tIX6AhVfhv0HHYR7DggQ_AUoAXoECAIQAw&biw=1366&bih=625&dpr=1#imgrc=mxQtCMGdD9Z5VM"
   ]
  },
  {
   "cell_type": "markdown",
   "id": "d1a59f9e",
   "metadata": {},
   "source": [
    "# Download Power BI using this link OR Go to microsoft store and Downloaded it from there.\n",
    "\n",
    "https://apps.microsoft.com/store/detail/power-bi-desktop/9NTXR16HNW1T?hl=en-us&gl=us\n",
    "\n",
    "OR\n",
    "\n",
    "\n",
    "Download Power BI desktop using free exe file using this link!\n",
    "\n",
    "https://www.microsoft.com/en-us/download/details.aspx?id=58494"
   ]
  }
 ],
 "metadata": {
  "kernelspec": {
   "display_name": "Python 3 (ipykernel)",
   "language": "python",
   "name": "python3"
  },
  "language_info": {
   "codemirror_mode": {
    "name": "ipython",
    "version": 3
   },
   "file_extension": ".py",
   "mimetype": "text/x-python",
   "name": "python",
   "nbconvert_exporter": "python",
   "pygments_lexer": "ipython3",
   "version": "3.9.7"
  }
 },
 "nbformat": 4,
 "nbformat_minor": 5
}
