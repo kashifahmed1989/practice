{
 "cells": [
  {
   "cell_type": "code",
   "execution_count": 1,
   "id": "3b2db21e",
   "metadata": {},
   "outputs": [],
   "source": [
    "class Human():\n",
    "    def __init__(self,name,gender,age):\n",
    "        self.name= name\n",
    "        self.gender= gender\n",
    "        self.age= age\n",
    "    \n",
    "    def live(self):\n",
    "        print(f\"{self.name} is live\")\n",
    "    \n",
    "    def daide(self):\n",
    "        print(f\"{self.name} is live\")\n",
    "    "
   ]
  },
  {
   "cell_type": "code",
   "execution_count": 2,
   "id": "6bacf55a",
   "metadata": {},
   "outputs": [],
   "source": [
    "Human1= Human(\"kashif\",\"male\",30,)"
   ]
  },
  {
   "cell_type": "code",
   "execution_count": 3,
   "id": "5e48fdd4",
   "metadata": {},
   "outputs": [
    {
     "data": {
      "text/plain": [
       "'kashif'"
      ]
     },
     "execution_count": 3,
     "metadata": {},
     "output_type": "execute_result"
    }
   ],
   "source": [
    "Human1.name"
   ]
  },
  {
   "cell_type": "code",
   "execution_count": 4,
   "id": "1fa1ba5b",
   "metadata": {},
   "outputs": [],
   "source": [
    "class student(Human):\n",
    "    pass\n",
    "    "
   ]
  },
  {
   "cell_type": "code",
   "execution_count": 5,
   "id": "e8b4c365",
   "metadata": {},
   "outputs": [],
   "source": [
    "student1= student(\"jaffery\",\"male\",24)"
   ]
  },
  {
   "cell_type": "code",
   "execution_count": 6,
   "id": "86a01292",
   "metadata": {},
   "outputs": [
    {
     "name": "stdout",
     "output_type": "stream",
     "text": [
      "jaffery is live\n"
     ]
    }
   ],
   "source": [
    "student1.live()"
   ]
  },
  {
   "cell_type": "code",
   "execution_count": 7,
   "id": "576789e9",
   "metadata": {},
   "outputs": [],
   "source": [
    "class teacher(Human):\n",
    "    def __init__(self,name,gender,age,qualification):\n",
    "        super().__init__(name,gender,age)\n",
    "        self.qualification= qualification\n",
    "    \n",
    "    def teaching(self):\n",
    "        print(f\" the {self.name} is qualified {self.qualification} and teaching to \")"
   ]
  },
  {
   "cell_type": "code",
   "execution_count": 8,
   "id": "50e2002f",
   "metadata": {},
   "outputs": [],
   "source": [
    "teacher1= teacher(\"Nasir\", \"male\",35,\"MA\")"
   ]
  },
  {
   "cell_type": "code",
   "execution_count": 9,
   "id": "14f9cfce",
   "metadata": {},
   "outputs": [
    {
     "name": "stdout",
     "output_type": "stream",
     "text": [
      " the Nasir is qualified MA and teaching to \n"
     ]
    }
   ],
   "source": [
    "teacher1.teaching()"
   ]
  },
  {
   "cell_type": "code",
   "execution_count": 10,
   "id": "149b1de3",
   "metadata": {},
   "outputs": [],
   "source": [
    "class Car():\n",
    " \n",
    "    def __init__(self, make, model, year):\n",
    "        self.make = make\n",
    "        self.model = model\n",
    "        self.year = year\n",
    "        self.odometer_reading = 0\n",
    "\n",
    "    def get_descriptive_name(self):\n",
    "        long_name = str(self.year) + ' ' + self.make + ' ' + self.model\n",
    "        return long_name.title()\n",
    "\n",
    "    def read_odometer(self):\n",
    "        print(\"This car has \" + str(self.odometer_reading) + \" miles on it.\")\n",
    "\n",
    "    def update_odometer(self, mileage):\n",
    "        if mileage >= self.odometer_reading:\n",
    "            self.odometer_reading = mileage\n",
    "        else:\n",
    "            print(\"You can't roll back an odometer!\")\n",
    "\n",
    "    def increment_odometer(self, miles):\n",
    "        self.odometer_reading += miles"
   ]
  },
  {
   "cell_type": "code",
   "execution_count": 11,
   "id": "f8be991c",
   "metadata": {},
   "outputs": [],
   "source": [
    "class ElectricCar(Car):\n",
    "    def __init__(self, make, model, year):\n",
    " \n",
    "        super().__init__(make, model, year)\n",
    "        #super()takes you to the parent class initializer"
   ]
  },
  {
   "cell_type": "code",
   "execution_count": 16,
   "id": "4dcc2fe2",
   "metadata": {},
   "outputs": [],
   "source": [
    "class Battery():\n",
    "    def __init__(self,manuf, cells,amp):\n",
    "        self.manuf =manuf\n",
    "        self.cells =cells\n",
    "        self.amp =amp\n",
    "        \n",
    "    def outPut(self):\n",
    "        print(f\"{self.amp}\")\n",
    "    \n",
    "    def describeBattery(self):\n",
    "        print(f\"\"\"\n",
    "        Manufacturer: {self.manuf}\n",
    "        Number of Cells: {self.cells}\n",
    "        \"\"\")\n",
    "\n",
    "\n",
    "class ElectricCar(Car):\n",
    "    def __init__(self, make, model, year):\n",
    " \n",
    "        super().__init__(make, model, year)\n",
    "        #super()takes you to the parent class initializer\n",
    "        self.battery = Battery(\"Exide\",27,200)\n",
    "        self.tyre=Tyre(\"Bridgestone\", 205,15,8.4,)\n",
    "     \n",
    "        \n",
    "    def describe_battery(self):\n",
    "         print(\"This car has a \" + str(self.battery_size) + \"-kWh battery.\")\n",
    "    \n",
    "    def fill_gas_tank(self):\n",
    "        print(\"This car doesn't need a gas tank!\")\n",
    "\n",
    "\n",
    "\n",
    "class Car():\n",
    " \n",
    "    def __init__(self, make, model, year):\n",
    "        self.make = make\n",
    "        self.model = model\n",
    "        self.year = year\n",
    "        self.odometer_reading = 0\n",
    "\n",
    "    def get_descriptive_name(self):\n",
    "        long_name = str(self.year) + ' ' + self.make + ' ' + self.model\n",
    "        return long_name.title()\n",
    "\n",
    "    def read_odometer(self):\n",
    "        print(\"This car has \" + str(self.odometer_reading) + \" miles on it.\")\n",
    "\n",
    "    def update_odometer(self, mileage):\n",
    "        if mileage >= self.odometer_reading:\n",
    "            self.odometer_reading = mileage\n",
    "        else:\n",
    "            print(\"You can't roll back an odometer!\")\n",
    "\n",
    "    def increment_odometer(self, miles):\n",
    "        self.odometer_reading += miles\n",
    "    \n",
    "    def fill_gas_tank(self):\n",
    "        print(\"Gas tank is being filled\")"
   ]
  },
  {
   "cell_type": "code",
   "execution_count": null,
   "id": "057cfdea",
   "metadata": {},
   "outputs": [],
   "source": [
    "class Tyre():\n",
    "     \n",
    "    def __init__(self, manufacturer, width, rim_diameter, grip_score, load):\n",
    "        self.width = width\n",
    "        self.rim_diameter = rim_diameter\n",
    "        self.grip = grip_score\n",
    "        self.load = load\n",
    "        self.manufacturer = manufacturer\n",
    "        \n",
    "    def tyre_load(self):\n",
    "        print(f\"This tyre can pick upto {self.load} tons of load in a single time! \")\n",
    "    \n",
    "    def tyre_description(self):\n",
    "        print(f\"\"\"\n",
    "        Manufacturer: {self.manufacturer}\n",
    "        Grip of Tyre: {self.grip_score}\n",
    "        Width of Tyre : {self.width}\n",
    "        Rim Diameter of Tyre: {self.rim_diameter}\n",
    "        \"\"\")\n",
    "    "
   ]
  },
  {
   "cell_type": "code",
   "execution_count": null,
   "id": "792eaff4",
   "metadata": {},
   "outputs": [],
   "source": [
    "from car import Car"
   ]
  },
  {
   "cell_type": "code",
   "execution_count": null,
   "id": "fc72fd7e",
   "metadata": {},
   "outputs": [],
   "source": [
    "car1= Car('Toyatoa', 'Corolla',2021)"
   ]
  },
  {
   "cell_type": "code",
   "execution_count": null,
   "id": "e762d615",
   "metadata": {},
   "outputs": [],
   "source": [
    "car1.fill_gas_tank()"
   ]
  },
  {
   "cell_type": "code",
   "execution_count": null,
   "id": "ff11673e",
   "metadata": {},
   "outputs": [],
   "source": [
    "from car import ElectricCar"
   ]
  },
  {
   "cell_type": "code",
   "execution_count": 13,
   "id": "c58a5b47",
   "metadata": {},
   "outputs": [],
   "source": [
    "eCar1= ElectricCar('Tasla','Model',2022)"
   ]
  },
  {
   "cell_type": "code",
   "execution_count": 15,
   "id": "23c8b637",
   "metadata": {},
   "outputs": [
    {
     "data": {
      "text/plain": [
       "'2022 Tasla Model'"
      ]
     },
     "execution_count": 15,
     "metadata": {},
     "output_type": "execute_result"
    }
   ],
   "source": [
    "eCar1.get_descriptive_name()"
   ]
  }
 ],
 "metadata": {
  "kernelspec": {
   "display_name": "Python 3 (ipykernel)",
   "language": "python",
   "name": "python3"
  },
  "language_info": {
   "codemirror_mode": {
    "name": "ipython",
    "version": 3
   },
   "file_extension": ".py",
   "mimetype": "text/x-python",
   "name": "python",
   "nbconvert_exporter": "python",
   "pygments_lexer": "ipython3",
   "version": "3.9.7"
  }
 },
 "nbformat": 4,
 "nbformat_minor": 5
}
