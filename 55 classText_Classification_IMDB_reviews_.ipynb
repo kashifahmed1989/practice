{
  "nbformat": 4,
  "nbformat_minor": 0,
  "metadata": {
    "colab": {
      "provenance": []
    },
    "kernelspec": {
      "name": "python3",
      "display_name": "Python 3"
    },
    "language_info": {
      "name": "python"
    }
  },
  "cells": [
    {
      "cell_type": "code",
      "execution_count": null,
      "metadata": {
        "id": "peQYWaEtdcl0"
      },
      "outputs": [],
      "source": [
        "import tensorflow \n",
        "from tensorflow.keras.datasets import imdb"
      ]
    },
    {
      "cell_type": "code",
      "source": [
        "(train_data, train_labels), (test_data, test_labels) = imdb.load_data(num_words=10000)"
      ],
      "metadata": {
        "id": "Ji8x_EFCdp_-"
      },
      "execution_count": null,
      "outputs": []
    },
    {
      "cell_type": "code",
      "source": [
        "test_data[0]\n"
      ],
      "metadata": {
        "colab": {
          "base_uri": "https://localhost:8080/"
        },
        "id": "g0GGDHKmd7zt",
        "outputId": "a099b3da-a8f3-4907-9767-a039679bfb07"
      },
      "execution_count": null,
      "outputs": [
        {
          "output_type": "execute_result",
          "data": {
            "text/plain": [
              "[1,\n",
              " 591,\n",
              " 202,\n",
              " 14,\n",
              " 31,\n",
              " 6,\n",
              " 717,\n",
              " 10,\n",
              " 10,\n",
              " 2,\n",
              " 2,\n",
              " 5,\n",
              " 4,\n",
              " 360,\n",
              " 7,\n",
              " 4,\n",
              " 177,\n",
              " 5760,\n",
              " 394,\n",
              " 354,\n",
              " 4,\n",
              " 123,\n",
              " 9,\n",
              " 1035,\n",
              " 1035,\n",
              " 1035,\n",
              " 10,\n",
              " 10,\n",
              " 13,\n",
              " 92,\n",
              " 124,\n",
              " 89,\n",
              " 488,\n",
              " 7944,\n",
              " 100,\n",
              " 28,\n",
              " 1668,\n",
              " 14,\n",
              " 31,\n",
              " 23,\n",
              " 27,\n",
              " 7479,\n",
              " 29,\n",
              " 220,\n",
              " 468,\n",
              " 8,\n",
              " 124,\n",
              " 14,\n",
              " 286,\n",
              " 170,\n",
              " 8,\n",
              " 157,\n",
              " 46,\n",
              " 5,\n",
              " 27,\n",
              " 239,\n",
              " 16,\n",
              " 179,\n",
              " 2,\n",
              " 38,\n",
              " 32,\n",
              " 25,\n",
              " 7944,\n",
              " 451,\n",
              " 202,\n",
              " 14,\n",
              " 6,\n",
              " 717]"
            ]
          },
          "metadata": {},
          "execution_count": 9
        }
      ]
    },
    {
      "cell_type": "code",
      "source": [
        "import numpy as np\n",
        "def vectorize_sequences(sequences, dimension=10000):\n",
        "  results = np.zeros((len(sequences), dimension))\n",
        "  for i, sequence in enumerate(sequences):\n",
        "    results[i, sequence] = 1.\n",
        "  return results\n"
      ],
      "metadata": {
        "id": "q-oQBq6ogEFU"
      },
      "execution_count": null,
      "outputs": []
    },
    {
      "cell_type": "code",
      "source": [
        "x_train = vectorize_sequences(train_data)\n",
        "x_test = vectorize_sequences(test_data)\n"
      ],
      "metadata": {
        "id": "ZTeZ2I_znJN9"
      },
      "execution_count": null,
      "outputs": []
    },
    {
      "cell_type": "code",
      "source": [
        "y_train = np.asarray(train_labels).astype('float32')\n",
        "y_test = np.asarray(test_labels).astype('float32')"
      ],
      "metadata": {
        "id": "r1P_Rxa5oEpM"
      },
      "execution_count": null,
      "outputs": []
    },
    {
      "cell_type": "code",
      "source": [
        "from tensorflow.keras import models\n",
        "from tensorflow.keras import layers\n",
        "model = models.Sequential()\n",
        "model.add(layers.Dense(16, activation='relu', input_shape=(10000,)))\n",
        "model.add(layers.Dense(16, activation='relu'))\n",
        "model.add(layers.Dense(1, activation='sigmoid'))"
      ],
      "metadata": {
        "id": "4EOyuKJnpZE7"
      },
      "execution_count": null,
      "outputs": []
    },
    {
      "cell_type": "code",
      "source": [
        "from keras import losses\n",
        "from keras import optimizers\n",
        "from keras import metrics\n",
        "# model.compile(optimizer='rmsprop',loss='binary_crossentropy',metrics=['accuracy'])\n",
        "model.compile(optimizer=optimizers.RMSprop(lr=0.001),loss=losses.binary_crossentropy,metrics=[metrics.binary_accuracy])\n"
      ],
      "metadata": {
        "colab": {
          "base_uri": "https://localhost:8080/"
        },
        "id": "UIwaO3xxqrmp",
        "outputId": "646419b7-b16d-450a-8653-410408cf0d6f"
      },
      "execution_count": null,
      "outputs": [
        {
          "output_type": "stream",
          "name": "stderr",
          "text": [
            "/usr/local/lib/python3.8/dist-packages/keras/optimizers/optimizer_v2/rmsprop.py:135: UserWarning: The `lr` argument is deprecated, use `learning_rate` instead.\n",
            "  super(RMSprop, self).__init__(name, **kwargs)\n"
          ]
        }
      ]
    },
    {
      "cell_type": "code",
      "source": [
        "x_val = x_train[:10000]\n",
        "partial_x_train = x_train[10000:]\n",
        "\n",
        "y_val = y_train[:10000]\n",
        "partial_y_train = y_train[10000:]\n"
      ],
      "metadata": {
        "id": "G-1HwzXUqzlh"
      },
      "execution_count": null,
      "outputs": []
    },
    {
      "cell_type": "code",
      "source": [
        "history = model.fit(partial_x_train,partial_y_train,epochs=20,batch_size=512,validation_data=(x_val, y_val),verbose=0)\n"
      ],
      "metadata": {
        "id": "rTd-tbBvrk6B"
      },
      "execution_count": null,
      "outputs": []
    },
    {
      "cell_type": "code",
      "source": [
        "history_dict = history.history"
      ],
      "metadata": {
        "id": "Ed3w1CxK0gKp"
      },
      "execution_count": null,
      "outputs": []
    },
    {
      "cell_type": "code",
      "source": [
        "import pandas as pd\n",
        "pd.DataFrame(history_dict)"
      ],
      "metadata": {
        "colab": {
          "base_uri": "https://localhost:8080/",
          "height": 676
        },
        "id": "DgagdwUO0qfw",
        "outputId": "7a9edc1c-55c7-4d38-de01-3b259f4f08fb"
      },
      "execution_count": null,
      "outputs": [
        {
          "output_type": "execute_result",
          "data": {
            "text/plain": [
              "        loss  binary_accuracy  val_loss  val_binary_accuracy\n",
              "0   0.527781         0.772333  0.415182               0.8346\n",
              "1   0.311758         0.899467  0.321323               0.8783\n",
              "2   0.223139         0.928467  0.279786               0.8912\n",
              "3   0.179077         0.938867  0.275390               0.8878\n",
              "4   0.143247         0.954267  0.289417               0.8864\n",
              "5   0.121676         0.961800  0.295847               0.8843\n",
              "6   0.097795         0.972133  0.315709               0.8806\n",
              "7   0.084947         0.972800  0.343975               0.8770\n",
              "8   0.066504         0.982600  0.365501               0.8783\n",
              "9   0.056468         0.985933  0.390965               0.8779\n",
              "10  0.046310         0.988533  0.424090               0.8721\n",
              "11  0.038394         0.991067  0.478349               0.8680\n",
              "12  0.031026         0.992933  0.483064               0.8699\n",
              "13  0.022676         0.995933  0.510597               0.8697\n",
              "14  0.019518         0.996533  0.539031               0.8701\n",
              "15  0.014423         0.998200  0.578055               0.8685\n",
              "16  0.013047         0.998000  0.611071               0.8669\n",
              "17  0.011560         0.997800  0.645004               0.8683\n",
              "18  0.005333         0.999867  0.674594               0.8688\n",
              "19  0.011201         0.997267  0.722429               0.8646"
            ],
            "text/html": [
              "\n",
              "  <div id=\"df-572f0c67-9a33-41f9-a7a1-e379971281c7\">\n",
              "    <div class=\"colab-df-container\">\n",
              "      <div>\n",
              "<style scoped>\n",
              "    .dataframe tbody tr th:only-of-type {\n",
              "        vertical-align: middle;\n",
              "    }\n",
              "\n",
              "    .dataframe tbody tr th {\n",
              "        vertical-align: top;\n",
              "    }\n",
              "\n",
              "    .dataframe thead th {\n",
              "        text-align: right;\n",
              "    }\n",
              "</style>\n",
              "<table border=\"1\" class=\"dataframe\">\n",
              "  <thead>\n",
              "    <tr style=\"text-align: right;\">\n",
              "      <th></th>\n",
              "      <th>loss</th>\n",
              "      <th>binary_accuracy</th>\n",
              "      <th>val_loss</th>\n",
              "      <th>val_binary_accuracy</th>\n",
              "    </tr>\n",
              "  </thead>\n",
              "  <tbody>\n",
              "    <tr>\n",
              "      <th>0</th>\n",
              "      <td>0.527781</td>\n",
              "      <td>0.772333</td>\n",
              "      <td>0.415182</td>\n",
              "      <td>0.8346</td>\n",
              "    </tr>\n",
              "    <tr>\n",
              "      <th>1</th>\n",
              "      <td>0.311758</td>\n",
              "      <td>0.899467</td>\n",
              "      <td>0.321323</td>\n",
              "      <td>0.8783</td>\n",
              "    </tr>\n",
              "    <tr>\n",
              "      <th>2</th>\n",
              "      <td>0.223139</td>\n",
              "      <td>0.928467</td>\n",
              "      <td>0.279786</td>\n",
              "      <td>0.8912</td>\n",
              "    </tr>\n",
              "    <tr>\n",
              "      <th>3</th>\n",
              "      <td>0.179077</td>\n",
              "      <td>0.938867</td>\n",
              "      <td>0.275390</td>\n",
              "      <td>0.8878</td>\n",
              "    </tr>\n",
              "    <tr>\n",
              "      <th>4</th>\n",
              "      <td>0.143247</td>\n",
              "      <td>0.954267</td>\n",
              "      <td>0.289417</td>\n",
              "      <td>0.8864</td>\n",
              "    </tr>\n",
              "    <tr>\n",
              "      <th>5</th>\n",
              "      <td>0.121676</td>\n",
              "      <td>0.961800</td>\n",
              "      <td>0.295847</td>\n",
              "      <td>0.8843</td>\n",
              "    </tr>\n",
              "    <tr>\n",
              "      <th>6</th>\n",
              "      <td>0.097795</td>\n",
              "      <td>0.972133</td>\n",
              "      <td>0.315709</td>\n",
              "      <td>0.8806</td>\n",
              "    </tr>\n",
              "    <tr>\n",
              "      <th>7</th>\n",
              "      <td>0.084947</td>\n",
              "      <td>0.972800</td>\n",
              "      <td>0.343975</td>\n",
              "      <td>0.8770</td>\n",
              "    </tr>\n",
              "    <tr>\n",
              "      <th>8</th>\n",
              "      <td>0.066504</td>\n",
              "      <td>0.982600</td>\n",
              "      <td>0.365501</td>\n",
              "      <td>0.8783</td>\n",
              "    </tr>\n",
              "    <tr>\n",
              "      <th>9</th>\n",
              "      <td>0.056468</td>\n",
              "      <td>0.985933</td>\n",
              "      <td>0.390965</td>\n",
              "      <td>0.8779</td>\n",
              "    </tr>\n",
              "    <tr>\n",
              "      <th>10</th>\n",
              "      <td>0.046310</td>\n",
              "      <td>0.988533</td>\n",
              "      <td>0.424090</td>\n",
              "      <td>0.8721</td>\n",
              "    </tr>\n",
              "    <tr>\n",
              "      <th>11</th>\n",
              "      <td>0.038394</td>\n",
              "      <td>0.991067</td>\n",
              "      <td>0.478349</td>\n",
              "      <td>0.8680</td>\n",
              "    </tr>\n",
              "    <tr>\n",
              "      <th>12</th>\n",
              "      <td>0.031026</td>\n",
              "      <td>0.992933</td>\n",
              "      <td>0.483064</td>\n",
              "      <td>0.8699</td>\n",
              "    </tr>\n",
              "    <tr>\n",
              "      <th>13</th>\n",
              "      <td>0.022676</td>\n",
              "      <td>0.995933</td>\n",
              "      <td>0.510597</td>\n",
              "      <td>0.8697</td>\n",
              "    </tr>\n",
              "    <tr>\n",
              "      <th>14</th>\n",
              "      <td>0.019518</td>\n",
              "      <td>0.996533</td>\n",
              "      <td>0.539031</td>\n",
              "      <td>0.8701</td>\n",
              "    </tr>\n",
              "    <tr>\n",
              "      <th>15</th>\n",
              "      <td>0.014423</td>\n",
              "      <td>0.998200</td>\n",
              "      <td>0.578055</td>\n",
              "      <td>0.8685</td>\n",
              "    </tr>\n",
              "    <tr>\n",
              "      <th>16</th>\n",
              "      <td>0.013047</td>\n",
              "      <td>0.998000</td>\n",
              "      <td>0.611071</td>\n",
              "      <td>0.8669</td>\n",
              "    </tr>\n",
              "    <tr>\n",
              "      <th>17</th>\n",
              "      <td>0.011560</td>\n",
              "      <td>0.997800</td>\n",
              "      <td>0.645004</td>\n",
              "      <td>0.8683</td>\n",
              "    </tr>\n",
              "    <tr>\n",
              "      <th>18</th>\n",
              "      <td>0.005333</td>\n",
              "      <td>0.999867</td>\n",
              "      <td>0.674594</td>\n",
              "      <td>0.8688</td>\n",
              "    </tr>\n",
              "    <tr>\n",
              "      <th>19</th>\n",
              "      <td>0.011201</td>\n",
              "      <td>0.997267</td>\n",
              "      <td>0.722429</td>\n",
              "      <td>0.8646</td>\n",
              "    </tr>\n",
              "  </tbody>\n",
              "</table>\n",
              "</div>\n",
              "      <button class=\"colab-df-convert\" onclick=\"convertToInteractive('df-572f0c67-9a33-41f9-a7a1-e379971281c7')\"\n",
              "              title=\"Convert this dataframe to an interactive table.\"\n",
              "              style=\"display:none;\">\n",
              "        \n",
              "  <svg xmlns=\"http://www.w3.org/2000/svg\" height=\"24px\"viewBox=\"0 0 24 24\"\n",
              "       width=\"24px\">\n",
              "    <path d=\"M0 0h24v24H0V0z\" fill=\"none\"/>\n",
              "    <path d=\"M18.56 5.44l.94 2.06.94-2.06 2.06-.94-2.06-.94-.94-2.06-.94 2.06-2.06.94zm-11 1L8.5 8.5l.94-2.06 2.06-.94-2.06-.94L8.5 2.5l-.94 2.06-2.06.94zm10 10l.94 2.06.94-2.06 2.06-.94-2.06-.94-.94-2.06-.94 2.06-2.06.94z\"/><path d=\"M17.41 7.96l-1.37-1.37c-.4-.4-.92-.59-1.43-.59-.52 0-1.04.2-1.43.59L10.3 9.45l-7.72 7.72c-.78.78-.78 2.05 0 2.83L4 21.41c.39.39.9.59 1.41.59.51 0 1.02-.2 1.41-.59l7.78-7.78 2.81-2.81c.8-.78.8-2.07 0-2.86zM5.41 20L4 18.59l7.72-7.72 1.47 1.35L5.41 20z\"/>\n",
              "  </svg>\n",
              "      </button>\n",
              "      \n",
              "  <style>\n",
              "    .colab-df-container {\n",
              "      display:flex;\n",
              "      flex-wrap:wrap;\n",
              "      gap: 12px;\n",
              "    }\n",
              "\n",
              "    .colab-df-convert {\n",
              "      background-color: #E8F0FE;\n",
              "      border: none;\n",
              "      border-radius: 50%;\n",
              "      cursor: pointer;\n",
              "      display: none;\n",
              "      fill: #1967D2;\n",
              "      height: 32px;\n",
              "      padding: 0 0 0 0;\n",
              "      width: 32px;\n",
              "    }\n",
              "\n",
              "    .colab-df-convert:hover {\n",
              "      background-color: #E2EBFA;\n",
              "      box-shadow: 0px 1px 2px rgba(60, 64, 67, 0.3), 0px 1px 3px 1px rgba(60, 64, 67, 0.15);\n",
              "      fill: #174EA6;\n",
              "    }\n",
              "\n",
              "    [theme=dark] .colab-df-convert {\n",
              "      background-color: #3B4455;\n",
              "      fill: #D2E3FC;\n",
              "    }\n",
              "\n",
              "    [theme=dark] .colab-df-convert:hover {\n",
              "      background-color: #434B5C;\n",
              "      box-shadow: 0px 1px 3px 1px rgba(0, 0, 0, 0.15);\n",
              "      filter: drop-shadow(0px 1px 2px rgba(0, 0, 0, 0.3));\n",
              "      fill: #FFFFFF;\n",
              "    }\n",
              "  </style>\n",
              "\n",
              "      <script>\n",
              "        const buttonEl =\n",
              "          document.querySelector('#df-572f0c67-9a33-41f9-a7a1-e379971281c7 button.colab-df-convert');\n",
              "        buttonEl.style.display =\n",
              "          google.colab.kernel.accessAllowed ? 'block' : 'none';\n",
              "\n",
              "        async function convertToInteractive(key) {\n",
              "          const element = document.querySelector('#df-572f0c67-9a33-41f9-a7a1-e379971281c7');\n",
              "          const dataTable =\n",
              "            await google.colab.kernel.invokeFunction('convertToInteractive',\n",
              "                                                     [key], {});\n",
              "          if (!dataTable) return;\n",
              "\n",
              "          const docLinkHtml = 'Like what you see? Visit the ' +\n",
              "            '<a target=\"_blank\" href=https://colab.research.google.com/notebooks/data_table.ipynb>data table notebook</a>'\n",
              "            + ' to learn more about interactive tables.';\n",
              "          element.innerHTML = '';\n",
              "          dataTable['output_type'] = 'display_data';\n",
              "          await google.colab.output.renderOutput(dataTable, element);\n",
              "          const docLink = document.createElement('div');\n",
              "          docLink.innerHTML = docLinkHtml;\n",
              "          element.appendChild(docLink);\n",
              "        }\n",
              "      </script>\n",
              "    </div>\n",
              "  </div>\n",
              "  "
            ]
          },
          "metadata": {},
          "execution_count": 18
        }
      ]
    },
    {
      "cell_type": "code",
      "source": [
        " history_dict.keys()"
      ],
      "metadata": {
        "colab": {
          "base_uri": "https://localhost:8080/"
        },
        "id": "qP4PHoID0tUB",
        "outputId": "5a206475-6b18-402c-b06e-c0a679c40a18"
      },
      "execution_count": null,
      "outputs": [
        {
          "output_type": "execute_result",
          "data": {
            "text/plain": [
              "dict_keys(['loss', 'binary_accuracy', 'val_loss', 'val_binary_accuracy'])"
            ]
          },
          "metadata": {},
          "execution_count": 24
        }
      ]
    },
    {
      "cell_type": "code",
      "source": [
        "import matplotlib.pyplot as plt\n",
        "\n",
        "# history_dict = history.history\n",
        "\n",
        "loss_values = history_dict['loss']\n",
        "val_loss_values = history_dict['val_loss']\n",
        "epochs = range(1, len(loss_values) + 1)\n",
        "plt.plot(epochs, loss_values, 'bo', label='Training loss')\n",
        "plt.plot(epochs, val_loss_values, 'b', label='Validation loss')\n",
        "plt.title('Training and validation loss')\n",
        "plt.xlabel('Epochs')\n",
        "plt.ylabel('Loss')\n",
        "plt.legend()\n",
        "plt.show()"
      ],
      "metadata": {
        "colab": {
          "base_uri": "https://localhost:8080/",
          "height": 295
        },
        "id": "vZo9P4Fs1O4J",
        "outputId": "fbdfae90-1334-4526-c0a0-02354c3cd456"
      },
      "execution_count": null,
      "outputs": [
        {
          "output_type": "display_data",
          "data": {
            "text/plain": [
              "<Figure size 432x288 with 1 Axes>"
            ],
            "image/png": "[encoded data removed]"
          },
          "metadata": {
            "needs_background": "light"
          }
        }
      ]
    },
    {
      "cell_type": "code",
      "source": [
        "acc_values = history_dict['binary_accuracy']\n",
        "val_acc_values = history_dict['val_binary_accuracy']\n",
        "plt.plot(epochs, acc_values, 'bo', label='Training acc')\n",
        "plt.plot(epochs, val_acc_values, 'b', label='Validation acc')\n",
        "plt.title('Training and validation accuracy')\n",
        "plt.xlabel('Epochs')\n",
        "plt.ylabel('Loss')\n",
        "plt.legend()\n",
        "plt.show()"
      ],
      "metadata": {
        "colab": {
          "base_uri": "https://localhost:8080/",
          "height": 295
        },
        "id": "RiQBY8mM1sLB",
        "outputId": "5209b992-35a6-47b5-9147-2ba55422316c"
      },
      "execution_count": null,
      "outputs": [
        {
          "output_type": "display_data",
          "data": {
            "text/plain": [
              "<Figure size 432x288 with 1 Axes>"
            ],
            "image/png": "[encoded data removed]"
          },
          "metadata": {
            "needs_background": "light"
          }
        }
      ]
    },
    {
      "cell_type": "code",
      "source": [
        "from tensorflow.keras import models\n",
        "from tensorflow.keras import layers\n",
        "model = models.Sequential()\n",
        "model.add(layers.Dense(16, activation='relu', input_shape=(10000,)))\n",
        "model.add(layers.Dense(16, activation='relu'))\n",
        "model.add(layers.Dense(1, activation='sigmoid'))\n",
        "model.compile(optimizer='rmsprop',loss='binary_crossentropy',metrics=['accuracy'])\n",
        "model.fit(x_train, y_train, epochs=3, batch_size=512)\n",
        "results = model.evaluate(x_test, y_test)"
      ],
      "metadata": {
        "colab": {
          "base_uri": "https://localhost:8080/"
        },
        "id": "var7jR2g2m2v",
        "outputId": "0cb8841d-016b-40bf-a7f6-e174b8743d8e"
      },
      "execution_count": null,
      "outputs": [
        {
          "output_type": "stream",
          "name": "stdout",
          "text": [
            "Epoch 1/3\n",
            "49/49 [==============================] - 2s 29ms/step - loss: 0.4984 - accuracy: 0.8102\n",
            "Epoch 2/3\n",
            "49/49 [==============================] - 1s 28ms/step - loss: 0.2874 - accuracy: 0.9048\n",
            "Epoch 3/3\n",
            "49/49 [==============================] - 1s 28ms/step - loss: 0.2125 - accuracy: 0.9279\n",
            "782/782 [==============================] - 2s 2ms/step - loss: 0.3018 - accuracy: 0.8785\n"
          ]
        }
      ]
    },
    {
      "cell_type": "code",
      "source": [
        "results = model.evaluate(x_test, y_test)"
      ],
      "metadata": {
        "colab": {
          "base_uri": "https://localhost:8080/"
        },
        "id": "p4nm_gtf30AH",
        "outputId": "78648c7c-b2d6-42c6-da97-3c95fbfb52e7"
      },
      "execution_count": null,
      "outputs": [
        {
          "output_type": "stream",
          "name": "stdout",
          "text": [
            "782/782 [==============================] - 2s 2ms/step - loss: 0.3018 - accuracy: 0.8785\n"
          ]
        }
      ]
    },
    {
      "cell_type": "code",
      "source": [],
      "metadata": {
        "id": "PQIoAxoo397m"
      },
      "execution_count": null,
      "outputs": []
    }
  ]
}