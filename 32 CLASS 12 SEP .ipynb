{
 "cells": [
  {
   "cell_type": "code",
   "execution_count": 1,
   "id": "04ec6518",
   "metadata": {},
   "outputs": [],
   "source": [
    "import pandas as pd"
   ]
  },
  {
   "cell_type": "markdown",
   "id": "c5aa6eec",
   "metadata": {},
   "source": [
    "Pandas\n",
    "  - Series \n",
    "  - Data frames "
   ]
  },
  {
   "cell_type": "markdown",
   "id": "0a7012ac",
   "metadata": {},
   "source": [
    "#### Creating a series using a python list"
   ]
  },
  {
   "cell_type": "code",
   "execution_count": 2,
   "id": "c7873170",
   "metadata": {},
   "outputs": [],
   "source": [
    "s1 = pd.Series([11,22,33,44,55,66,77,88])"
   ]
  },
  {
   "cell_type": "code",
   "execution_count": 3,
   "id": "40833059",
   "metadata": {},
   "outputs": [
    {
     "data": {
      "text/plain": [
       "0    11\n",
       "1    22\n",
       "2    33\n",
       "3    44\n",
       "4    55\n",
       "5    66\n",
       "6    77\n",
       "7    88\n",
       "dtype: int64"
      ]
     },
     "execution_count": 3,
     "metadata": {},
     "output_type": "execute_result"
    }
   ],
   "source": [
    "s1"
   ]
  },
  {
   "cell_type": "code",
   "execution_count": 4,
   "id": "907ec625",
   "metadata": {},
   "outputs": [],
   "source": [
    "s2  = pd.Series([11,22,33,44,55,66,77,88],['one', 'two', 'three', 'four', 'five', 'six' ,'seven' ,'eight'])"
   ]
  },
  {
   "cell_type": "code",
   "execution_count": 5,
   "id": "b8831700",
   "metadata": {},
   "outputs": [
    {
     "data": {
      "text/plain": [
       "one      11\n",
       "two      22\n",
       "three    33\n",
       "four     44\n",
       "five     55\n",
       "six      66\n",
       "seven    77\n",
       "eight    88\n",
       "dtype: int64"
      ]
     },
     "execution_count": 5,
     "metadata": {},
     "output_type": "execute_result"
    }
   ],
   "source": [
    "s2"
   ]
  },
  {
   "cell_type": "code",
   "execution_count": 6,
   "id": "a67d8648",
   "metadata": {},
   "outputs": [
    {
     "data": {
      "text/plain": [
       "22"
      ]
     },
     "execution_count": 6,
     "metadata": {},
     "output_type": "execute_result"
    }
   ],
   "source": [
    "s2['two']"
   ]
  },
  {
   "cell_type": "code",
   "execution_count": 9,
   "id": "0c0e548f",
   "metadata": {},
   "outputs": [
    {
     "data": {
      "text/plain": [
       "two     22\n",
       "four    44\n",
       "six     66\n",
       "dtype: int64"
      ]
     },
     "execution_count": 9,
     "metadata": {},
     "output_type": "execute_result"
    }
   ],
   "source": [
    "s2['two':\"six\"]"
   ]
  },
  {
   "cell_type": "code",
   "execution_count": 8,
   "id": "e9eee742",
   "metadata": {},
   "outputs": [
    {
     "data": {
      "text/plain": [
       "three    33\n",
       "four     44\n",
       "five     55\n",
       "six      66\n",
       "dtype: int64"
      ]
     },
     "execution_count": 8,
     "metadata": {},
     "output_type": "execute_result"
    }
   ],
   "source": [
    "s2[2:6]"
   ]
  },
  {
   "cell_type": "code",
   "execution_count": 10,
   "id": "0ed0040d",
   "metadata": {},
   "outputs": [
    {
     "data": {
      "text/plain": [
       "array([11, 22, 33, 44, 55, 66, 77, 88], dtype=int64)"
      ]
     },
     "execution_count": 10,
     "metadata": {},
     "output_type": "execute_result"
    }
   ],
   "source": [
    "s2.values"
   ]
  },
  {
   "cell_type": "code",
   "execution_count": 11,
   "id": "8afb935f",
   "metadata": {},
   "outputs": [
    {
     "data": {
      "text/plain": [
       "Index(['one', 'two', 'three', 'four', 'five', 'six', 'seven', 'eight'], dtype='object')"
      ]
     },
     "execution_count": 11,
     "metadata": {},
     "output_type": "execute_result"
    }
   ],
   "source": [
    "s2.index"
   ]
  },
  {
   "cell_type": "code",
   "execution_count": 12,
   "id": "dd3ec8c5",
   "metadata": {},
   "outputs": [],
   "source": [
    "s2.index = ['a','b','c','d','e','f','g','h']"
   ]
  },
  {
   "cell_type": "code",
   "execution_count": 13,
   "id": "d74b7d34",
   "metadata": {},
   "outputs": [
    {
     "data": {
      "text/plain": [
       "a    11\n",
       "b    22\n",
       "c    33\n",
       "d    44\n",
       "e    55\n",
       "f    66\n",
       "g    77\n",
       "h    88\n",
       "dtype: int64"
      ]
     },
     "execution_count": 13,
     "metadata": {},
     "output_type": "execute_result"
    }
   ],
   "source": [
    "s2"
   ]
  },
  {
   "cell_type": "code",
   "execution_count": 16,
   "id": "7780a455",
   "metadata": {},
   "outputs": [
    {
     "data": {
      "text/plain": [
       "dtype('int32')"
      ]
     },
     "execution_count": 16,
     "metadata": {},
     "output_type": "execute_result"
    }
   ],
   "source": [
    "import numpy as np\n",
    "a = np.arange(10)\n"
   ]
  },
  {
   "cell_type": "code",
   "execution_count": 19,
   "id": "6d9a9fc0",
   "metadata": {},
   "outputs": [
    {
     "data": {
      "text/plain": [
       "e    55\n",
       "f    66\n",
       "g    77\n",
       "h    88\n",
       "dtype: int64"
      ]
     },
     "execution_count": 19,
     "metadata": {},
     "output_type": "execute_result"
    }
   ],
   "source": [
    "s2[s2>44]"
   ]
  },
  {
   "cell_type": "code",
   "execution_count": 20,
   "id": "94ba99f8",
   "metadata": {},
   "outputs": [
    {
     "data": {
      "text/plain": [
       "a    110\n",
       "b    220\n",
       "c    330\n",
       "d    440\n",
       "e    550\n",
       "f    660\n",
       "g    770\n",
       "h    880\n",
       "dtype: int64"
      ]
     },
     "execution_count": 20,
     "metadata": {},
     "output_type": "execute_result"
    }
   ],
   "source": [
    "s2*10"
   ]
  },
  {
   "cell_type": "code",
   "execution_count": 21,
   "id": "c37bd9e9",
   "metadata": {},
   "outputs": [
    {
     "data": {
      "text/plain": [
       "Ohio      35000\n",
       "Texas     71000\n",
       "Oregon    16000\n",
       "Utah       5000\n",
       "dtype: int64"
      ]
     },
     "execution_count": 21,
     "metadata": {},
     "output_type": "execute_result"
    }
   ],
   "source": [
    "sdata = {'Ohio': 35000, 'Texas': 71000, 'Oregon': 16000, 'Utah': 5000}\n",
    "s3 = pd.Series(sdata)\n",
    "s3"
   ]
  },
  {
   "cell_type": "code",
   "execution_count": 22,
   "id": "b4b0a2ca",
   "metadata": {},
   "outputs": [
    {
     "data": {
      "text/plain": [
       "array([35000, 71000, 16000,  5000], dtype=int64)"
      ]
     },
     "execution_count": 22,
     "metadata": {},
     "output_type": "execute_result"
    }
   ],
   "source": [
    "s3.values"
   ]
  },
  {
   "cell_type": "code",
   "execution_count": 23,
   "id": "3d462146",
   "metadata": {},
   "outputs": [
    {
     "data": {
      "text/plain": [
       "Index(['Ohio', 'Texas', 'Oregon', 'Utah'], dtype='object')"
      ]
     },
     "execution_count": 23,
     "metadata": {},
     "output_type": "execute_result"
    }
   ],
   "source": [
    "s3.index"
   ]
  },
  {
   "cell_type": "code",
   "execution_count": 25,
   "id": "1a65332f",
   "metadata": {},
   "outputs": [
    {
     "data": {
      "text/plain": [
       "Ohio      35000\n",
       "Texas     71000\n",
       "Oregon    16000\n",
       "Utah       5000\n",
       "dtype: int64"
      ]
     },
     "execution_count": 25,
     "metadata": {},
     "output_type": "execute_result"
    }
   ],
   "source": [
    "s3"
   ]
  },
  {
   "cell_type": "markdown",
   "id": "8fce5b94",
   "metadata": {},
   "source": [
    "###### Creating a series from an existing series or dictionary "
   ]
  },
  {
   "cell_type": "code",
   "execution_count": 29,
   "id": "9f2ecf8d",
   "metadata": {},
   "outputs": [
    {
     "data": {
      "text/plain": [
       "California        NaN\n",
       "Ohio          35000.0\n",
       "Oregon        16000.0\n",
       "Texas         71000.0\n",
       "NY                NaN\n",
       "dtype: float64"
      ]
     },
     "execution_count": 29,
     "metadata": {},
     "output_type": "execute_result"
    }
   ],
   "source": [
    "states = ['California', 'Ohio', 'Oregon', 'Texas',\"NY\"]\n",
    "s4 =pd.Series(s3, index=states)\n",
    "s4"
   ]
  },
  {
   "cell_type": "code",
   "execution_count": 31,
   "id": "5c046ea8",
   "metadata": {},
   "outputs": [
    {
     "data": {
      "text/plain": [
       "2"
      ]
     },
     "execution_count": 31,
     "metadata": {},
     "output_type": "execute_result"
    }
   ],
   "source": [
    "s4.isnull().sum()"
   ]
  },
  {
   "cell_type": "code",
   "execution_count": 33,
   "id": "2fcf7f1c",
   "metadata": {},
   "outputs": [
    {
     "data": {
      "text/plain": [
       "3"
      ]
     },
     "execution_count": 33,
     "metadata": {},
     "output_type": "execute_result"
    }
   ],
   "source": [
    "s4.notnull().sum()"
   ]
  },
  {
   "cell_type": "markdown",
   "id": "c677354c",
   "metadata": {},
   "source": [
    "Note:\n",
    "\n",
    "    Nan + Nan = NaN\n",
    "    \n",
    "    NaN + Value = Nan\n",
    "    \n",
    "    Value + NaN  = Nan\n",
    "    \n",
    "    Value + Value = Value"
   ]
  },
  {
   "cell_type": "code",
   "execution_count": 39,
   "id": "c4647c9f",
   "metadata": {},
   "outputs": [],
   "source": [
    "s5 = pd.Series([2000,3000,4000,5000,6000])\n",
    "s6 = pd.Series([np.nan, 2000,6000, np.nan, 5000])"
   ]
  },
  {
   "cell_type": "code",
   "execution_count": 40,
   "id": "d33ca2c2",
   "metadata": {},
   "outputs": [
    {
     "data": {
      "text/plain": [
       "0    2000\n",
       "1    3000\n",
       "2    4000\n",
       "3    5000\n",
       "4    6000\n",
       "dtype: int64"
      ]
     },
     "execution_count": 40,
     "metadata": {},
     "output_type": "execute_result"
    }
   ],
   "source": [
    "s5"
   ]
  },
  {
   "cell_type": "code",
   "execution_count": 41,
   "id": "8afc1baa",
   "metadata": {},
   "outputs": [
    {
     "data": {
      "text/plain": [
       "0       NaN\n",
       "1    2000.0\n",
       "2    6000.0\n",
       "3       NaN\n",
       "4    5000.0\n",
       "dtype: float64"
      ]
     },
     "execution_count": 41,
     "metadata": {},
     "output_type": "execute_result"
    }
   ],
   "source": [
    "s6"
   ]
  },
  {
   "cell_type": "code",
   "execution_count": 42,
   "id": "2fccc779",
   "metadata": {},
   "outputs": [
    {
     "data": {
      "text/plain": [
       "0        NaN\n",
       "1     5000.0\n",
       "2    10000.0\n",
       "3        NaN\n",
       "4    11000.0\n",
       "dtype: float64"
      ]
     },
     "execution_count": 42,
     "metadata": {},
     "output_type": "execute_result"
    }
   ],
   "source": [
    "s5 + s6 "
   ]
  },
  {
   "cell_type": "code",
   "execution_count": 43,
   "id": "955c4194",
   "metadata": {},
   "outputs": [
    {
     "data": {
      "text/plain": [
       "0            NaN\n",
       "1            NaN\n",
       "2            NaN\n",
       "3            NaN\n",
       "4            NaN\n",
       "California   NaN\n",
       "NY           NaN\n",
       "Ohio         NaN\n",
       "Oregon       NaN\n",
       "Texas        NaN\n",
       "dtype: float64"
      ]
     },
     "execution_count": 43,
     "metadata": {},
     "output_type": "execute_result"
    }
   ],
   "source": [
    "s5+ s4"
   ]
  },
  {
   "cell_type": "markdown",
   "id": "7c454042",
   "metadata": {},
   "source": [
    "# DataFrame"
   ]
  },
  {
   "cell_type": "code",
   "execution_count": 52,
   "id": "d21623f7",
   "metadata": {},
   "outputs": [],
   "source": [
    "data = {\n",
    "        'state': ['Ohio', 'Ohio', 'Ohio', 'Nevada', 'Nevada', 'Nevada'],\n",
    "        'year' : [2000, 2001, 2002, 2001, 2002, 2003],\n",
    "        'pop'  : [1.5, 1.7, 3.6, 2.4, 2.9, 3.2]\n",
    "       }"
   ]
  },
  {
   "cell_type": "code",
   "execution_count": 53,
   "id": "4fe2a9fc",
   "metadata": {},
   "outputs": [
    {
     "data": {
      "text/html": [
       "<div>\n",
       "<style scoped>\n",
       "    .dataframe tbody tr th:only-of-type {\n",
       "        vertical-align: middle;\n",
       "    }\n",
       "\n",
       "    .dataframe tbody tr th {\n",
       "        vertical-align: top;\n",
       "    }\n",
       "\n",
       "    .dataframe thead th {\n",
       "        text-align: right;\n",
       "    }\n",
       "</style>\n",
       "<table border=\"1\" class=\"dataframe\">\n",
       "  <thead>\n",
       "    <tr style=\"text-align: right;\">\n",
       "      <th></th>\n",
       "      <th>state</th>\n",
       "      <th>year</th>\n",
       "      <th>pop</th>\n",
       "    </tr>\n",
       "  </thead>\n",
       "  <tbody>\n",
       "    <tr>\n",
       "      <td>0</td>\n",
       "      <td>Ohio</td>\n",
       "      <td>2000</td>\n",
       "      <td>1.5</td>\n",
       "    </tr>\n",
       "    <tr>\n",
       "      <td>1</td>\n",
       "      <td>Ohio</td>\n",
       "      <td>2001</td>\n",
       "      <td>1.7</td>\n",
       "    </tr>\n",
       "    <tr>\n",
       "      <td>2</td>\n",
       "      <td>Ohio</td>\n",
       "      <td>2002</td>\n",
       "      <td>3.6</td>\n",
       "    </tr>\n",
       "    <tr>\n",
       "      <td>3</td>\n",
       "      <td>Nevada</td>\n",
       "      <td>2001</td>\n",
       "      <td>2.4</td>\n",
       "    </tr>\n",
       "    <tr>\n",
       "      <td>4</td>\n",
       "      <td>Nevada</td>\n",
       "      <td>2002</td>\n",
       "      <td>2.9</td>\n",
       "    </tr>\n",
       "    <tr>\n",
       "      <td>5</td>\n",
       "      <td>Nevada</td>\n",
       "      <td>2003</td>\n",
       "      <td>3.2</td>\n",
       "    </tr>\n",
       "  </tbody>\n",
       "</table>\n",
       "</div>"
      ],
      "text/plain": [
       "    state  year  pop\n",
       "0    Ohio  2000  1.5\n",
       "1    Ohio  2001  1.7\n",
       "2    Ohio  2002  3.6\n",
       "3  Nevada  2001  2.4\n",
       "4  Nevada  2002  2.9\n",
       "5  Nevada  2003  3.2"
      ]
     },
     "execution_count": 53,
     "metadata": {},
     "output_type": "execute_result"
    }
   ],
   "source": [
    "dataframe = pd.DataFrame(data)\n",
    "dataframe"
   ]
  },
  {
   "cell_type": "code",
   "execution_count": 55,
   "id": "bf3699c9",
   "metadata": {},
   "outputs": [],
   "source": [
    "result = pd.DataFrame({\"student_name\":['Asad', 'Ali', 'Faheem','Baber', 'Nasir'],\n",
    "                       \"student_roll\":[123,456,321,678,111,],\n",
    "                      \"Paper1\":[90,89,78,76,65],\n",
    "                      \"Paper2\":[80,99,78,78,55],\n",
    "                      \"Paper3\":[60,49,68,86,95]})"
   ]
  },
  {
   "cell_type": "code",
   "execution_count": 56,
   "id": "4fe32fb8",
   "metadata": {},
   "outputs": [
    {
     "data": {
      "text/html": [
       "<div>\n",
       "<style scoped>\n",
       "    .dataframe tbody tr th:only-of-type {\n",
       "        vertical-align: middle;\n",
       "    }\n",
       "\n",
       "    .dataframe tbody tr th {\n",
       "        vertical-align: top;\n",
       "    }\n",
       "\n",
       "    .dataframe thead th {\n",
       "        text-align: right;\n",
       "    }\n",
       "</style>\n",
       "<table border=\"1\" class=\"dataframe\">\n",
       "  <thead>\n",
       "    <tr style=\"text-align: right;\">\n",
       "      <th></th>\n",
       "      <th>student_name</th>\n",
       "      <th>student_roll</th>\n",
       "      <th>Paper1</th>\n",
       "      <th>Paper2</th>\n",
       "      <th>Paper3</th>\n",
       "    </tr>\n",
       "  </thead>\n",
       "  <tbody>\n",
       "    <tr>\n",
       "      <td>0</td>\n",
       "      <td>Asad</td>\n",
       "      <td>123</td>\n",
       "      <td>90</td>\n",
       "      <td>80</td>\n",
       "      <td>60</td>\n",
       "    </tr>\n",
       "    <tr>\n",
       "      <td>1</td>\n",
       "      <td>Ali</td>\n",
       "      <td>456</td>\n",
       "      <td>89</td>\n",
       "      <td>99</td>\n",
       "      <td>49</td>\n",
       "    </tr>\n",
       "    <tr>\n",
       "      <td>2</td>\n",
       "      <td>Faheem</td>\n",
       "      <td>321</td>\n",
       "      <td>78</td>\n",
       "      <td>78</td>\n",
       "      <td>68</td>\n",
       "    </tr>\n",
       "    <tr>\n",
       "      <td>3</td>\n",
       "      <td>Baber</td>\n",
       "      <td>678</td>\n",
       "      <td>76</td>\n",
       "      <td>78</td>\n",
       "      <td>86</td>\n",
       "    </tr>\n",
       "    <tr>\n",
       "      <td>4</td>\n",
       "      <td>Nasir</td>\n",
       "      <td>111</td>\n",
       "      <td>65</td>\n",
       "      <td>55</td>\n",
       "      <td>95</td>\n",
       "    </tr>\n",
       "  </tbody>\n",
       "</table>\n",
       "</div>"
      ],
      "text/plain": [
       "  student_name  student_roll  Paper1  Paper2  Paper3\n",
       "0         Asad           123      90      80      60\n",
       "1          Ali           456      89      99      49\n",
       "2       Faheem           321      78      78      68\n",
       "3        Baber           678      76      78      86\n",
       "4        Nasir           111      65      55      95"
      ]
     },
     "execution_count": 56,
     "metadata": {},
     "output_type": "execute_result"
    }
   ],
   "source": [
    "result"
   ]
  },
  {
   "cell_type": "code",
   "execution_count": 62,
   "id": "2020df5c",
   "metadata": {},
   "outputs": [],
   "source": [
    "mySeries = pd.Series(np.arange(10))\n",
    "newSeries = pd.Series(range(11,21))"
   ]
  },
  {
   "cell_type": "code",
   "execution_count": 66,
   "id": "3d29d762",
   "metadata": {},
   "outputs": [],
   "source": [
    "frame = pd.DataFrame({'key1':mySeries, 'key2':newSeries})"
   ]
  },
  {
   "cell_type": "code",
   "execution_count": 67,
   "id": "d86a4bf4",
   "metadata": {},
   "outputs": [
    {
     "data": {
      "text/html": [
       "<div>\n",
       "<style scoped>\n",
       "    .dataframe tbody tr th:only-of-type {\n",
       "        vertical-align: middle;\n",
       "    }\n",
       "\n",
       "    .dataframe tbody tr th {\n",
       "        vertical-align: top;\n",
       "    }\n",
       "\n",
       "    .dataframe thead th {\n",
       "        text-align: right;\n",
       "    }\n",
       "</style>\n",
       "<table border=\"1\" class=\"dataframe\">\n",
       "  <thead>\n",
       "    <tr style=\"text-align: right;\">\n",
       "      <th></th>\n",
       "      <th>key1</th>\n",
       "      <th>key2</th>\n",
       "    </tr>\n",
       "  </thead>\n",
       "  <tbody>\n",
       "    <tr>\n",
       "      <td>0</td>\n",
       "      <td>0</td>\n",
       "      <td>11</td>\n",
       "    </tr>\n",
       "    <tr>\n",
       "      <td>1</td>\n",
       "      <td>1</td>\n",
       "      <td>12</td>\n",
       "    </tr>\n",
       "    <tr>\n",
       "      <td>2</td>\n",
       "      <td>2</td>\n",
       "      <td>13</td>\n",
       "    </tr>\n",
       "    <tr>\n",
       "      <td>3</td>\n",
       "      <td>3</td>\n",
       "      <td>14</td>\n",
       "    </tr>\n",
       "    <tr>\n",
       "      <td>4</td>\n",
       "      <td>4</td>\n",
       "      <td>15</td>\n",
       "    </tr>\n",
       "    <tr>\n",
       "      <td>5</td>\n",
       "      <td>5</td>\n",
       "      <td>16</td>\n",
       "    </tr>\n",
       "    <tr>\n",
       "      <td>6</td>\n",
       "      <td>6</td>\n",
       "      <td>17</td>\n",
       "    </tr>\n",
       "    <tr>\n",
       "      <td>7</td>\n",
       "      <td>7</td>\n",
       "      <td>18</td>\n",
       "    </tr>\n",
       "    <tr>\n",
       "      <td>8</td>\n",
       "      <td>8</td>\n",
       "      <td>19</td>\n",
       "    </tr>\n",
       "    <tr>\n",
       "      <td>9</td>\n",
       "      <td>9</td>\n",
       "      <td>20</td>\n",
       "    </tr>\n",
       "  </tbody>\n",
       "</table>\n",
       "</div>"
      ],
      "text/plain": [
       "   key1  key2\n",
       "0     0    11\n",
       "1     1    12\n",
       "2     2    13\n",
       "3     3    14\n",
       "4     4    15\n",
       "5     5    16\n",
       "6     6    17\n",
       "7     7    18\n",
       "8     8    19\n",
       "9     9    20"
      ]
     },
     "execution_count": 67,
     "metadata": {},
     "output_type": "execute_result"
    }
   ],
   "source": [
    "frame"
   ]
  },
  {
   "cell_type": "markdown",
   "id": "4cf97023",
   "metadata": {},
   "source": [
    "# Data manupulation\n",
    " - Accessing a complete column\n",
    " - Accessing a complete row\n",
    " - Adding and removing columns\n",
    " - Adding and remving a row\n",
    " "
   ]
  },
  {
   "cell_type": "code",
   "execution_count": 68,
   "id": "11a5c389",
   "metadata": {},
   "outputs": [
    {
     "data": {
      "text/html": [
       "<div>\n",
       "<style scoped>\n",
       "    .dataframe tbody tr th:only-of-type {\n",
       "        vertical-align: middle;\n",
       "    }\n",
       "\n",
       "    .dataframe tbody tr th {\n",
       "        vertical-align: top;\n",
       "    }\n",
       "\n",
       "    .dataframe thead th {\n",
       "        text-align: right;\n",
       "    }\n",
       "</style>\n",
       "<table border=\"1\" class=\"dataframe\">\n",
       "  <thead>\n",
       "    <tr style=\"text-align: right;\">\n",
       "      <th></th>\n",
       "      <th>state</th>\n",
       "      <th>year</th>\n",
       "      <th>pop</th>\n",
       "    </tr>\n",
       "  </thead>\n",
       "  <tbody>\n",
       "    <tr>\n",
       "      <td>0</td>\n",
       "      <td>Ohio</td>\n",
       "      <td>2000</td>\n",
       "      <td>1.5</td>\n",
       "    </tr>\n",
       "    <tr>\n",
       "      <td>1</td>\n",
       "      <td>Ohio</td>\n",
       "      <td>2001</td>\n",
       "      <td>1.7</td>\n",
       "    </tr>\n",
       "    <tr>\n",
       "      <td>2</td>\n",
       "      <td>Ohio</td>\n",
       "      <td>2002</td>\n",
       "      <td>3.6</td>\n",
       "    </tr>\n",
       "    <tr>\n",
       "      <td>3</td>\n",
       "      <td>Nevada</td>\n",
       "      <td>2001</td>\n",
       "      <td>2.4</td>\n",
       "    </tr>\n",
       "    <tr>\n",
       "      <td>4</td>\n",
       "      <td>Nevada</td>\n",
       "      <td>2002</td>\n",
       "      <td>2.9</td>\n",
       "    </tr>\n",
       "    <tr>\n",
       "      <td>5</td>\n",
       "      <td>Nevada</td>\n",
       "      <td>2003</td>\n",
       "      <td>3.2</td>\n",
       "    </tr>\n",
       "  </tbody>\n",
       "</table>\n",
       "</div>"
      ],
      "text/plain": [
       "    state  year  pop\n",
       "0    Ohio  2000  1.5\n",
       "1    Ohio  2001  1.7\n",
       "2    Ohio  2002  3.6\n",
       "3  Nevada  2001  2.4\n",
       "4  Nevada  2002  2.9\n",
       "5  Nevada  2003  3.2"
      ]
     },
     "execution_count": 68,
     "metadata": {},
     "output_type": "execute_result"
    }
   ],
   "source": [
    "dataframe"
   ]
  },
  {
   "cell_type": "code",
   "execution_count": 69,
   "id": "c3df0d8a",
   "metadata": {},
   "outputs": [
    {
     "data": {
      "text/plain": [
       "0      Ohio\n",
       "1      Ohio\n",
       "2      Ohio\n",
       "3    Nevada\n",
       "4    Nevada\n",
       "5    Nevada\n",
       "Name: state, dtype: object"
      ]
     },
     "execution_count": 69,
     "metadata": {},
     "output_type": "execute_result"
    }
   ],
   "source": [
    "dataframe['state']"
   ]
  },
  {
   "cell_type": "code",
   "execution_count": 70,
   "id": "1c502060",
   "metadata": {},
   "outputs": [
    {
     "data": {
      "text/plain": [
       "0    2000\n",
       "1    2001\n",
       "2    2002\n",
       "3    2001\n",
       "4    2002\n",
       "5    2003\n",
       "Name: year, dtype: int64"
      ]
     },
     "execution_count": 70,
     "metadata": {},
     "output_type": "execute_result"
    }
   ],
   "source": [
    "dataframe['year']"
   ]
  },
  {
   "cell_type": "code",
   "execution_count": 71,
   "id": "e12e78e4",
   "metadata": {},
   "outputs": [
    {
     "data": {
      "text/plain": [
       "0    1.5\n",
       "1    1.7\n",
       "2    3.6\n",
       "3    2.4\n",
       "4    2.9\n",
       "5    3.2\n",
       "Name: pop, dtype: float64"
      ]
     },
     "execution_count": 71,
     "metadata": {},
     "output_type": "execute_result"
    }
   ],
   "source": [
    "dataframe['pop']"
   ]
  },
  {
   "cell_type": "code",
   "execution_count": 72,
   "id": "e99b424d",
   "metadata": {},
   "outputs": [
    {
     "data": {
      "text/html": [
       "<div>\n",
       "<style scoped>\n",
       "    .dataframe tbody tr th:only-of-type {\n",
       "        vertical-align: middle;\n",
       "    }\n",
       "\n",
       "    .dataframe tbody tr th {\n",
       "        vertical-align: top;\n",
       "    }\n",
       "\n",
       "    .dataframe thead th {\n",
       "        text-align: right;\n",
       "    }\n",
       "</style>\n",
       "<table border=\"1\" class=\"dataframe\">\n",
       "  <thead>\n",
       "    <tr style=\"text-align: right;\">\n",
       "      <th></th>\n",
       "      <th>state</th>\n",
       "      <th>year</th>\n",
       "      <th>pop</th>\n",
       "    </tr>\n",
       "  </thead>\n",
       "  <tbody>\n",
       "    <tr>\n",
       "      <td>0</td>\n",
       "      <td>Ohio</td>\n",
       "      <td>2000</td>\n",
       "      <td>1.5</td>\n",
       "    </tr>\n",
       "    <tr>\n",
       "      <td>1</td>\n",
       "      <td>Ohio</td>\n",
       "      <td>2001</td>\n",
       "      <td>1.7</td>\n",
       "    </tr>\n",
       "  </tbody>\n",
       "</table>\n",
       "</div>"
      ],
      "text/plain": [
       "  state  year  pop\n",
       "0  Ohio  2000  1.5\n",
       "1  Ohio  2001  1.7"
      ]
     },
     "execution_count": 72,
     "metadata": {},
     "output_type": "execute_result"
    }
   ],
   "source": [
    "dataframe[dataframe['pop']<2]"
   ]
  },
  {
   "cell_type": "code",
   "execution_count": 73,
   "id": "a4f36c31",
   "metadata": {},
   "outputs": [
    {
     "data": {
      "text/html": [
       "<div>\n",
       "<style scoped>\n",
       "    .dataframe tbody tr th:only-of-type {\n",
       "        vertical-align: middle;\n",
       "    }\n",
       "\n",
       "    .dataframe tbody tr th {\n",
       "        vertical-align: top;\n",
       "    }\n",
       "\n",
       "    .dataframe thead th {\n",
       "        text-align: right;\n",
       "    }\n",
       "</style>\n",
       "<table border=\"1\" class=\"dataframe\">\n",
       "  <thead>\n",
       "    <tr style=\"text-align: right;\">\n",
       "      <th></th>\n",
       "      <th>state</th>\n",
       "      <th>year</th>\n",
       "      <th>pop</th>\n",
       "    </tr>\n",
       "  </thead>\n",
       "  <tbody>\n",
       "    <tr>\n",
       "      <td>1</td>\n",
       "      <td>Ohio</td>\n",
       "      <td>2001</td>\n",
       "      <td>1.7</td>\n",
       "    </tr>\n",
       "    <tr>\n",
       "      <td>3</td>\n",
       "      <td>Nevada</td>\n",
       "      <td>2001</td>\n",
       "      <td>2.4</td>\n",
       "    </tr>\n",
       "  </tbody>\n",
       "</table>\n",
       "</div>"
      ],
      "text/plain": [
       "    state  year  pop\n",
       "1    Ohio  2001  1.7\n",
       "3  Nevada  2001  2.4"
      ]
     },
     "execution_count": 73,
     "metadata": {},
     "output_type": "execute_result"
    }
   ],
   "source": [
    "dataframe[dataframe['year']==2001]"
   ]
  },
  {
   "cell_type": "code",
   "execution_count": 80,
   "id": "875dd128",
   "metadata": {},
   "outputs": [
    {
     "data": {
      "text/html": [
       "<div>\n",
       "<style scoped>\n",
       "    .dataframe tbody tr th:only-of-type {\n",
       "        vertical-align: middle;\n",
       "    }\n",
       "\n",
       "    .dataframe tbody tr th {\n",
       "        vertical-align: top;\n",
       "    }\n",
       "\n",
       "    .dataframe thead th {\n",
       "        text-align: right;\n",
       "    }\n",
       "</style>\n",
       "<table border=\"1\" class=\"dataframe\">\n",
       "  <thead>\n",
       "    <tr style=\"text-align: right;\">\n",
       "      <th></th>\n",
       "      <th>state</th>\n",
       "      <th>year</th>\n",
       "      <th>pop</th>\n",
       "    </tr>\n",
       "  </thead>\n",
       "  <tbody>\n",
       "  </tbody>\n",
       "</table>\n",
       "</div>"
      ],
      "text/plain": [
       "Empty DataFrame\n",
       "Columns: [state, year, pop]\n",
       "Index: []"
      ]
     },
     "execution_count": 80,
     "metadata": {},
     "output_type": "execute_result"
    }
   ],
   "source": [
    "dataframe[(dataframe['year']==2001) & (dataframe['state']==\"Ohio\") & (dataframe['pop']>2)]"
   ]
  },
  {
   "cell_type": "markdown",
   "id": "4e9e88ab",
   "metadata": {},
   "source": [
    "# Selecing more than one column"
   ]
  },
  {
   "cell_type": "code",
   "execution_count": 81,
   "id": "87ee6e37",
   "metadata": {},
   "outputs": [
    {
     "data": {
      "text/html": [
       "<div>\n",
       "<style scoped>\n",
       "    .dataframe tbody tr th:only-of-type {\n",
       "        vertical-align: middle;\n",
       "    }\n",
       "\n",
       "    .dataframe tbody tr th {\n",
       "        vertical-align: top;\n",
       "    }\n",
       "\n",
       "    .dataframe thead th {\n",
       "        text-align: right;\n",
       "    }\n",
       "</style>\n",
       "<table border=\"1\" class=\"dataframe\">\n",
       "  <thead>\n",
       "    <tr style=\"text-align: right;\">\n",
       "      <th></th>\n",
       "      <th>student_name</th>\n",
       "      <th>student_roll</th>\n",
       "      <th>Paper1</th>\n",
       "      <th>Paper2</th>\n",
       "      <th>Paper3</th>\n",
       "    </tr>\n",
       "  </thead>\n",
       "  <tbody>\n",
       "    <tr>\n",
       "      <td>0</td>\n",
       "      <td>Asad</td>\n",
       "      <td>123</td>\n",
       "      <td>90</td>\n",
       "      <td>80</td>\n",
       "      <td>60</td>\n",
       "    </tr>\n",
       "    <tr>\n",
       "      <td>1</td>\n",
       "      <td>Ali</td>\n",
       "      <td>456</td>\n",
       "      <td>89</td>\n",
       "      <td>99</td>\n",
       "      <td>49</td>\n",
       "    </tr>\n",
       "    <tr>\n",
       "      <td>2</td>\n",
       "      <td>Faheem</td>\n",
       "      <td>321</td>\n",
       "      <td>78</td>\n",
       "      <td>78</td>\n",
       "      <td>68</td>\n",
       "    </tr>\n",
       "    <tr>\n",
       "      <td>3</td>\n",
       "      <td>Baber</td>\n",
       "      <td>678</td>\n",
       "      <td>76</td>\n",
       "      <td>78</td>\n",
       "      <td>86</td>\n",
       "    </tr>\n",
       "    <tr>\n",
       "      <td>4</td>\n",
       "      <td>Nasir</td>\n",
       "      <td>111</td>\n",
       "      <td>65</td>\n",
       "      <td>55</td>\n",
       "      <td>95</td>\n",
       "    </tr>\n",
       "  </tbody>\n",
       "</table>\n",
       "</div>"
      ],
      "text/plain": [
       "  student_name  student_roll  Paper1  Paper2  Paper3\n",
       "0         Asad           123      90      80      60\n",
       "1          Ali           456      89      99      49\n",
       "2       Faheem           321      78      78      68\n",
       "3        Baber           678      76      78      86\n",
       "4        Nasir           111      65      55      95"
      ]
     },
     "execution_count": 81,
     "metadata": {},
     "output_type": "execute_result"
    }
   ],
   "source": [
    "result"
   ]
  },
  {
   "cell_type": "code",
   "execution_count": 82,
   "id": "933df062",
   "metadata": {},
   "outputs": [
    {
     "data": {
      "text/html": [
       "<div>\n",
       "<style scoped>\n",
       "    .dataframe tbody tr th:only-of-type {\n",
       "        vertical-align: middle;\n",
       "    }\n",
       "\n",
       "    .dataframe tbody tr th {\n",
       "        vertical-align: top;\n",
       "    }\n",
       "\n",
       "    .dataframe thead th {\n",
       "        text-align: right;\n",
       "    }\n",
       "</style>\n",
       "<table border=\"1\" class=\"dataframe\">\n",
       "  <thead>\n",
       "    <tr style=\"text-align: right;\">\n",
       "      <th></th>\n",
       "      <th>student_roll</th>\n",
       "      <th>Paper1</th>\n",
       "    </tr>\n",
       "  </thead>\n",
       "  <tbody>\n",
       "    <tr>\n",
       "      <td>0</td>\n",
       "      <td>123</td>\n",
       "      <td>90</td>\n",
       "    </tr>\n",
       "    <tr>\n",
       "      <td>1</td>\n",
       "      <td>456</td>\n",
       "      <td>89</td>\n",
       "    </tr>\n",
       "    <tr>\n",
       "      <td>2</td>\n",
       "      <td>321</td>\n",
       "      <td>78</td>\n",
       "    </tr>\n",
       "    <tr>\n",
       "      <td>3</td>\n",
       "      <td>678</td>\n",
       "      <td>76</td>\n",
       "    </tr>\n",
       "    <tr>\n",
       "      <td>4</td>\n",
       "      <td>111</td>\n",
       "      <td>65</td>\n",
       "    </tr>\n",
       "  </tbody>\n",
       "</table>\n",
       "</div>"
      ],
      "text/plain": [
       "   student_roll  Paper1\n",
       "0           123      90\n",
       "1           456      89\n",
       "2           321      78\n",
       "3           678      76\n",
       "4           111      65"
      ]
     },
     "execution_count": 82,
     "metadata": {},
     "output_type": "execute_result"
    }
   ],
   "source": [
    "result[['student_roll', 'Paper1']]"
   ]
  },
  {
   "cell_type": "code",
   "execution_count": 97,
   "id": "dda4ac38",
   "metadata": {},
   "outputs": [
    {
     "data": {
      "text/html": [
       "<div>\n",
       "<style scoped>\n",
       "    .dataframe tbody tr th:only-of-type {\n",
       "        vertical-align: middle;\n",
       "    }\n",
       "\n",
       "    .dataframe tbody tr th {\n",
       "        vertical-align: top;\n",
       "    }\n",
       "\n",
       "    .dataframe thead th {\n",
       "        text-align: right;\n",
       "    }\n",
       "</style>\n",
       "<table border=\"1\" class=\"dataframe\">\n",
       "  <thead>\n",
       "    <tr style=\"text-align: right;\">\n",
       "      <th></th>\n",
       "      <th>student_name</th>\n",
       "      <th>student_roll</th>\n",
       "      <th>Paper1</th>\n",
       "      <th>Paper2</th>\n",
       "      <th>Paper3</th>\n",
       "    </tr>\n",
       "  </thead>\n",
       "  <tbody>\n",
       "    <tr>\n",
       "      <td>0</td>\n",
       "      <td>Asad</td>\n",
       "      <td>123</td>\n",
       "      <td>90</td>\n",
       "      <td>80</td>\n",
       "      <td>60</td>\n",
       "    </tr>\n",
       "    <tr>\n",
       "      <td>1</td>\n",
       "      <td>Ali</td>\n",
       "      <td>456</td>\n",
       "      <td>89</td>\n",
       "      <td>99</td>\n",
       "      <td>49</td>\n",
       "    </tr>\n",
       "  </tbody>\n",
       "</table>\n",
       "</div>"
      ],
      "text/plain": [
       "  student_name  student_roll  Paper1  Paper2  Paper3\n",
       "0         Asad           123      90      80      60\n",
       "1          Ali           456      89      99      49"
      ]
     },
     "execution_count": 97,
     "metadata": {},
     "output_type": "execute_result"
    }
   ],
   "source": [
    "result[result['student_name'].str.startswith(('a',\"A\"))]"
   ]
  },
  {
   "cell_type": "code",
   "execution_count": 100,
   "id": "5f4d13d7",
   "metadata": {},
   "outputs": [
    {
     "data": {
      "text/html": [
       "<div>\n",
       "<style scoped>\n",
       "    .dataframe tbody tr th:only-of-type {\n",
       "        vertical-align: middle;\n",
       "    }\n",
       "\n",
       "    .dataframe tbody tr th {\n",
       "        vertical-align: top;\n",
       "    }\n",
       "\n",
       "    .dataframe thead th {\n",
       "        text-align: right;\n",
       "    }\n",
       "</style>\n",
       "<table border=\"1\" class=\"dataframe\">\n",
       "  <thead>\n",
       "    <tr style=\"text-align: right;\">\n",
       "      <th></th>\n",
       "      <th>Paper2</th>\n",
       "      <th>Paper3</th>\n",
       "    </tr>\n",
       "  </thead>\n",
       "  <tbody>\n",
       "    <tr>\n",
       "      <td>0</td>\n",
       "      <td>80</td>\n",
       "      <td>60</td>\n",
       "    </tr>\n",
       "    <tr>\n",
       "      <td>1</td>\n",
       "      <td>99</td>\n",
       "      <td>49</td>\n",
       "    </tr>\n",
       "  </tbody>\n",
       "</table>\n",
       "</div>"
      ],
      "text/plain": [
       "   Paper2  Paper3\n",
       "0      80      60\n",
       "1      99      49"
      ]
     },
     "execution_count": 100,
     "metadata": {},
     "output_type": "execute_result"
    }
   ],
   "source": [
    "result[result['student_name'].str.startswith(('a',\"A\"))][['Paper2','Paper3']]"
   ]
  },
  {
   "cell_type": "markdown",
   "id": "2a389c9c",
   "metadata": {},
   "source": [
    "# Adding more columns to existing frame"
   ]
  },
  {
   "cell_type": "code",
   "execution_count": 102,
   "id": "fb55eb8f",
   "metadata": {},
   "outputs": [
    {
     "data": {
      "text/html": [
       "<div>\n",
       "<style scoped>\n",
       "    .dataframe tbody tr th:only-of-type {\n",
       "        vertical-align: middle;\n",
       "    }\n",
       "\n",
       "    .dataframe tbody tr th {\n",
       "        vertical-align: top;\n",
       "    }\n",
       "\n",
       "    .dataframe thead th {\n",
       "        text-align: right;\n",
       "    }\n",
       "</style>\n",
       "<table border=\"1\" class=\"dataframe\">\n",
       "  <thead>\n",
       "    <tr style=\"text-align: right;\">\n",
       "      <th></th>\n",
       "      <th>student_name</th>\n",
       "      <th>student_roll</th>\n",
       "      <th>Paper1</th>\n",
       "      <th>Paper2</th>\n",
       "      <th>Paper3</th>\n",
       "    </tr>\n",
       "  </thead>\n",
       "  <tbody>\n",
       "    <tr>\n",
       "      <td>0</td>\n",
       "      <td>Asad</td>\n",
       "      <td>123</td>\n",
       "      <td>90</td>\n",
       "      <td>80</td>\n",
       "      <td>60</td>\n",
       "    </tr>\n",
       "    <tr>\n",
       "      <td>1</td>\n",
       "      <td>Ali</td>\n",
       "      <td>456</td>\n",
       "      <td>89</td>\n",
       "      <td>99</td>\n",
       "      <td>49</td>\n",
       "    </tr>\n",
       "    <tr>\n",
       "      <td>2</td>\n",
       "      <td>Faheem</td>\n",
       "      <td>321</td>\n",
       "      <td>78</td>\n",
       "      <td>78</td>\n",
       "      <td>68</td>\n",
       "    </tr>\n",
       "    <tr>\n",
       "      <td>3</td>\n",
       "      <td>Baber</td>\n",
       "      <td>678</td>\n",
       "      <td>76</td>\n",
       "      <td>78</td>\n",
       "      <td>86</td>\n",
       "    </tr>\n",
       "    <tr>\n",
       "      <td>4</td>\n",
       "      <td>Nasir</td>\n",
       "      <td>111</td>\n",
       "      <td>65</td>\n",
       "      <td>55</td>\n",
       "      <td>95</td>\n",
       "    </tr>\n",
       "  </tbody>\n",
       "</table>\n",
       "</div>"
      ],
      "text/plain": [
       "  student_name  student_roll  Paper1  Paper2  Paper3\n",
       "0         Asad           123      90      80      60\n",
       "1          Ali           456      89      99      49\n",
       "2       Faheem           321      78      78      68\n",
       "3        Baber           678      76      78      86\n",
       "4        Nasir           111      65      55      95"
      ]
     },
     "execution_count": 102,
     "metadata": {},
     "output_type": "execute_result"
    }
   ],
   "source": [
    "result"
   ]
  },
  {
   "cell_type": "code",
   "execution_count": 106,
   "id": "48184d15",
   "metadata": {},
   "outputs": [
    {
     "data": {
      "text/html": [
       "<div>\n",
       "<style scoped>\n",
       "    .dataframe tbody tr th:only-of-type {\n",
       "        vertical-align: middle;\n",
       "    }\n",
       "\n",
       "    .dataframe tbody tr th {\n",
       "        vertical-align: top;\n",
       "    }\n",
       "\n",
       "    .dataframe thead th {\n",
       "        text-align: right;\n",
       "    }\n",
       "</style>\n",
       "<table border=\"1\" class=\"dataframe\">\n",
       "  <thead>\n",
       "    <tr style=\"text-align: right;\">\n",
       "      <th></th>\n",
       "      <th>student_name</th>\n",
       "      <th>student_roll</th>\n",
       "      <th>Paper1</th>\n",
       "      <th>Paper2</th>\n",
       "      <th>Paper3</th>\n",
       "      <th>Total</th>\n",
       "      <th>Test</th>\n",
       "    </tr>\n",
       "  </thead>\n",
       "  <tbody>\n",
       "    <tr>\n",
       "      <td>0</td>\n",
       "      <td>Asad</td>\n",
       "      <td>123</td>\n",
       "      <td>90</td>\n",
       "      <td>80</td>\n",
       "      <td>60</td>\n",
       "      <td>100</td>\n",
       "      <td>3</td>\n",
       "    </tr>\n",
       "    <tr>\n",
       "      <td>1</td>\n",
       "      <td>Ali</td>\n",
       "      <td>456</td>\n",
       "      <td>89</td>\n",
       "      <td>99</td>\n",
       "      <td>49</td>\n",
       "      <td>100</td>\n",
       "      <td>4</td>\n",
       "    </tr>\n",
       "    <tr>\n",
       "      <td>2</td>\n",
       "      <td>Faheem</td>\n",
       "      <td>321</td>\n",
       "      <td>78</td>\n",
       "      <td>78</td>\n",
       "      <td>68</td>\n",
       "      <td>100</td>\n",
       "      <td>5</td>\n",
       "    </tr>\n",
       "    <tr>\n",
       "      <td>3</td>\n",
       "      <td>Baber</td>\n",
       "      <td>678</td>\n",
       "      <td>76</td>\n",
       "      <td>78</td>\n",
       "      <td>86</td>\n",
       "      <td>100</td>\n",
       "      <td>6</td>\n",
       "    </tr>\n",
       "    <tr>\n",
       "      <td>4</td>\n",
       "      <td>Nasir</td>\n",
       "      <td>111</td>\n",
       "      <td>65</td>\n",
       "      <td>55</td>\n",
       "      <td>95</td>\n",
       "      <td>100</td>\n",
       "      <td>7</td>\n",
       "    </tr>\n",
       "  </tbody>\n",
       "</table>\n",
       "</div>"
      ],
      "text/plain": [
       "  student_name  student_roll  Paper1  Paper2  Paper3  Total  Test\n",
       "0         Asad           123      90      80      60    100     3\n",
       "1          Ali           456      89      99      49    100     4\n",
       "2       Faheem           321      78      78      68    100     5\n",
       "3        Baber           678      76      78      86    100     6\n",
       "4        Nasir           111      65      55      95    100     7"
      ]
     },
     "execution_count": 106,
     "metadata": {},
     "output_type": "execute_result"
    }
   ],
   "source": [
    "result['Total'] = 100\n",
    "result"
   ]
  },
  {
   "cell_type": "code",
   "execution_count": 107,
   "id": "cf6fa04e",
   "metadata": {},
   "outputs": [
    {
     "data": {
      "text/html": [
       "<div>\n",
       "<style scoped>\n",
       "    .dataframe tbody tr th:only-of-type {\n",
       "        vertical-align: middle;\n",
       "    }\n",
       "\n",
       "    .dataframe tbody tr th {\n",
       "        vertical-align: top;\n",
       "    }\n",
       "\n",
       "    .dataframe thead th {\n",
       "        text-align: right;\n",
       "    }\n",
       "</style>\n",
       "<table border=\"1\" class=\"dataframe\">\n",
       "  <thead>\n",
       "    <tr style=\"text-align: right;\">\n",
       "      <th></th>\n",
       "      <th>student_name</th>\n",
       "      <th>student_roll</th>\n",
       "      <th>Paper1</th>\n",
       "      <th>Paper2</th>\n",
       "      <th>Paper3</th>\n",
       "      <th>Total</th>\n",
       "      <th>Test</th>\n",
       "    </tr>\n",
       "  </thead>\n",
       "  <tbody>\n",
       "    <tr>\n",
       "      <td>0</td>\n",
       "      <td>Asad</td>\n",
       "      <td>123</td>\n",
       "      <td>90</td>\n",
       "      <td>80</td>\n",
       "      <td>60</td>\n",
       "      <td>230</td>\n",
       "      <td>3</td>\n",
       "    </tr>\n",
       "    <tr>\n",
       "      <td>1</td>\n",
       "      <td>Ali</td>\n",
       "      <td>456</td>\n",
       "      <td>89</td>\n",
       "      <td>99</td>\n",
       "      <td>49</td>\n",
       "      <td>237</td>\n",
       "      <td>4</td>\n",
       "    </tr>\n",
       "    <tr>\n",
       "      <td>2</td>\n",
       "      <td>Faheem</td>\n",
       "      <td>321</td>\n",
       "      <td>78</td>\n",
       "      <td>78</td>\n",
       "      <td>68</td>\n",
       "      <td>224</td>\n",
       "      <td>5</td>\n",
       "    </tr>\n",
       "    <tr>\n",
       "      <td>3</td>\n",
       "      <td>Baber</td>\n",
       "      <td>678</td>\n",
       "      <td>76</td>\n",
       "      <td>78</td>\n",
       "      <td>86</td>\n",
       "      <td>240</td>\n",
       "      <td>6</td>\n",
       "    </tr>\n",
       "    <tr>\n",
       "      <td>4</td>\n",
       "      <td>Nasir</td>\n",
       "      <td>111</td>\n",
       "      <td>65</td>\n",
       "      <td>55</td>\n",
       "      <td>95</td>\n",
       "      <td>215</td>\n",
       "      <td>7</td>\n",
       "    </tr>\n",
       "  </tbody>\n",
       "</table>\n",
       "</div>"
      ],
      "text/plain": [
       "  student_name  student_roll  Paper1  Paper2  Paper3  Total  Test\n",
       "0         Asad           123      90      80      60    230     3\n",
       "1          Ali           456      89      99      49    237     4\n",
       "2       Faheem           321      78      78      68    224     5\n",
       "3        Baber           678      76      78      86    240     6\n",
       "4        Nasir           111      65      55      95    215     7"
      ]
     },
     "execution_count": 107,
     "metadata": {},
     "output_type": "execute_result"
    }
   ],
   "source": [
    "result['Total'] = result['Paper1'] + result['Paper2']+ result[\"Paper3\"]\n",
    "result"
   ]
  },
  {
   "cell_type": "code",
   "execution_count": 105,
   "id": "d8968e0d",
   "metadata": {},
   "outputs": [
    {
     "data": {
      "text/html": [
       "<div>\n",
       "<style scoped>\n",
       "    .dataframe tbody tr th:only-of-type {\n",
       "        vertical-align: middle;\n",
       "    }\n",
       "\n",
       "    .dataframe tbody tr th {\n",
       "        vertical-align: top;\n",
       "    }\n",
       "\n",
       "    .dataframe thead th {\n",
       "        text-align: right;\n",
       "    }\n",
       "</style>\n",
       "<table border=\"1\" class=\"dataframe\">\n",
       "  <thead>\n",
       "    <tr style=\"text-align: right;\">\n",
       "      <th></th>\n",
       "      <th>student_name</th>\n",
       "      <th>student_roll</th>\n",
       "      <th>Paper1</th>\n",
       "      <th>Paper2</th>\n",
       "      <th>Paper3</th>\n",
       "      <th>Total</th>\n",
       "      <th>Test</th>\n",
       "    </tr>\n",
       "  </thead>\n",
       "  <tbody>\n",
       "    <tr>\n",
       "      <td>0</td>\n",
       "      <td>Asad</td>\n",
       "      <td>123</td>\n",
       "      <td>90</td>\n",
       "      <td>80</td>\n",
       "      <td>60</td>\n",
       "      <td>230</td>\n",
       "      <td>3</td>\n",
       "    </tr>\n",
       "    <tr>\n",
       "      <td>1</td>\n",
       "      <td>Ali</td>\n",
       "      <td>456</td>\n",
       "      <td>89</td>\n",
       "      <td>99</td>\n",
       "      <td>49</td>\n",
       "      <td>237</td>\n",
       "      <td>4</td>\n",
       "    </tr>\n",
       "    <tr>\n",
       "      <td>2</td>\n",
       "      <td>Faheem</td>\n",
       "      <td>321</td>\n",
       "      <td>78</td>\n",
       "      <td>78</td>\n",
       "      <td>68</td>\n",
       "      <td>224</td>\n",
       "      <td>5</td>\n",
       "    </tr>\n",
       "    <tr>\n",
       "      <td>3</td>\n",
       "      <td>Baber</td>\n",
       "      <td>678</td>\n",
       "      <td>76</td>\n",
       "      <td>78</td>\n",
       "      <td>86</td>\n",
       "      <td>240</td>\n",
       "      <td>6</td>\n",
       "    </tr>\n",
       "    <tr>\n",
       "      <td>4</td>\n",
       "      <td>Nasir</td>\n",
       "      <td>111</td>\n",
       "      <td>65</td>\n",
       "      <td>55</td>\n",
       "      <td>95</td>\n",
       "      <td>215</td>\n",
       "      <td>7</td>\n",
       "    </tr>\n",
       "  </tbody>\n",
       "</table>\n",
       "</div>"
      ],
      "text/plain": [
       "  student_name  student_roll  Paper1  Paper2  Paper3  Total  Test\n",
       "0         Asad           123      90      80      60    230     3\n",
       "1          Ali           456      89      99      49    237     4\n",
       "2       Faheem           321      78      78      68    224     5\n",
       "3        Baber           678      76      78      86    240     6\n",
       "4        Nasir           111      65      55      95    215     7"
      ]
     },
     "execution_count": 105,
     "metadata": {},
     "output_type": "execute_result"
    }
   ],
   "source": [
    "result['Test'] = [3,4,5,6,7]\n",
    "result"
   ]
  },
  {
   "cell_type": "code",
   "execution_count": 108,
   "id": "fd5bc8df",
   "metadata": {},
   "outputs": [
    {
     "data": {
      "text/html": [
       "<div>\n",
       "<style scoped>\n",
       "    .dataframe tbody tr th:only-of-type {\n",
       "        vertical-align: middle;\n",
       "    }\n",
       "\n",
       "    .dataframe tbody tr th {\n",
       "        vertical-align: top;\n",
       "    }\n",
       "\n",
       "    .dataframe thead th {\n",
       "        text-align: right;\n",
       "    }\n",
       "</style>\n",
       "<table border=\"1\" class=\"dataframe\">\n",
       "  <thead>\n",
       "    <tr style=\"text-align: right;\">\n",
       "      <th></th>\n",
       "      <th>student_name</th>\n",
       "      <th>student_roll</th>\n",
       "      <th>Paper1</th>\n",
       "      <th>Paper2</th>\n",
       "      <th>Paper3</th>\n",
       "      <th>Total</th>\n",
       "      <th>Test</th>\n",
       "      <th>Percentage</th>\n",
       "    </tr>\n",
       "  </thead>\n",
       "  <tbody>\n",
       "    <tr>\n",
       "      <td>0</td>\n",
       "      <td>Asad</td>\n",
       "      <td>123</td>\n",
       "      <td>90</td>\n",
       "      <td>80</td>\n",
       "      <td>60</td>\n",
       "      <td>230</td>\n",
       "      <td>3</td>\n",
       "      <td>76.666667</td>\n",
       "    </tr>\n",
       "    <tr>\n",
       "      <td>1</td>\n",
       "      <td>Ali</td>\n",
       "      <td>456</td>\n",
       "      <td>89</td>\n",
       "      <td>99</td>\n",
       "      <td>49</td>\n",
       "      <td>237</td>\n",
       "      <td>4</td>\n",
       "      <td>79.000000</td>\n",
       "    </tr>\n",
       "    <tr>\n",
       "      <td>2</td>\n",
       "      <td>Faheem</td>\n",
       "      <td>321</td>\n",
       "      <td>78</td>\n",
       "      <td>78</td>\n",
       "      <td>68</td>\n",
       "      <td>224</td>\n",
       "      <td>5</td>\n",
       "      <td>74.666667</td>\n",
       "    </tr>\n",
       "    <tr>\n",
       "      <td>3</td>\n",
       "      <td>Baber</td>\n",
       "      <td>678</td>\n",
       "      <td>76</td>\n",
       "      <td>78</td>\n",
       "      <td>86</td>\n",
       "      <td>240</td>\n",
       "      <td>6</td>\n",
       "      <td>80.000000</td>\n",
       "    </tr>\n",
       "    <tr>\n",
       "      <td>4</td>\n",
       "      <td>Nasir</td>\n",
       "      <td>111</td>\n",
       "      <td>65</td>\n",
       "      <td>55</td>\n",
       "      <td>95</td>\n",
       "      <td>215</td>\n",
       "      <td>7</td>\n",
       "      <td>71.666667</td>\n",
       "    </tr>\n",
       "  </tbody>\n",
       "</table>\n",
       "</div>"
      ],
      "text/plain": [
       "  student_name  student_roll  Paper1  Paper2  Paper3  Total  Test  Percentage\n",
       "0         Asad           123      90      80      60    230     3   76.666667\n",
       "1          Ali           456      89      99      49    237     4   79.000000\n",
       "2       Faheem           321      78      78      68    224     5   74.666667\n",
       "3        Baber           678      76      78      86    240     6   80.000000\n",
       "4        Nasir           111      65      55      95    215     7   71.666667"
      ]
     },
     "execution_count": 108,
     "metadata": {},
     "output_type": "execute_result"
    }
   ],
   "source": [
    "result['Percentage'] = result['Total']/300*100\n",
    "result"
   ]
  },
  {
   "cell_type": "code",
   "execution_count": null,
   "id": "c4cccd85",
   "metadata": {},
   "outputs": [],
   "source": [
    "result['Grade'] = [for per in result['Percentage'] if per>80 ]"
   ]
  }
 ],
 "metadata": {
  "kernelspec": {
   "display_name": "Python 3 (ipykernel)",
   "language": "python",
   "name": "python3"
  },
  "language_info": {
   "codemirror_mode": {
    "name": "ipython",
    "version": 3
   },
   "file_extension": ".py",
   "mimetype": "text/x-python",
   "name": "python",
   "nbconvert_exporter": "python",
   "pygments_lexer": "ipython3",
   "version": "3.9.7"
  }
 },
 "nbformat": 4,
 "nbformat_minor": 5
}
