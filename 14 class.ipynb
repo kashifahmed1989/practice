{
 "cells": [
  {
   "cell_type": "code",
   "execution_count": 1,
   "id": "7314a72a",
   "metadata": {},
   "outputs": [
    {
     "name": "stdout",
     "output_type": "stream",
     "text": [
      "ASA\n",
      "NASIR\n",
      "FAHAD\n",
      "ABDUL\n",
      "ALI\n"
     ]
    }
   ],
   "source": [
    "ns=['asa','nasir','fahad','abdul','ali']\n",
    "count=0\n",
    "while count <len(ns):\n",
    "    print(ns[count].upper())\n",
    "    count+=1\n",
    "    "
   ]
  },
  {
   "cell_type": "code",
   "execution_count": 2,
   "id": "e4cd36ea",
   "metadata": {},
   "outputs": [],
   "source": [
    "mylist={2,3,3,5,6,8,9,9}"
   ]
  },
  {
   "cell_type": "code",
   "execution_count": 3,
   "id": "da8af4b1",
   "metadata": {},
   "outputs": [],
   "source": [
    "mylist.add(100)\n"
   ]
  },
  {
   "cell_type": "code",
   "execution_count": 4,
   "id": "69105128",
   "metadata": {},
   "outputs": [
    {
     "data": {
      "text/plain": [
       "{2, 3, 5, 6, 8, 9, 100}"
      ]
     },
     "execution_count": 4,
     "metadata": {},
     "output_type": "execute_result"
    }
   ],
   "source": [
    "mylist"
   ]
  },
  {
   "cell_type": "code",
   "execution_count": 6,
   "id": "9ce9904e",
   "metadata": {},
   "outputs": [],
   "source": [
    "mylist.clear()"
   ]
  },
  {
   "cell_type": "code",
   "execution_count": 7,
   "id": "c313b01c",
   "metadata": {},
   "outputs": [],
   "source": [
    "mylist1={1,2,3}"
   ]
  },
  {
   "cell_type": "code",
   "execution_count": 10,
   "id": "5c96cd5f",
   "metadata": {},
   "outputs": [],
   "source": [
    "mylist= mylist1.copy()"
   ]
  },
  {
   "cell_type": "code",
   "execution_count": 11,
   "id": "844f48d0",
   "metadata": {},
   "outputs": [
    {
     "data": {
      "text/plain": [
       "{1, 2, 3}"
      ]
     },
     "execution_count": 11,
     "metadata": {},
     "output_type": "execute_result"
    }
   ],
   "source": [
    "mylist"
   ]
  },
  {
   "cell_type": "code",
   "execution_count": 12,
   "id": "061ea589",
   "metadata": {},
   "outputs": [],
   "source": [
    "mylist2={1,3,5}"
   ]
  },
  {
   "cell_type": "code",
   "execution_count": 14,
   "id": "4fffc264",
   "metadata": {},
   "outputs": [],
   "source": [
    "mylsit3=mylist.union(mylist2)"
   ]
  },
  {
   "cell_type": "code",
   "execution_count": 16,
   "id": "a9fa10b2",
   "metadata": {},
   "outputs": [
    {
     "data": {
      "text/plain": [
       "{1, 2, 3, 5}"
      ]
     },
     "execution_count": 16,
     "metadata": {},
     "output_type": "execute_result"
    }
   ],
   "source": [
    "mylsit3"
   ]
  },
  {
   "cell_type": "code",
   "execution_count": 21,
   "id": "77e8da69",
   "metadata": {},
   "outputs": [],
   "source": [
    "mylsit4=mylist1.intersection(mylsit3)"
   ]
  },
  {
   "cell_type": "code",
   "execution_count": 23,
   "id": "7e82820b",
   "metadata": {},
   "outputs": [
    {
     "data": {
      "text/plain": [
       "{1, 2, 3}"
      ]
     },
     "execution_count": 23,
     "metadata": {},
     "output_type": "execute_result"
    }
   ],
   "source": [
    "mylsit4"
   ]
  },
  {
   "cell_type": "code",
   "execution_count": 25,
   "id": "efeba03f",
   "metadata": {},
   "outputs": [],
   "source": [
    "def sayhello():\n",
    "    print('hello N')"
   ]
  },
  {
   "cell_type": "code",
   "execution_count": 28,
   "id": "2427e28d",
   "metadata": {},
   "outputs": [
    {
     "name": "stdout",
     "output_type": "stream",
     "text": [
      "hello N\n"
     ]
    }
   ],
   "source": [
    "sayhello()"
   ]
  },
  {
   "cell_type": "code",
   "execution_count": 35,
   "id": "4ab21e2c",
   "metadata": {},
   "outputs": [],
   "source": [
    "def charecter_cout(charcount):\n",
    "    print(len(charcount))\n",
    "    \n",
    "    "
   ]
  },
  {
   "cell_type": "code",
   "execution_count": 36,
   "id": "d990ada7",
   "metadata": {},
   "outputs": [
    {
     "name": "stdout",
     "output_type": "stream",
     "text": [
      "22\n"
     ]
    }
   ],
   "source": [
    "charecter_cout(\" abcdefbhl ladlie aor \")"
   ]
  },
  {
   "cell_type": "code",
   "execution_count": 7,
   "id": "753d1d21",
   "metadata": {},
   "outputs": [],
   "source": [
    "def word_cout(wrdcount):\n",
    "    word=wrdcount.split(\" \")\n",
    "    print(f'there r {len(word)} char in ur para')"
   ]
  },
  {
   "cell_type": "code",
   "execution_count": 8,
   "id": "238db324",
   "metadata": {},
   "outputs": [
    {
     "name": "stdout",
     "output_type": "stream",
     "text": [
      "there r 3 char in ur para\n"
     ]
    }
   ],
   "source": [
    "word_cout(\"kashhif ahmed is\")"
   ]
  },
  {
   "cell_type": "code",
   "execution_count": null,
   "id": "e2befa6c",
   "metadata": {},
   "outputs": [],
   "source": []
  },
  {
   "cell_type": "code",
   "execution_count": null,
   "id": "bc6bcfc5",
   "metadata": {},
   "outputs": [],
   "source": []
  }
 ],
 "metadata": {
  "kernelspec": {
   "display_name": "Python 3 (ipykernel)",
   "language": "python",
   "name": "python3"
  },
  "language_info": {
   "codemirror_mode": {
    "name": "ipython",
    "version": 3
   },
   "file_extension": ".py",
   "mimetype": "text/x-python",
   "name": "python",
   "nbconvert_exporter": "python",
   "pygments_lexer": "ipython3",
   "version": "3.9.7"
  }
 },
 "nbformat": 4,
 "nbformat_minor": 5
}
