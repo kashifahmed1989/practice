{
 "cells": [
  {
   "cell_type": "markdown",
   "id": "f410150b",
   "metadata": {},
   "source": [
    "# Functions"
   ]
  },
  {
   "cell_type": "code",
   "execution_count": 6,
   "id": "0a4f49fb",
   "metadata": {},
   "outputs": [],
   "source": [
    "def greet(name):\n",
    "    print(f\"Hello {name}\")"
   ]
  },
  {
   "cell_type": "code",
   "execution_count": 7,
   "id": "b542edd7",
   "metadata": {},
   "outputs": [
    {
     "name": "stdout",
     "output_type": "stream",
     "text": [
      "Hello Ali\n"
     ]
    }
   ],
   "source": [
    "greet('Ali')"
   ]
  },
  {
   "cell_type": "code",
   "execution_count": 8,
   "id": "3e5fbf5f",
   "metadata": {},
   "outputs": [
    {
     "name": "stdout",
     "output_type": "stream",
     "text": [
      "Hello Ahmed\n"
     ]
    }
   ],
   "source": [
    "greet('Ahmed')"
   ]
  },
  {
   "cell_type": "code",
   "execution_count": 9,
   "id": "a0d497a0",
   "metadata": {},
   "outputs": [
    {
     "name": "stdout",
     "output_type": "stream",
     "text": [
      "Hello Nasir\n"
     ]
    }
   ],
   "source": [
    "greet(\"Nasir\")"
   ]
  },
  {
   "cell_type": "code",
   "execution_count": 26,
   "id": "5f738f55",
   "metadata": {},
   "outputs": [],
   "source": [
    "def square(num):\n",
    "    \n",
    "    #local variable\n",
    "    sqr = num*num\n",
    "    \n",
    "    #global variable\n",
    "    global name\n",
    "    name = \"Saylani\"\n",
    "    "
   ]
  },
  {
   "cell_type": "code",
   "execution_count": 27,
   "id": "c2605066",
   "metadata": {},
   "outputs": [],
   "source": [
    "square(6)"
   ]
  },
  {
   "cell_type": "code",
   "execution_count": 28,
   "id": "b1c786e0",
   "metadata": {},
   "outputs": [
    {
     "ename": "NameError",
     "evalue": "name 'sqr' is not defined",
     "output_type": "error",
     "traceback": [
      "\u001b[1;31m---------------------------------------------------------------------------\u001b[0m",
      "\u001b[1;31mNameError\u001b[0m                                 Traceback (most recent call last)",
      "\u001b[1;32mC:\\Users\\LAB-02~1\\AppData\\Local\\Temp/ipykernel_6264/1404521204.py\u001b[0m in \u001b[0;36m<module>\u001b[1;34m\u001b[0m\n\u001b[1;32m----> 1\u001b[1;33m \u001b[0mprint\u001b[0m\u001b[1;33m(\u001b[0m\u001b[0msqr\u001b[0m\u001b[1;33m)\u001b[0m\u001b[1;33m\u001b[0m\u001b[1;33m\u001b[0m\u001b[0m\n\u001b[0m\u001b[0;32m      2\u001b[0m \u001b[1;33m\u001b[0m\u001b[0m\n\u001b[0;32m      3\u001b[0m \u001b[1;31m# error due to accessing a locaL VARIABLE out side function\u001b[0m\u001b[1;33m\u001b[0m\u001b[1;33m\u001b[0m\u001b[0m\n",
      "\u001b[1;31mNameError\u001b[0m: name 'sqr' is not defined"
     ]
    }
   ],
   "source": [
    "print(sqr)\n",
    "\n",
    "# error due to accessing a locaL VARIABLE out side function"
   ]
  },
  {
   "cell_type": "code",
   "execution_count": 30,
   "id": "931e6eff",
   "metadata": {},
   "outputs": [
    {
     "name": "stdout",
     "output_type": "stream",
     "text": [
      "Saylani\n"
     ]
    }
   ],
   "source": [
    "print(name)\n",
    "# no error as name is declared as a global variable"
   ]
  },
  {
   "cell_type": "code",
   "execution_count": 46,
   "id": "14394c58",
   "metadata": {},
   "outputs": [],
   "source": [
    "def square(num):\n",
    "        \n",
    "    return num**2, \"hello\", True\n",
    "    \n",
    "    "
   ]
  },
  {
   "cell_type": "code",
   "execution_count": 47,
   "id": "706a1399",
   "metadata": {},
   "outputs": [
    {
     "data": {
      "text/plain": [
       "(100, 'hello', True)"
      ]
     },
     "execution_count": 47,
     "metadata": {},
     "output_type": "execute_result"
    }
   ],
   "source": [
    "square(10)"
   ]
  },
  {
   "cell_type": "code",
   "execution_count": 86,
   "id": "c59196e0",
   "metadata": {},
   "outputs": [],
   "source": [
    "def add(num1,num2):\n",
    "    total = num1+num2\n",
    "    \n",
    "    global nam\n",
    "    nam=\"Asad\"\n",
    "    \n",
    "    return total"
   ]
  },
  {
   "cell_type": "code",
   "execution_count": 87,
   "id": "848a2e56",
   "metadata": {},
   "outputs": [],
   "source": [
    "a = add(3,4)"
   ]
  },
  {
   "cell_type": "code",
   "execution_count": 88,
   "id": "5c9fd893",
   "metadata": {},
   "outputs": [
    {
     "data": {
      "text/plain": [
       "7"
      ]
     },
     "execution_count": 88,
     "metadata": {},
     "output_type": "execute_result"
    }
   ],
   "source": [
    "a"
   ]
  },
  {
   "cell_type": "code",
   "execution_count": 83,
   "id": "2d18f72c",
   "metadata": {},
   "outputs": [
    {
     "name": "stdout",
     "output_type": "stream",
     "text": [
      "Asad\n"
     ]
    }
   ],
   "source": [
    "print(nam)"
   ]
  },
  {
   "cell_type": "code",
   "execution_count": 84,
   "id": "91560d15",
   "metadata": {},
   "outputs": [
    {
     "ename": "NameError",
     "evalue": "name 'total' is not defined",
     "output_type": "error",
     "traceback": [
      "\u001b[1;31m---------------------------------------------------------------------------\u001b[0m",
      "\u001b[1;31mNameError\u001b[0m                                 Traceback (most recent call last)",
      "\u001b[1;32mC:\\Users\\LAB-02~1\\AppData\\Local\\Temp/ipykernel_6264/4063668034.py\u001b[0m in \u001b[0;36m<module>\u001b[1;34m\u001b[0m\n\u001b[1;32m----> 1\u001b[1;33m \u001b[0mprint\u001b[0m\u001b[1;33m(\u001b[0m\u001b[0mtotal\u001b[0m\u001b[1;33m)\u001b[0m\u001b[1;33m\u001b[0m\u001b[1;33m\u001b[0m\u001b[0m\n\u001b[0m",
      "\u001b[1;31mNameError\u001b[0m: name 'total' is not defined"
     ]
    }
   ],
   "source": [
    "print(total)"
   ]
  },
  {
   "cell_type": "code",
   "execution_count": 74,
   "id": "d34b8281",
   "metadata": {},
   "outputs": [],
   "source": [
    "def sub(v1,v2):\n",
    "    ans = v2-v1\n",
    "    return "
   ]
  },
  {
   "cell_type": "code",
   "execution_count": 80,
   "id": "003a98cb",
   "metadata": {},
   "outputs": [
    {
     "name": "stdout",
     "output_type": "stream",
     "text": [
      "None\n"
     ]
    }
   ],
   "source": [
    "print(sub(20,30))"
   ]
  },
  {
   "cell_type": "code",
   "execution_count": 79,
   "id": "24c596fd",
   "metadata": {},
   "outputs": [
    {
     "name": "stdout",
     "output_type": "stream",
     "text": [
      "None\n"
     ]
    }
   ],
   "source": [
    "print(a)"
   ]
  },
  {
   "cell_type": "markdown",
   "id": "b23bbcb8",
   "metadata": {},
   "source": [
    "# Positional Parameters and ARGUMENTS"
   ]
  },
  {
   "cell_type": "code",
   "execution_count": 90,
   "id": "de811d96",
   "metadata": {},
   "outputs": [],
   "source": [
    "def complete_name(first_name, last_name):\n",
    "    full_name = first_name + \" \" + last_name\n",
    "    return full_name\n"
   ]
  },
  {
   "cell_type": "code",
   "execution_count": 92,
   "id": "e3f43463",
   "metadata": {},
   "outputs": [
    {
     "data": {
      "text/plain": [
       "'Nasir Hussain'"
      ]
     },
     "execution_count": 92,
     "metadata": {},
     "output_type": "execute_result"
    }
   ],
   "source": [
    "complete_name('Nasir', \"Hussain\")"
   ]
  },
  {
   "cell_type": "markdown",
   "id": "caa8164b",
   "metadata": {},
   "source": [
    "# Default_Paraemters"
   ]
  },
  {
   "cell_type": "code",
   "execution_count": 95,
   "id": "287080c1",
   "metadata": {},
   "outputs": [],
   "source": [
    "def cube(num=1):\n",
    "    _cube = num**3\n",
    "    return _cube\n",
    "    "
   ]
  },
  {
   "cell_type": "code",
   "execution_count": 96,
   "id": "86d9001f",
   "metadata": {},
   "outputs": [
    {
     "data": {
      "text/plain": [
       "1000"
      ]
     },
     "execution_count": 96,
     "metadata": {},
     "output_type": "execute_result"
    }
   ],
   "source": [
    "cube(10)"
   ]
  },
  {
   "cell_type": "code",
   "execution_count": 97,
   "id": "89b9cda9",
   "metadata": {},
   "outputs": [
    {
     "data": {
      "text/plain": [
       "1"
      ]
     },
     "execution_count": 97,
     "metadata": {},
     "output_type": "execute_result"
    }
   ],
   "source": [
    "cube()"
   ]
  },
  {
   "cell_type": "code",
   "execution_count": 98,
   "id": "09162da9",
   "metadata": {},
   "outputs": [
    {
     "name": "stdout",
     "output_type": "stream",
     "text": [
      "nasir\n",
      "hussain\n"
     ]
    }
   ],
   "source": [
    "print(\"nasir\",\"hussain\",sep='\\n')"
   ]
  },
  {
   "cell_type": "code",
   "execution_count": 101,
   "id": "efd6805e",
   "metadata": {},
   "outputs": [],
   "source": [
    "def max_num(arr):\n",
    "    return (max(arr)),(min(arr))\n",
    "    "
   ]
  },
  {
   "cell_type": "code",
   "execution_count": 103,
   "id": "ddd6f2da",
   "metadata": {},
   "outputs": [],
   "source": [
    "_max,_min=max_num([23,45,67,89,98])"
   ]
  },
  {
   "cell_type": "markdown",
   "id": "ad48ea19",
   "metadata": {},
   "source": [
    "_max"
   ]
  },
  {
   "cell_type": "code",
   "execution_count": 104,
   "id": "db47db6c",
   "metadata": {},
   "outputs": [
    {
     "data": {
      "text/plain": [
       "98"
      ]
     },
     "execution_count": 104,
     "metadata": {},
     "output_type": "execute_result"
    }
   ],
   "source": [
    "_max"
   ]
  },
  {
   "cell_type": "code",
   "execution_count": 105,
   "id": "616e64d5",
   "metadata": {},
   "outputs": [
    {
     "data": {
      "text/plain": [
       "23"
      ]
     },
     "execution_count": 105,
     "metadata": {},
     "output_type": "execute_result"
    }
   ],
   "source": [
    "_min"
   ]
  },
  {
   "cell_type": "code",
   "execution_count": 106,
   "id": "58ed795b",
   "metadata": {},
   "outputs": [],
   "source": [
    "def dosquare(arr):\n",
    "    return [a**2 for a in arr]\n",
    "\n",
    "    "
   ]
  },
  {
   "cell_type": "code",
   "execution_count": 107,
   "id": "b2c73895",
   "metadata": {},
   "outputs": [
    {
     "data": {
      "text/plain": [
       "[4, 1089, 16]"
      ]
     },
     "execution_count": 107,
     "metadata": {},
     "output_type": "execute_result"
    }
   ],
   "source": [
    "dosquare([2,33,4])"
   ]
  },
  {
   "cell_type": "code",
   "execution_count": 108,
   "id": "1c3a50a6",
   "metadata": {},
   "outputs": [],
   "source": [
    "def dosquare(arr):\n",
    "    return[a**2 for a in arr if a<10]"
   ]
  },
  {
   "cell_type": "code",
   "execution_count": 109,
   "id": "a01b4bf9",
   "metadata": {},
   "outputs": [
    {
     "data": {
      "text/plain": [
       "[4]"
      ]
     },
     "execution_count": 109,
     "metadata": {},
     "output_type": "execute_result"
    }
   ],
   "source": [
    "dosquare([2,45])"
   ]
  },
  {
   "cell_type": "code",
   "execution_count": 112,
   "id": "cdf5c71c",
   "metadata": {},
   "outputs": [],
   "source": [
    "def dosquare(arr):\n",
    "    return[a**2 if a<10 else a for a in arr  ]"
   ]
  },
  {
   "cell_type": "code",
   "execution_count": 113,
   "id": "4a3545c4",
   "metadata": {},
   "outputs": [
    {
     "data": {
      "text/plain": [
       "[9, 77]"
      ]
     },
     "execution_count": 113,
     "metadata": {},
     "output_type": "execute_result"
    }
   ],
   "source": [
    "dosquare([3,77])"
   ]
  },
  {
   "cell_type": "code",
   "execution_count": null,
   "id": "b734760e",
   "metadata": {},
   "outputs": [],
   "source": []
  }
 ],
 "metadata": {
  "kernelspec": {
   "display_name": "Python 3 (ipykernel)",
   "language": "python",
   "name": "python3"
  },
  "language_info": {
   "codemirror_mode": {
    "name": "ipython",
    "version": 3
   },
   "file_extension": ".py",
   "mimetype": "text/x-python",
   "name": "python",
   "nbconvert_exporter": "python",
   "pygments_lexer": "ipython3",
   "version": "3.9.7"
  }
 },
 "nbformat": 4,
 "nbformat_minor": 5
}
