{
 "cells": [
  {
   "cell_type": "code",
   "execution_count": 5,
   "id": "02f39709",
   "metadata": {},
   "outputs": [],
   "source": [
    "def description(name, age, gender,blood_group):\n",
    "    \n",
    "    desc= f\"\"\" the name of person {name}\n",
    "    The age is {age}\n",
    "    the gender is{gender}\n",
    "    bloog gp is {blood_group}\"\"\"\n",
    "    return desc"
   ]
  },
  {
   "cell_type": "code",
   "execution_count": 8,
   "id": "830d681a",
   "metadata": {},
   "outputs": [
    {
     "data": {
      "text/plain": [
       "' the name of person kashif\\n    The age is 23\\n    the gender ismale\\n    bloog gp is B+'"
      ]
     },
     "execution_count": 8,
     "metadata": {},
     "output_type": "execute_result"
    }
   ],
   "source": [
    "description(age=23,gender= \"male\",name=\"kashif\",blood_group='B+')"
   ]
  },
  {
   "cell_type": "code",
   "execution_count": 12,
   "id": "05dce12c",
   "metadata": {},
   "outputs": [
    {
     "name": "stdout",
     "output_type": "stream",
     "text": [
      "Enter: 2\n"
     ]
    }
   ],
   "source": [
    "arr1 = input('Enter: ')\n",
    "def lister():\n",
    "    global arr1\n",
    "    arr1 = [] \n",
    "    for i in range(5):\n",
    "        i = int(input('enter a number: '))\n",
    "        arr1.append(i)\n",
    "\n",
    "\n",
    "def func(lister,task=''):\n",
    "    \n",
    "    if task == \"sum\":\n",
    "        return sum(arr1) \n",
    "    \n",
    "    \n",
    "    \n",
    "    elif task == \"mult\":\n",
    "        result = 1\n",
    "        for num in arr1:\n",
    "            result *= num\n",
    "        return result\n",
    "    \n",
    "    \n",
    "    \n",
    "    elif task == \"max\":\n",
    "        return max(arr1)\n",
    "    \n",
    "    \n",
    "    \n",
    "    elif task == \"min\":\n",
    "        return min(arr1)\n",
    "    \n",
    "    \n",
    "    \n",
    "    elif task == \"even\":\n",
    "        even = []\n",
    "        for num in arr1:\n",
    "            if num%2 == 0:\n",
    "                even.append(num)\n",
    "        return even\n",
    "    \n",
    "    \n",
    "    \n",
    "    elif task == \"odd\":\n",
    "        odd = []\n",
    "        for num in arr1:\n",
    "            if num%2 != 0:\n",
    "                odd.append(num)\n",
    "        return odd\n",
    "\n"
   ]
  },
  {
   "cell_type": "code",
   "execution_count": 13,
   "id": "fa002751",
   "metadata": {},
   "outputs": [
    {
     "ename": "TypeError",
     "evalue": "not all arguments converted during string formatting",
     "output_type": "error",
     "traceback": [
      "\u001b[1;31m---------------------------------------------------------------------------\u001b[0m",
      "\u001b[1;31mTypeError\u001b[0m                                 Traceback (most recent call last)",
      "\u001b[1;32mC:\\Users\\LAB02R~1\\AppData\\Local\\Temp/ipykernel_8984/2542817860.py\u001b[0m in \u001b[0;36m<module>\u001b[1;34m\u001b[0m\n\u001b[1;32m----> 1\u001b[1;33m \u001b[0mfunc\u001b[0m\u001b[1;33m(\u001b[0m\u001b[0marr1\u001b[0m\u001b[1;33m,\u001b[0m \u001b[1;34m'even'\u001b[0m\u001b[1;33m)\u001b[0m\u001b[1;33m\u001b[0m\u001b[1;33m\u001b[0m\u001b[0m\n\u001b[0m",
      "\u001b[1;32mC:\\Users\\LAB02R~1\\AppData\\Local\\Temp/ipykernel_8984/3933420453.py\u001b[0m in \u001b[0;36mfunc\u001b[1;34m(lister, task)\u001b[0m\n\u001b[0;32m     36\u001b[0m         \u001b[0meven\u001b[0m \u001b[1;33m=\u001b[0m \u001b[1;33m[\u001b[0m\u001b[1;33m]\u001b[0m\u001b[1;33m\u001b[0m\u001b[1;33m\u001b[0m\u001b[0m\n\u001b[0;32m     37\u001b[0m         \u001b[1;32mfor\u001b[0m \u001b[0mnum\u001b[0m \u001b[1;32min\u001b[0m \u001b[0marr1\u001b[0m\u001b[1;33m:\u001b[0m\u001b[1;33m\u001b[0m\u001b[1;33m\u001b[0m\u001b[0m\n\u001b[1;32m---> 38\u001b[1;33m             \u001b[1;32mif\u001b[0m \u001b[0mnum\u001b[0m\u001b[1;33m%\u001b[0m\u001b[1;36m2\u001b[0m \u001b[1;33m==\u001b[0m \u001b[1;36m0\u001b[0m\u001b[1;33m:\u001b[0m\u001b[1;33m\u001b[0m\u001b[1;33m\u001b[0m\u001b[0m\n\u001b[0m\u001b[0;32m     39\u001b[0m                 \u001b[0meven\u001b[0m\u001b[1;33m.\u001b[0m\u001b[0mappend\u001b[0m\u001b[1;33m(\u001b[0m\u001b[0mnum\u001b[0m\u001b[1;33m)\u001b[0m\u001b[1;33m\u001b[0m\u001b[1;33m\u001b[0m\u001b[0m\n\u001b[0;32m     40\u001b[0m         \u001b[1;32mreturn\u001b[0m \u001b[0meven\u001b[0m\u001b[1;33m\u001b[0m\u001b[1;33m\u001b[0m\u001b[0m\n",
      "\u001b[1;31mTypeError\u001b[0m: not all arguments converted during string formatting"
     ]
    }
   ],
   "source": [
    "func(arr1, 'even')"
   ]
  },
  {
   "cell_type": "code",
   "execution_count": 15,
   "id": "102401a7",
   "metadata": {},
   "outputs": [
    {
     "name": "stdout",
     "output_type": "stream",
     "text": [
      "enter a number or press 'q' to exit: 2\n",
      "enter a number or press 'q' to exit: 2\n",
      "enter a number or press 'q' to exit: q\n"
     ]
    },
    {
     "data": {
      "text/plain": [
       "2"
      ]
     },
     "execution_count": 15,
     "metadata": {},
     "output_type": "execute_result"
    }
   ],
   "source": [
    "def lister():\n",
    "    global arr1\n",
    "    arr1 = []\n",
    "    while True:\n",
    "        i = input(\"enter a number or press 'q' to exit: \")\n",
    "        if i == 'q':\n",
    "            break\n",
    "        else:\n",
    "            i=int(i)\n",
    "            arr1.append(i)\n",
    "\n",
    "\n",
    "def func(lister,task=''):\n",
    "    \n",
    "    if task == \"sum\":\n",
    "        return sum(arr1) \n",
    "    \n",
    "    \n",
    "    \n",
    "    elif task == \"mult\":\n",
    "        result = 1\n",
    "        for num in arr1:\n",
    "            result *= num\n",
    "        return result\n",
    "    \n",
    "    \n",
    "    \n",
    "    elif task == \"max\":\n",
    "        return max(arr1)\n",
    "    \n",
    "    \n",
    "    \n",
    "    elif task == \"min\":\n",
    "        return min(arr1)\n",
    "    \n",
    "    \n",
    "    \n",
    "    elif task == \"even\":\n",
    "        even = []\n",
    "        for num in arr1:\n",
    "            if num%2 == 0:\n",
    "                even.append(num)\n",
    "        return even\n",
    "    \n",
    "    \n",
    "    \n",
    "    elif task == \"odd\":\n",
    "        odd = []\n",
    "        for num in arr1:\n",
    "            if num%2 != 0:\n",
    "                odd.append(num)\n",
    "        return odd\n",
    "\n",
    "lister()\n",
    "\n",
    "func(lister, 'max')"
   ]
  },
  {
   "cell_type": "code",
   "execution_count": 19,
   "id": "7cd1e14a",
   "metadata": {},
   "outputs": [],
   "source": [
    "def build_person(first_name,last_name):\n",
    "    \"\"\"Return a dictionary of information about a person\"\"\"\n",
    "    person  ={'first':first_name, 'last':last_name}\n",
    "    return person\n",
    "musician = build_person('jimmy', 'hendrix')"
   ]
  },
  {
   "cell_type": "code",
   "execution_count": 21,
   "id": "bccb587f",
   "metadata": {},
   "outputs": [
    {
     "data": {
      "text/plain": [
       "{'first': 'jimmy', 'last': 'hendrix'}"
      ]
     },
     "execution_count": 21,
     "metadata": {},
     "output_type": "execute_result"
    }
   ],
   "source": [
    "musician"
   ]
  },
  {
   "cell_type": "code",
   "execution_count": 25,
   "id": "01d0e499",
   "metadata": {},
   "outputs": [
    {
     "name": "stdout",
     "output_type": "stream",
     "text": [
      "Printing model: dodecahedron\n",
      "\n",
      "The following models have been printed:\n",
      "dodecahedron\n",
      "Printing model: robot pendant\n",
      "\n",
      "The following models have been printed:\n",
      "dodecahedron\n",
      "robot pendant\n",
      "Printing model: iphone case\n",
      "\n",
      "The following models have been printed:\n",
      "dodecahedron\n",
      "robot pendant\n",
      "iphone case\n"
     ]
    }
   ],
   "source": [
    "\n",
    "unprinted_designs = ['iphone case', 'robot pendant', 'dodecahedron']\n",
    "completed_models = []\n",
    "while unprinted_designs:\n",
    "    current_design = unprinted_designs.pop()\n",
    "    print(\"Printing model: \" + current_design)\n",
    "    completed_models.append(current_design)\n",
    "    print(\"\\nThe following models have been printed:\")\n",
    "    for completed_model in completed_models:\n",
    "        print(completed_model)"
   ]
  }
 ],
 "metadata": {
  "kernelspec": {
   "display_name": "Python 3 (ipykernel)",
   "language": "python",
   "name": "python3"
  },
  "language_info": {
   "codemirror_mode": {
    "name": "ipython",
    "version": 3
   },
   "file_extension": ".py",
   "mimetype": "text/x-python",
   "name": "python",
   "nbconvert_exporter": "python",
   "pygments_lexer": "ipython3",
   "version": "3.9.7"
  }
 },
 "nbformat": 4,
 "nbformat_minor": 5
}
