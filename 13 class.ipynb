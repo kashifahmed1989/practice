{
 "cells": [
  {
   "cell_type": "code",
   "execution_count": 1,
   "id": "64fa835a",
   "metadata": {},
   "outputs": [],
   "source": [
    "ns=['asa','nasir','fahad','abdul','ali']\n"
   ]
  },
  {
   "cell_type": "code",
   "execution_count": 1,
   "id": "01ef79a0",
   "metadata": {},
   "outputs": [
    {
     "ename": "NameError",
     "evalue": "name 'ns' is not defined",
     "output_type": "error",
     "traceback": [
      "\u001b[1;31m---------------------------------------------------------------------------\u001b[0m",
      "\u001b[1;31mNameError\u001b[0m                                 Traceback (most recent call last)",
      "\u001b[1;32mC:\\Users\\LAB02R~1\\AppData\\Local\\Temp/ipykernel_9820/296337962.py\u001b[0m in \u001b[0;36m<module>\u001b[1;34m\u001b[0m\n\u001b[0;32m      1\u001b[0m \u001b[0mcount\u001b[0m\u001b[1;33m=\u001b[0m\u001b[1;36m0\u001b[0m\u001b[1;33m\u001b[0m\u001b[1;33m\u001b[0m\u001b[0m\n\u001b[1;32m----> 2\u001b[1;33m \u001b[1;32mwhile\u001b[0m \u001b[0mcount\u001b[0m \u001b[1;33m<\u001b[0m\u001b[0mlen\u001b[0m\u001b[1;33m(\u001b[0m\u001b[0mns\u001b[0m\u001b[1;33m)\u001b[0m\u001b[1;33m:\u001b[0m\u001b[1;33m\u001b[0m\u001b[1;33m\u001b[0m\u001b[0m\n\u001b[0m\u001b[0;32m      3\u001b[0m     \u001b[0mprint\u001b[0m\u001b[1;33m(\u001b[0m\u001b[0mns\u001b[0m\u001b[1;33m[\u001b[0m\u001b[0mcount\u001b[0m\u001b[1;33m]\u001b[0m\u001b[1;33m.\u001b[0m\u001b[0mupper\u001b[0m\u001b[1;33m(\u001b[0m\u001b[1;33m)\u001b[0m\u001b[1;33m)\u001b[0m\u001b[1;33m\u001b[0m\u001b[1;33m\u001b[0m\u001b[0m\n\u001b[0;32m      4\u001b[0m     \u001b[0mcount\u001b[0m\u001b[1;33m+=\u001b[0m\u001b[1;36m1\u001b[0m\u001b[1;33m\u001b[0m\u001b[1;33m\u001b[0m\u001b[0m\n\u001b[0;32m      5\u001b[0m \u001b[1;33m\u001b[0m\u001b[0m\n",
      "\u001b[1;31mNameError\u001b[0m: name 'ns' is not defined"
     ]
    }
   ],
   "source": [
    "count=0\n",
    "while count <len(ns):\n",
    "    print(ns[count].upper())\n",
    "    count+=1\n",
    "    "
   ]
  },
  {
   "cell_type": "code",
   "execution_count": 2,
   "id": "87b0b7b4",
   "metadata": {},
   "outputs": [
    {
     "name": "stdout",
     "output_type": "stream",
     "text": [
      "0 python\n",
      "1 python\n",
      "2 python\n",
      "3 python\n",
      "4 python\n"
     ]
    }
   ],
   "source": [
    "count=0\n",
    "while count<5:\n",
    "    print(count, 'python')\n",
    "    count+=1"
   ]
  },
  {
   "cell_type": "code",
   "execution_count": 12,
   "id": "adb63e57",
   "metadata": {},
   "outputs": [
    {
     "name": "stdout",
     "output_type": "stream",
     "text": [
      "5 python\n",
      "4 python\n",
      "3 python\n",
      "2 python\n",
      "1 python\n"
     ]
    }
   ],
   "source": [
    "count=5\n",
    "while count>0:\n",
    "    print(count, 'python')\n",
    "    count-=1"
   ]
  },
  {
   "cell_type": "code",
   "execution_count": 3,
   "id": "82ee787e",
   "metadata": {},
   "outputs": [
    {
     "ename": "SyntaxError",
     "evalue": "invalid syntax (Temp/ipykernel_9820/537244558.py, line 4)",
     "output_type": "error",
     "traceback": [
      "\u001b[1;36m  File \u001b[1;32m\"C:\\Users\\LAB02R~1\\AppData\\Local\\Temp/ipykernel_9820/537244558.py\"\u001b[1;36m, line \u001b[1;32m4\u001b[0m\n\u001b[1;33m    if count %2==0\u001b[0m\n\u001b[1;37m                  ^\u001b[0m\n\u001b[1;31mSyntaxError\u001b[0m\u001b[1;31m:\u001b[0m invalid syntax\n"
     ]
    }
   ],
   "source": [
    "count=0\n",
    "while count<10:\n",
    "    print(count)\n",
    "    if count %2==0\n",
    "    continue\n",
    "    count+=1"
   ]
  },
  {
   "cell_type": "code",
   "execution_count": 19,
   "id": "76555d6b",
   "metadata": {},
   "outputs": [
    {
     "name": "stdout",
     "output_type": "stream",
     "text": [
      "2\n",
      "4\n",
      "6\n",
      "8\n",
      "10\n"
     ]
    }
   ],
   "source": [
    "count=0\n",
    "while count<10:\n",
    "    count+=1\n",
    "    if count %2==0:\n",
    "        print(count)    "
   ]
  },
  {
   "cell_type": "code",
   "execution_count": 21,
   "id": "a1fdbd68",
   "metadata": {},
   "outputs": [
    {
     "name": "stdout",
     "output_type": "stream",
     "text": [
      "3\n",
      "6\n",
      "9\n"
     ]
    }
   ],
   "source": [
    "count=0\n",
    "while count<10:\n",
    "    count+=1\n",
    "    if count %3==0:\n",
    "        print(count) "
   ]
  },
  {
   "cell_type": "code",
   "execution_count": 26,
   "id": "24d72a00",
   "metadata": {},
   "outputs": [
    {
     "name": "stdout",
     "output_type": "stream",
     "text": [
      "[3]\n",
      "[3, 6]\n",
      "[3, 6, 9]\n"
     ]
    }
   ],
   "source": [
    "lst=[]\n",
    "count=0\n",
    "while count<10:\n",
    "    count+=1\n",
    "    if count %3==0:\n",
    "        lst.append(count)\n",
    "        print(lst) "
   ]
  },
  {
   "cell_type": "code",
   "execution_count": 27,
   "id": "778dbb49",
   "metadata": {},
   "outputs": [
    {
     "ename": "SyntaxError",
     "evalue": "invalid syntax (Temp/ipykernel_7360/590646386.py, line 5)",
     "output_type": "error",
     "traceback": [
      "\u001b[1;36m  File \u001b[1;32m\"C:\\Users\\LAB02R~1\\AppData\\Local\\Temp/ipykernel_7360/590646386.py\"\u001b[1;36m, line \u001b[1;32m5\u001b[0m\n\u001b[1;33m    if best\u001b[0m\n\u001b[1;37m           ^\u001b[0m\n\u001b[1;31mSyntaxError\u001b[0m\u001b[1;31m:\u001b[0m invalid syntax\n"
     ]
    }
   ],
   "source": [
    "bestfrnds=[]\n",
    "while True:\n",
    "    bestfrnd=input(\"enter ur bst frnd or press 'q' to exit\")\n",
    "    bestfrnds.append(bestfrnd)\n",
    "    if best"
   ]
  },
  {
   "cell_type": "code",
   "execution_count": null,
   "id": "eef38670",
   "metadata": {},
   "outputs": [],
   "source": [
    "no=[]\n",
    "while True:\n",
    "    noin = int(input(\"enter no or press 0 to exit\"))\n",
    "    if noin==0 :\n",
    "        break\n",
    "    else:\n",
    "        no.append(noin)\n",
    "        total=sum(no)\n",
    "print(total)"
   ]
  },
  {
   "cell_type": "code",
   "execution_count": null,
   "id": "1447ba00",
   "metadata": {},
   "outputs": [],
   "source": [
    "no=[]\n",
    "flag=True\n",
    "while flag:\n",
    "    noin = int(input(\"enter no or press 0 to exit\"))\n",
    "    if noin==0 :\n",
    "        flag=False\n",
    "    else:\n",
    "        no.append(noin)\n",
    "        total=sum(no)\n",
    "print(total)"
   ]
  },
  {
   "cell_type": "code",
   "execution_count": 4,
   "id": "27a7d771",
   "metadata": {},
   "outputs": [
    {
     "name": "stdout",
     "output_type": "stream",
     "text": [
      "enter no or press Q to exit10\n",
      "enter no or press Q to exit20\n",
      "enter no or press Q to exit30\n",
      "enter no or press Q to exit40\n",
      "enter no or press Q to exitq\n",
      "100\n"
     ]
    }
   ],
   "source": [
    "no=[]\n",
    "while True:\n",
    "    noin = input(\"enter no or press Q to exit\")\n",
    "    if noin=='q' :\n",
    "        break\n",
    "    else:\n",
    "        no.append(int(noin))\n",
    "        total=sum(no)\n",
    "print(total)"
   ]
  },
  {
   "cell_type": "code",
   "execution_count": null,
   "id": "97510f05",
   "metadata": {},
   "outputs": [],
   "source": [
    "total=0\n",
    "favno=input('entr fav no with separated comma').split(',')\n",
    "for num in favno:\n",
    "    total+=int(num)\n",
    "print(total)"
   ]
  },
  {
   "cell_type": "code",
   "execution_count": 5,
   "id": "c9ac33e3",
   "metadata": {},
   "outputs": [
    {
     "name": "stdout",
     "output_type": "stream",
     "text": [
      "[10, 10, 11, 10, 11, 12, 10, 11, 12, 13, 10, 11, 12, 13, 14, 10, 11, 12, 13, 14, 15, 10, 11, 12, 13, 14, 15, 16, 10, 11, 12, 13, 14, 15, 16, 17, 10, 11, 12, 13, 14, 15, 16, 17, 18]\n"
     ]
    }
   ],
   "source": [
    "nums=[1,2,3,4,5,6,7,8,9]\n",
    "graterthan10ls=[]\n",
    "for num in nums:\n",
    "    for a in nums:\n",
    "        summ= num+a\n",
    "        if summ>=10:\n",
    "            graterthan10ls.append(summ)\n",
    "print(graterthan10ls)"
   ]
  },
  {
   "cell_type": "code",
   "execution_count": 4,
   "id": "e7e6c71e",
   "metadata": {},
   "outputs": [
    {
     "data": {
      "text/plain": [
       "[10,\n",
       " 10,\n",
       " 11,\n",
       " 10,\n",
       " 11,\n",
       " 12,\n",
       " 10,\n",
       " 11,\n",
       " 12,\n",
       " 13,\n",
       " 10,\n",
       " 11,\n",
       " 12,\n",
       " 13,\n",
       " 14,\n",
       " 10,\n",
       " 11,\n",
       " 12,\n",
       " 13,\n",
       " 14,\n",
       " 15,\n",
       " 10,\n",
       " 11,\n",
       " 12,\n",
       " 13,\n",
       " 14,\n",
       " 15,\n",
       " 16,\n",
       " 10,\n",
       " 11,\n",
       " 12,\n",
       " 13,\n",
       " 14,\n",
       " 15,\n",
       " 16,\n",
       " 17,\n",
       " 10,\n",
       " 11,\n",
       " 12,\n",
       " 13,\n",
       " 14,\n",
       " 15,\n",
       " 16,\n",
       " 17,\n",
       " 18]"
      ]
     },
     "execution_count": 4,
     "metadata": {},
     "output_type": "execute_result"
    }
   ],
   "source": [
    "graterthan10ls"
   ]
  },
  {
   "cell_type": "code",
   "execution_count": null,
   "id": "5257004a",
   "metadata": {},
   "outputs": [],
   "source": []
  }
 ],
 "metadata": {
  "kernelspec": {
   "display_name": "Python 3 (ipykernel)",
   "language": "python",
   "name": "python3"
  },
  "language_info": {
   "codemirror_mode": {
    "name": "ipython",
    "version": 3
   },
   "file_extension": ".py",
   "mimetype": "text/x-python",
   "name": "python",
   "nbconvert_exporter": "python",
   "pygments_lexer": "ipython3",
   "version": "3.9.7"
  }
 },
 "nbformat": 4,
 "nbformat_minor": 5
}
