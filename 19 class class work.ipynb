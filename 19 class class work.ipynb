{
 "cells": [
  {
   "cell_type": "code",
   "execution_count": null,
   "id": "d2939237",
   "metadata": {},
   "outputs": [],
   "source": [
    "class bank():\n",
    "    def __init__(self,ac_title,ac_no,ac_type):\n",
    "        self.ac_title= ac_title\n",
    "        self.ac_no= ac_no\n",
    "        self.ac_type= ac_type\n",
    "    def acholder(self):\n",
    "        print(f'a/c holder name is {ac_title} ')\n",
    "    def current (self):\n",
    "        print(f'a/c holder type is current')\n",
    "    def saving (self):\n",
    "        print(f'a/c holder type is saving')\n",
    "    "
   ]
  },
  {
   "cell_type": "code",
   "execution_count": null,
   "id": "0d5baa2c",
   "metadata": {},
   "outputs": [],
   "source": [
    "c1= bank('kashif',111,'saving')\n",
    "c1.ac_title"
   ]
  },
  {
   "cell_type": "code",
   "execution_count": null,
   "id": "845cf9fc",
   "metadata": {},
   "outputs": [],
   "source": [
    "#9-1. Restaurant:\n",
    "class resturant():\n",
    "    def __init__(self, resturant_name, cuisine):\n",
    "        self.resturant_name=resturant_name\n",
    "        self.cuisine=cuisine\n",
    "    \n",
    "    def discribe_resturant(self):\n",
    "        print(\"\"\" \n",
    "                Welcome\n",
    "            resturant_name : {self.resturant_name}\n",
    "            cuisine        : {self.cuisine}\n",
    "            \"\"\")\n",
    "    def open_res(self):\n",
    "        print(f\" {self.resturant_name} is open\")"
   ]
  },
  {
   "cell_type": "code",
   "execution_count": null,
   "id": "38f8bcfb",
   "metadata": {},
   "outputs": [],
   "source": [
    "old_res= resturant(\"mama quta\", \"chiness\")\n",
    "new_res= resturant(\"abc\",\"fastfood\")\n",
    "modren_res= resturant(\"xyz\",\"abc\")"
   ]
  },
  {
   "cell_type": "code",
   "execution_count": null,
   "id": "d0a7b042",
   "metadata": {},
   "outputs": [],
   "source": [
    "old_res.open_res()"
   ]
  },
  {
   "cell_type": "code",
   "execution_count": null,
   "id": "1feb2a00",
   "metadata": {},
   "outputs": [],
   "source": [
    "# 9-3. Users: Make a class called User. Create two attributes called first_name\n",
    "and last_name, and then create several other attributes that are typically stored \n",
    "in a user profile. Make a method called describe_user() that prints a summary \n",
    "of the user’s information. Make another method called greet_user() that prints \n",
    "a personalized greeting to the user.\n",
    "Create several instances representing different users, and call both methods \n",
    "for each user\n",
    "\n"
   ]
  },
  {
   "cell_type": "code",
   "execution_count": null,
   "id": "ed24bd9a",
   "metadata": {},
   "outputs": [],
   "source": [
    "class User():\n",
    "    \"\"\"Represent a simple user profile.\"\"\"\n",
    "\n",
    "    def __init__(self, first_name, last_name, username, email, location):\n",
    "        \"\"\"Initialize the user.\"\"\"\n",
    "        self.first_name = first_name\n",
    "        self.last_name = last_name\n",
    "        self.username = username\n",
    "        self.email = email\n",
    "        self.location = location\n",
    "\n",
    "    def describe_user(self):\n",
    "        \"\"\"Display a summary of the user's information.\"\"\"\n",
    "        print(\"\\n\" + self.first_name + \" \" + self.last_name)\n",
    "        print(\"  Username: \" + self.username)\n",
    "        print(\"  Email: \" + self.email)\n",
    "        print(\"  Location: \" + self.location)\n",
    "\n",
    "    def greet_user(self):\n",
    "        \"\"\"Display a personalized greeting to the user.\"\"\"\n",
    "        print(\"\\nWelcome back, \" + self.username + \"!\")\n",
    "\n",
    "eric = User('eric', 'matthes', 'e_matthes', 'e_matthes@example.com', 'alaska')\n",
    "eric.describe_user()\n",
    "eric.greet_user()\n",
    "\n",
    "willie = User('willie', 'burger', 'willieburger', 'wb@example.com', 'alaska')\n",
    "willie.describe_user()\n",
    "willie.greet_user()"
   ]
  },
  {
   "cell_type": "code",
   "execution_count": null,
   "id": "5908ddc5",
   "metadata": {},
   "outputs": [],
   "source": [
    "class moblie():\n",
    "    def __init__(self, model, brand, memory ,color=\"black\"):\n",
    "        self.model= model\n",
    "        self.brand= brand\n",
    "        self.memory = memory\n",
    "        self.color= color\n",
    "        self.usage= \"new\"\n",
    "    def call(self, contactno):\n",
    "        print(f\"{self.model},{self.brand},{self.memory},{self.usage} call to {contactno}\")\n",
    "          "
   ]
  },
  {
   "cell_type": "code",
   "execution_count": null,
   "id": "1d6f2c74",
   "metadata": {},
   "outputs": [],
   "source": [
    "mob= moblie(\"3310\",\"nokia\",\"100MB\")"
   ]
  },
  {
   "cell_type": "code",
   "execution_count": 1,
   "id": "fe9e2613",
   "metadata": {},
   "outputs": [
    {
     "ename": "NameError",
     "evalue": "name 'mob' is not defined",
     "output_type": "error",
     "traceback": [
      "\u001b[1;31m---------------------------------------------------------------------------\u001b[0m",
      "\u001b[1;31mNameError\u001b[0m                                 Traceback (most recent call last)",
      "\u001b[1;32mC:\\Users\\LAB02R~1\\AppData\\Local\\Temp/ipykernel_12192/3576689175.py\u001b[0m in \u001b[0;36m<module>\u001b[1;34m\u001b[0m\n\u001b[1;32m----> 1\u001b[1;33m \u001b[0mmob\u001b[0m\u001b[1;33m.\u001b[0m\u001b[0mcall\u001b[0m\u001b[1;33m(\u001b[0m\u001b[1;34m\"15\"\u001b[0m\u001b[1;33m)\u001b[0m\u001b[1;33m\u001b[0m\u001b[1;33m\u001b[0m\u001b[0m\n\u001b[0m",
      "\u001b[1;31mNameError\u001b[0m: name 'mob' is not defined"
     ]
    }
   ],
   "source": [
    "mob.call(\"15\")"
   ]
  },
  {
   "cell_type": "code",
   "execution_count": 2,
   "id": "d553c91c",
   "metadata": {},
   "outputs": [],
   "source": [
    "class Car():\n",
    "    \"\"\"A simple attempt to represent a car.\"\"\"\n",
    "\n",
    "    def __init__(self, manufacturer, model, year):\n",
    "        \"\"\"Initialize attributes to describe a car.\"\"\"\n",
    "        self.manufacturer = manufacturer\n",
    "        self.model = model\n",
    "        self.year = year\n",
    "        self.odometer_reading = 0\n",
    "        \n",
    "    def get_descriptive_name(self):\n",
    "        \"\"\"Return a neatly formatted descriptive name.\"\"\"\n",
    "        long_name = str(self.year) + ' ' + self.manufacturer + ' ' + self.model\n",
    "        return long_name.title()\n",
    "    \n",
    "    def read_odometer(self):\n",
    "        \"\"\"Print a statement showing the car's mileage.\"\"\"\n",
    "        print(\"This car has \" + str(self.odometer_reading) + \" miles on it.\")\n",
    "        \n",
    "    def update_odometer(self, mileage):\n",
    "        \"\"\"\n",
    "        Set the odometer reading to the given value.\n",
    "        Reject the change if it attempts to roll the odometer back.\n",
    "        \"\"\"\n",
    "        if mileage >= self.odometer_reading:\n",
    "            self.odometer_reading = mileage\n",
    "        else:\n",
    "            print(\"You can't roll back an odometer!\")\n",
    "    \n",
    "    def increment_odometer(self, miles):\n",
    "        \"\"\"Add the given amount to the odometer reading.\"\"\"\n",
    "        self.odometer_reading += miles"
   ]
  },
  {
   "cell_type": "code",
   "execution_count": 3,
   "id": "2e58144b",
   "metadata": {},
   "outputs": [],
   "source": [
    "class Car():\n",
    "    def __init__(self, make, model, year):\n",
    "        self.make = make\n",
    "        self.model = model\n",
    "        self.year = year\n",
    " \n",
    "    def get_descriptive_name(self):\n",
    "        long_name = str(self.year) + ' ' + self.make + ' ' + self.model\n",
    "        return long_name.title()"
   ]
  },
  {
   "cell_type": "code",
   "execution_count": 4,
   "id": "1e43f072",
   "metadata": {},
   "outputs": [],
   "source": [
    "class Car(): \n",
    "    def __init__(self, make, model, year):\n",
    "        self.make = make\n",
    "        self.model = model\n",
    "        self.year = year\n",
    "        self.odometer_reading = 0 \n",
    "    def get_descriptive_name(self): \n",
    "        long_name = str(self.year) + ' ' + self.make + ' ' + self.model\n",
    "        return long_name.title()    \n",
    "    def get_odometer_reading(self): \n",
    "        return self.odometer_reading    \n",
    "    def set_odometer_reading(self,new_reading):\n",
    "        \n",
    "        self.odometer_reading = new_reading"
   ]
  },
  {
   "cell_type": "code",
   "execution_count": null,
   "id": "1b3f4819",
   "metadata": {},
   "outputs": [],
   "source": []
  }
 ],
 "metadata": {
  "kernelspec": {
   "display_name": "Python 3 (ipykernel)",
   "language": "python",
   "name": "python3"
  },
  "language_info": {
   "codemirror_mode": {
    "name": "ipython",
    "version": 3
   },
   "file_extension": ".py",
   "mimetype": "text/x-python",
   "name": "python",
   "nbconvert_exporter": "python",
   "pygments_lexer": "ipython3",
   "version": "3.9.7"
  }
 },
 "nbformat": 4,
 "nbformat_minor": 5
}
