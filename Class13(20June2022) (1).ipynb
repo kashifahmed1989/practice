{
 "cells": [
  {
   "cell_type": "markdown",
   "id": "7c2db1dd",
   "metadata": {},
   "source": [
    "# While Loop\n"
   ]
  },
  {
   "cell_type": "code",
   "execution_count": 5,
   "id": "67a2e0ce",
   "metadata": {},
   "outputs": [],
   "source": [
    "names = ['asad','nasir','fahad','abdullah','ali']"
   ]
  },
  {
   "cell_type": "code",
   "execution_count": null,
   "id": "602e09df",
   "metadata": {},
   "outputs": [],
   "source": [
    "for name in names:\n",
    "    print(name.upper())  \n",
    "    "
   ]
  },
  {
   "cell_type": "code",
   "execution_count": null,
   "id": "ccc15728",
   "metadata": {},
   "outputs": [],
   "source": [
    "count = 0\n",
    "while count<len(names):\n",
    "    print(names[count].upper())\n",
    "    count +=1"
   ]
  },
  {
   "cell_type": "code",
   "execution_count": null,
   "id": "0133a47f",
   "metadata": {},
   "outputs": [],
   "source": [
    "for a in range(5):\n",
    "    print(a, \"Python\")"
   ]
  },
  {
   "cell_type": "code",
   "execution_count": null,
   "id": "1f3cbf4f",
   "metadata": {},
   "outputs": [],
   "source": [
    "count=0\n",
    "while count<5:\n",
    "    print(count, 'Python')\n",
    "    count +=1  "
   ]
  },
  {
   "cell_type": "code",
   "execution_count": null,
   "id": "1f82c9d6",
   "metadata": {},
   "outputs": [],
   "source": [
    "count=10\n",
    "while count>0:\n",
    "    print(count, 'Python')\n",
    "    count -=1  "
   ]
  },
  {
   "cell_type": "code",
   "execution_count": 3,
   "id": "85f8c065",
   "metadata": {},
   "outputs": [
    {
     "name": "stdout",
     "output_type": "stream",
     "text": [
      "1\n",
      "3\n"
     ]
    }
   ],
   "source": [
    "count=0\n",
    "while count<4:\n",
    "    count +=1\n",
    "    if count%2==0:\n",
    "        \n",
    "        continue\n",
    "    print(count)\n",
    "    "
   ]
  },
  {
   "cell_type": "raw",
   "id": "e04db574",
   "metadata": {},
   "source": [
    "count = 0     print>>>\n",
    "        1             1 \n"
   ]
  },
  {
   "cell_type": "code",
   "execution_count": 6,
   "id": "d80f093b",
   "metadata": {},
   "outputs": [
    {
     "data": {
      "text/plain": [
       "['asad', 'nasir', 'fahad', 'abdullah', 'ali']"
      ]
     },
     "execution_count": 6,
     "metadata": {},
     "output_type": "execute_result"
    }
   ],
   "source": [
    "names"
   ]
  },
  {
   "cell_type": "code",
   "execution_count": 9,
   "id": "14b54c2e",
   "metadata": {},
   "outputs": [
    {
     "name": "stdout",
     "output_type": "stream",
     "text": [
      "Enter a number3\n",
      "9\n",
      "Enter a number4\n",
      "16\n",
      "Enter a number5\n",
      "25\n",
      "Enter a number6\n",
      "36\n",
      "Enter a number14\n",
      "the number 14 is multiples of 7\n"
     ]
    }
   ],
   "source": [
    "while True:\n",
    "    num = int(input(\"Enter a number\"))\n",
    "    if num%7==0:\n",
    "        print(f\"the number {num} is multiples of 7\")\n",
    "        break \n",
    "    else:\n",
    "        \n",
    "        print(num**2)"
   ]
  },
  {
   "cell_type": "code",
   "execution_count": 18,
   "id": "e1e037e2",
   "metadata": {},
   "outputs": [
    {
     "name": "stdout",
     "output_type": "stream",
     "text": [
      "Enter your best friends name or press 'q' to exitqw\n",
      "Enter your best friends name or press 'q' to exiter\n",
      "Enter your best friends name or press 'q' to exitty\n",
      "Enter your best friends name or press 'q' to exitui\n",
      "Enter your best friends name or press 'q' to exitop\n",
      "Enter your best friends name or press 'q' to exitq\n"
     ]
    },
    {
     "data": {
      "text/plain": [
       "['qw', 'er', 'ty', 'ui', 'op']"
      ]
     },
     "execution_count": 18,
     "metadata": {},
     "output_type": "execute_result"
    }
   ],
   "source": [
    "best_friends = []\n",
    "while True:\n",
    "    best_friend = input(\"Enter your best friends name or press 'q' to exit\")\n",
    "    \n",
    "    if best_friend=='q':\n",
    "        break\n",
    "    else:\n",
    "        best_friends.append(best_friend)\n",
    "    \n",
    "best_friends"
   ]
  },
  {
   "cell_type": "code",
   "execution_count": 20,
   "id": "75bf95ab",
   "metadata": {},
   "outputs": [
    {
     "name": "stdout",
     "output_type": "stream",
     "text": [
      "Enter your best friends name or press 'q' to exitqw\n",
      "Enter your best friends name or press 'q' to exiter\n",
      "Enter your best friends name or press 'q' to exitty\n",
      "Enter your best friends name or press 'q' to exitui\n",
      "Enter your best friends name or press 'q' to exitq\n"
     ]
    },
    {
     "data": {
      "text/plain": [
       "['qw', 'er', 'ty', 'ui']"
      ]
     },
     "execution_count": 20,
     "metadata": {},
     "output_type": "execute_result"
    }
   ],
   "source": [
    "best_friends = []\n",
    "flag =True\n",
    "\n",
    "while flag:\n",
    "    best_friend = input(\"Enter your best friends name or press 'q' to exit\")\n",
    "    \n",
    "    if best_friend=='q':\n",
    "        flag =False\n",
    "    else:\n",
    "        best_friends.append(best_friend)\n",
    "    \n",
    "best_friends"
   ]
  },
  {
   "cell_type": "code",
   "execution_count": 29,
   "id": "d5554fb7",
   "metadata": {},
   "outputs": [
    {
     "name": "stdout",
     "output_type": "stream",
     "text": [
      "Enter a number of your choice or 'q' to exit>>1\n",
      "Enter a number of your choice or 'q' to exit>>23\n",
      "Enter a number of your choice or 'q' to exit>>4\n",
      "Enter a number of your choice or 'q' to exit>>5\n",
      "Enter a number of your choice or 'q' to exit>>q\n",
      "33\n"
     ]
    }
   ],
   "source": [
    "total = 0\n",
    "while True:\n",
    "    num = input(\"Enter a number of your choice or 'q' to exit>>\")\n",
    "    if num=='q':\n",
    "        break\n",
    "    total +=int(num)\n",
    "print(total)"
   ]
  },
  {
   "cell_type": "code",
   "execution_count": 31,
   "id": "6344513d",
   "metadata": {},
   "outputs": [
    {
     "name": "stdout",
     "output_type": "stream",
     "text": [
      "Enter a number of your choice or 'q' to exit>>34\n",
      "Enter a number of your choice or 'q' to exit>>56\n",
      "Enter a number of your choice or 'q' to exit>>78\n",
      "Enter a number of your choice or 'q' to exit>>34\n",
      "Enter a number of your choice or 'q' to exit>>56\n",
      "Enter a number of your choice or 'q' to exit>>q\n",
      "258\n"
     ]
    }
   ],
   "source": [
    "total =[]\n",
    "while True:\n",
    "    num = input(\"Enter a number of your choice or 'q' to exit>>\")\n",
    "    if num=='q':\n",
    "        break\n",
    "    else:\n",
    "        \n",
    "        total.append(int(num))\n",
    "print(sum(total))"
   ]
  },
  {
   "cell_type": "code",
   "execution_count": 37,
   "id": "f80811a9",
   "metadata": {},
   "outputs": [
    {
     "name": "stdout",
     "output_type": "stream",
     "text": [
      "Enter your comma separated favourite numbers3,4,5,6,7,8\n",
      "33\n"
     ]
    }
   ],
   "source": [
    "total=0\n",
    "fav_nums = input('Enter your comma separated favourite numbers').split(',')\n",
    "for num in fav_nums:\n",
    "    total +=int(num)\n",
    "print(total)\n",
    "    "
   ]
  },
  {
   "cell_type": "code",
   "execution_count": 34,
   "id": "69be9fcf",
   "metadata": {},
   "outputs": [
    {
     "data": {
      "text/plain": [
       "['Pak', 'stan']"
      ]
     },
     "execution_count": 34,
     "metadata": {},
     "output_type": "execute_result"
    }
   ],
   "source": [
    "'Pakistan'.split('i')"
   ]
  },
  {
   "cell_type": "code",
   "execution_count": 39,
   "id": "8288acb1",
   "metadata": {},
   "outputs": [],
   "source": [
    "nums=[1,2,3,4,5,6,7,8,9]"
   ]
  },
  {
   "cell_type": "code",
   "execution_count": 42,
   "id": "3d3180bd",
   "metadata": {},
   "outputs": [
    {
     "data": {
      "text/plain": [
       "[10,\n",
       " 10,\n",
       " 11,\n",
       " 10,\n",
       " 11,\n",
       " 12,\n",
       " 10,\n",
       " 11,\n",
       " 12,\n",
       " 13,\n",
       " 10,\n",
       " 11,\n",
       " 12,\n",
       " 13,\n",
       " 14,\n",
       " 10,\n",
       " 11,\n",
       " 12,\n",
       " 13,\n",
       " 14,\n",
       " 15,\n",
       " 10,\n",
       " 11,\n",
       " 12,\n",
       " 13,\n",
       " 14,\n",
       " 15,\n",
       " 16,\n",
       " 10,\n",
       " 11,\n",
       " 12,\n",
       " 13,\n",
       " 14,\n",
       " 15,\n",
       " 16,\n",
       " 17,\n",
       " 11,\n",
       " 12,\n",
       " 13,\n",
       " 14,\n",
       " 15,\n",
       " 16,\n",
       " 17,\n",
       " 18]"
      ]
     },
     "execution_count": 42,
     "metadata": {},
     "output_type": "execute_result"
    }
   ],
   "source": [
    "greaterthan10=[]\n",
    "for num in nums:\n",
    "    for a in nums[]:\n",
    "        summ = num + a    # 1+2, 1+3,1+4,1+5,1+6,1+7,1+8,1+9\n",
    "        if summ>=10:\n",
    "            greaterthan10.append(summ)\n",
    "            \n",
    "        \n",
    "greaterthan10   "
   ]
  },
  {
   "cell_type": "code",
   "execution_count": null,
   "id": "c2a28e81",
   "metadata": {},
   "outputs": [],
   "source": []
  }
 ],
 "metadata": {
  "kernelspec": {
   "display_name": "Python 3 (ipykernel)",
   "language": "python",
   "name": "python3"
  },
  "language_info": {
   "codemirror_mode": {
    "name": "ipython",
    "version": 3
   },
   "file_extension": ".py",
   "mimetype": "text/x-python",
   "name": "python",
   "nbconvert_exporter": "python",
   "pygments_lexer": "ipython3",
   "version": "3.9.7"
  }
 },
 "nbformat": 4,
 "nbformat_minor": 5
}
