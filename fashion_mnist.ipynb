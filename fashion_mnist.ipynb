{
  "nbformat": 4,
  "nbformat_minor": 0,
  "metadata": {
    "colab": {
      "provenance": []
    },
    "kernelspec": {
      "name": "python3",
      "display_name": "Python 3"
    },
    "language_info": {
      "name": "python"
    }
  },
  "cells": [
    {
      "cell_type": "code",
      "execution_count": null,
      "metadata": {
        "id": "diK7_WTIQQBH"
      },
      "outputs": [],
      "source": [
        "import tensorflow\n",
        "\n",
        "from tensorflow.keras.datasets import fashion_mnist\n",
        "\n",
        "(train_images, train_labels), (test_images, test_labels) = fashion_mnist.load_data()\n",
        "\n"
      ]
    },
    {
      "cell_type": "code",
      "source": [
        "train_labels"
      ],
      "metadata": {
        "colab": {
          "base_uri": "https://localhost:8080/"
        },
        "id": "DW_qyqYkUA7F",
        "outputId": "8534130a-1efd-49c5-db46-eace6a9e3454"
      },
      "execution_count": null,
      "outputs": [
        {
          "output_type": "execute_result",
          "data": {
            "text/plain": [
              "array([9, 0, 0, ..., 3, 0, 5], dtype=uint8)"
            ]
          },
          "metadata": {},
          "execution_count": 33
        }
      ]
    },
    {
      "cell_type": "code",
      "source": [
        "labels = {0:\"T-shirt/Top\", 1:\"Trouser\",2:\"Pull Over\",3:\"Dress\",4:\"Coat\",5:\"Sandle\",6:\"Shirt\",7:\"Sneaker\",8:\"Bag\",9:'AnkelBoots',}"
      ],
      "metadata": {
        "id": "A4GlMTcXR3ts"
      },
      "execution_count": null,
      "outputs": []
    },
    {
      "cell_type": "code",
      "source": [
        "from tensorflow.keras import models\n",
        "from tensorflow.keras import layers\n",
        "\n",
        "network = models.Sequential()\n",
        "network.add(layers.Dense(512, activation='relu', input_shape=(784,)))\n",
        "\n",
        "network.add(layers.Dense(10, activation='softmax'))\n",
        "\n",
        "network.compile(optimizer='rmsprop',loss='categorical_crossentropy',metrics=['accuracy']) \n",
        "train_images = train_images.reshape((60000, 784))\n",
        "\n",
        "train_images = train_images.astype('float32') / 255\n",
        "test_images = test_images.reshape((10000, 28 * 28))\n",
        "test_images = test_images.astype('float32') / 255\n",
        "from tensorflow.keras.utils import to_categorical\n",
        "\n",
        "train_labels = to_categorical(train_labels)\n",
        "test_labels = to_categorical(test_labels)\n",
        "\n",
        "network.fit(train_images, train_labels, epochs=30, batch_size=128)\n",
        "\n",
        "\n",
        "test_loss, test_acc = network.evaluate(test_images, test_labels)"
      ],
      "metadata": {
        "colab": {
          "base_uri": "https://localhost:8080/"
        },
        "id": "f5QI_amFT9Uu",
        "outputId": "f001e9cc-e5bc-42a8-9ebc-54d567022bc3"
      },
      "execution_count": null,
      "outputs": [
        {
          "output_type": "stream",
          "name": "stdout",
          "text": [
            "Epoch 1/30\n",
            "469/469 [==============================] - 5s 10ms/step - loss: 0.5621 - accuracy: 0.8015\n",
            "Epoch 2/30\n",
            "469/469 [==============================] - 5s 10ms/step - loss: 0.3809 - accuracy: 0.8594\n",
            "Epoch 3/30\n",
            "469/469 [==============================] - 5s 10ms/step - loss: 0.3380 - accuracy: 0.8764\n",
            "Epoch 4/30\n",
            "469/469 [==============================] - 5s 10ms/step - loss: 0.3117 - accuracy: 0.8854\n",
            "Epoch 5/30\n",
            "469/469 [==============================] - 5s 10ms/step - loss: 0.2925 - accuracy: 0.8933\n",
            "Epoch 6/30\n",
            "469/469 [==============================] - 5s 10ms/step - loss: 0.2777 - accuracy: 0.8980\n",
            "Epoch 7/30\n",
            "469/469 [==============================] - 5s 10ms/step - loss: 0.2614 - accuracy: 0.9021\n",
            "Epoch 8/30\n",
            "469/469 [==============================] - 5s 10ms/step - loss: 0.2527 - accuracy: 0.9058\n",
            "Epoch 9/30\n",
            "469/469 [==============================] - 5s 10ms/step - loss: 0.2441 - accuracy: 0.9091\n",
            "Epoch 10/30\n",
            "469/469 [==============================] - 5s 10ms/step - loss: 0.2341 - accuracy: 0.9131\n",
            "Epoch 11/30\n",
            "469/469 [==============================] - 5s 10ms/step - loss: 0.2259 - accuracy: 0.9163\n",
            "Epoch 12/30\n",
            "469/469 [==============================] - 5s 10ms/step - loss: 0.2182 - accuracy: 0.9193\n",
            "Epoch 13/30\n",
            "469/469 [==============================] - 5s 10ms/step - loss: 0.2122 - accuracy: 0.9214\n",
            "Epoch 14/30\n",
            "469/469 [==============================] - 5s 10ms/step - loss: 0.2039 - accuracy: 0.9240\n",
            "Epoch 15/30\n",
            "469/469 [==============================] - 5s 10ms/step - loss: 0.1981 - accuracy: 0.9270\n",
            "Epoch 16/30\n",
            "469/469 [==============================] - 5s 10ms/step - loss: 0.1912 - accuracy: 0.9294\n",
            "Epoch 17/30\n",
            "469/469 [==============================] - 5s 10ms/step - loss: 0.1875 - accuracy: 0.9314\n",
            "Epoch 18/30\n",
            "469/469 [==============================] - 5s 10ms/step - loss: 0.1820 - accuracy: 0.9318\n",
            "Epoch 19/30\n",
            "469/469 [==============================] - 5s 10ms/step - loss: 0.1757 - accuracy: 0.9349\n",
            "Epoch 20/30\n",
            "469/469 [==============================] - 5s 10ms/step - loss: 0.1734 - accuracy: 0.9361\n",
            "Epoch 21/30\n",
            "469/469 [==============================] - 5s 10ms/step - loss: 0.1688 - accuracy: 0.9384\n",
            "Epoch 22/30\n",
            "469/469 [==============================] - 5s 10ms/step - loss: 0.1648 - accuracy: 0.9392\n",
            "Epoch 23/30\n",
            "469/469 [==============================] - 5s 10ms/step - loss: 0.1588 - accuracy: 0.9418\n",
            "Epoch 24/30\n",
            "469/469 [==============================] - 5s 10ms/step - loss: 0.1567 - accuracy: 0.9428\n",
            "Epoch 25/30\n",
            "469/469 [==============================] - 5s 10ms/step - loss: 0.1519 - accuracy: 0.9437\n",
            "Epoch 26/30\n",
            "469/469 [==============================] - 5s 10ms/step - loss: 0.1494 - accuracy: 0.9455\n",
            "Epoch 27/30\n",
            "469/469 [==============================] - 5s 10ms/step - loss: 0.1450 - accuracy: 0.9481\n",
            "Epoch 28/30\n",
            "469/469 [==============================] - 5s 10ms/step - loss: 0.1416 - accuracy: 0.9486\n",
            "Epoch 29/30\n",
            "469/469 [==============================] - 5s 10ms/step - loss: 0.1404 - accuracy: 0.9503\n",
            "Epoch 30/30\n",
            "469/469 [==============================] - 5s 10ms/step - loss: 0.1359 - accuracy: 0.9516\n",
            "313/313 [==============================] - 1s 3ms/step - loss: 0.4752 - accuracy: 0.8900\n"
          ]
        }
      ]
    },
    {
      "cell_type": "code",
      "source": [
        "test_loss, test_acc"
      ],
      "metadata": {
        "colab": {
          "base_uri": "https://localhost:8080/"
        },
        "id": "c26dI4b0U-UG",
        "outputId": "17b71058-b4df-4d54-9b43-1ed7b2249b27"
      },
      "execution_count": null,
      "outputs": [
        {
          "output_type": "execute_result",
          "data": {
            "text/plain": [
              "(0.35840579867362976, 0.8880000114440918)"
            ]
          },
          "metadata": {},
          "execution_count": 30
        }
      ]
    },
    {
      "cell_type": "code",
      "source": [],
      "metadata": {
        "id": "c7yIO8UYT36m"
      },
      "execution_count": null,
      "outputs": []
    },
    {
      "cell_type": "code",
      "source": [
        "digit = test_images[145].reshape(28,28)\n",
        "import matplotlib.pyplot as plt\n",
        "plt.imshow(digit, cmap=plt.cm.binary)\n",
        "plt.show()\n"
      ],
      "metadata": {
        "colab": {
          "base_uri": "https://localhost:8080/",
          "height": 265
        },
        "id": "IwG2BstpQqqV",
        "outputId": "03b95307-fe1c-4868-9ced-091cce116847"
      },
      "execution_count": null,
      "outputs": [
        {
          "output_type": "display_data",
          "data": {
            "text/plain": [
              "<Figure size 432x288 with 1 Axes>"
            ],
            "image/png": "[encoded data removed]"
          },
          "metadata": {
            "needs_background": "light"
          }
        }
      ]
    },
    {
      "cell_type": "code",
      "source": [
        "train_labels[0]"
      ],
      "metadata": {
        "colab": {
          "base_uri": "https://localhost:8080/"
        },
        "id": "cWz83pD5RHMV",
        "outputId": "b19400c6-3fb5-4306-ee8e-55a18adac770"
      },
      "execution_count": null,
      "outputs": [
        {
          "output_type": "execute_result",
          "data": {
            "text/plain": [
              "array([0., 0., 0., 0., 0., 0., 0., 0., 0., 1.], dtype=float32)"
            ]
          },
          "metadata": {},
          "execution_count": 6
        }
      ]
    },
    {
      "cell_type": "code",
      "source": [
        "result = network.predict(test_images[145].reshape(1,784))"
      ],
      "metadata": {
        "colab": {
          "base_uri": "https://localhost:8080/"
        },
        "id": "ggGgK8xkRPME",
        "outputId": "c94dd01b-d03e-4a48-942e-dbbf7fa6c823"
      },
      "execution_count": null,
      "outputs": [
        {
          "output_type": "stream",
          "name": "stdout",
          "text": [
            "1/1 [==============================] - 0s 19ms/step\n"
          ]
        }
      ]
    },
    {
      "cell_type": "code",
      "source": [
        "print(result)\n",
        "print(f\"The given image is {labels[result.argmax()]}\")"
      ],
      "metadata": {
        "colab": {
          "base_uri": "https://localhost:8080/"
        },
        "id": "i8J_QsuLRswc",
        "outputId": "f0b10ba0-3d05-4207-c072-608f6b4434f5"
      },
      "execution_count": null,
      "outputs": [
        {
          "output_type": "stream",
          "name": "stdout",
          "text": [
            "[[7.38263305e-04 1.54833811e-14 9.00974452e-01 5.60884473e-07\n",
            "  2.41306570e-05 1.56789538e-22 9.82626677e-02 3.53318688e-21\n",
            "  4.73738149e-12 1.04241355e-22]]\n",
            "The given image is Pull Over\n"
          ]
        }
      ]
    },
    {
      "cell_type": "code",
      "source": [],
      "metadata": {
        "id": "GMhALmTnTLmV"
      },
      "execution_count": null,
      "outputs": []
    }
  ]
}