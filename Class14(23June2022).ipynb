{
 "cells": [
  {
   "cell_type": "markdown",
   "id": "24845bbd",
   "metadata": {},
   "source": [
    "# Tuple"
   ]
  },
  {
   "cell_type": "code",
   "execution_count": 1,
   "id": "84f6ac63",
   "metadata": {},
   "outputs": [],
   "source": [
    "marks = (2,4,True, 'Pakistan', 4.5, [1,2,3],(2,3,4),{'class':\"Ai-DS\"})"
   ]
  },
  {
   "cell_type": "code",
   "execution_count": 2,
   "id": "a194eb9c",
   "metadata": {},
   "outputs": [
    {
     "data": {
      "text/plain": [
       "'Pakistan'"
      ]
     },
     "execution_count": 2,
     "metadata": {},
     "output_type": "execute_result"
    }
   ],
   "source": [
    "marks[3]"
   ]
  },
  {
   "cell_type": "code",
   "execution_count": 3,
   "id": "f07f08f2",
   "metadata": {},
   "outputs": [
    {
     "data": {
      "text/plain": [
       "(2, 3, 4)"
      ]
     },
     "execution_count": 3,
     "metadata": {},
     "output_type": "execute_result"
    }
   ],
   "source": [
    "marks[6]"
   ]
  },
  {
   "cell_type": "code",
   "execution_count": 4,
   "id": "d96619e6",
   "metadata": {},
   "outputs": [
    {
     "data": {
      "text/plain": [
       "4"
      ]
     },
     "execution_count": 4,
     "metadata": {},
     "output_type": "execute_result"
    }
   ],
   "source": [
    "marks[6][2]\n"
   ]
  },
  {
   "cell_type": "code",
   "execution_count": 5,
   "id": "d35d77dc",
   "metadata": {},
   "outputs": [
    {
     "data": {
      "text/plain": [
       "{'class': 'Ai-DS'}"
      ]
     },
     "execution_count": 5,
     "metadata": {},
     "output_type": "execute_result"
    }
   ],
   "source": [
    "marks[7]"
   ]
  },
  {
   "cell_type": "code",
   "execution_count": 7,
   "id": "4502936d",
   "metadata": {},
   "outputs": [
    {
     "data": {
      "text/plain": [
       "'Ai-DS'"
      ]
     },
     "execution_count": 7,
     "metadata": {},
     "output_type": "execute_result"
    }
   ],
   "source": [
    "marks[7]['class']"
   ]
  },
  {
   "cell_type": "code",
   "execution_count": 8,
   "id": "fe352063",
   "metadata": {},
   "outputs": [
    {
     "ename": "TypeError",
     "evalue": "'tuple' object does not support item assignment",
     "output_type": "error",
     "traceback": [
      "\u001b[1;31m---------------------------------------------------------------------------\u001b[0m",
      "\u001b[1;31mTypeError\u001b[0m                                 Traceback (most recent call last)",
      "\u001b[1;32mC:\\Users\\LAB-02~1\\AppData\\Local\\Temp/ipykernel_8100/307370795.py\u001b[0m in \u001b[0;36m<module>\u001b[1;34m\u001b[0m\n\u001b[1;32m----> 1\u001b[1;33m \u001b[0mmarks\u001b[0m\u001b[1;33m[\u001b[0m\u001b[1;36m0\u001b[0m\u001b[1;33m]\u001b[0m\u001b[1;33m=\u001b[0m\u001b[1;36m7\u001b[0m\u001b[1;33m\u001b[0m\u001b[1;33m\u001b[0m\u001b[0m\n\u001b[0m",
      "\u001b[1;31mTypeError\u001b[0m: 'tuple' object does not support item assignment"
     ]
    }
   ],
   "source": [
    "# immutable \n",
    "marks[0]=7"
   ]
  },
  {
   "cell_type": "code",
   "execution_count": 9,
   "id": "83e507d8",
   "metadata": {},
   "outputs": [],
   "source": [
    "marks[7]['class']=\"python\""
   ]
  },
  {
   "cell_type": "code",
   "execution_count": 11,
   "id": "c81fbbd7",
   "metadata": {},
   "outputs": [
    {
     "data": {
      "text/plain": [
       "1"
      ]
     },
     "execution_count": 11,
     "metadata": {},
     "output_type": "execute_result"
    }
   ],
   "source": [
    "marks.count(2)"
   ]
  },
  {
   "cell_type": "code",
   "execution_count": 12,
   "id": "e993d532",
   "metadata": {},
   "outputs": [
    {
     "data": {
      "text/plain": [
       "4"
      ]
     },
     "execution_count": 12,
     "metadata": {},
     "output_type": "execute_result"
    }
   ],
   "source": [
    "marks.index(4.5)"
   ]
  },
  {
   "cell_type": "markdown",
   "id": "77205184",
   "metadata": {},
   "source": [
    "# SET"
   ]
  },
  {
   "cell_type": "code",
   "execution_count": 15,
   "id": "335a7fec",
   "metadata": {},
   "outputs": [],
   "source": [
    "my_set = {2,3}"
   ]
  },
  {
   "cell_type": "code",
   "execution_count": 16,
   "id": "d9c0bd05",
   "metadata": {},
   "outputs": [
    {
     "data": {
      "text/plain": [
       "set"
      ]
     },
     "execution_count": 16,
     "metadata": {},
     "output_type": "execute_result"
    }
   ],
   "source": [
    "type(my_set)"
   ]
  },
  {
   "cell_type": "code",
   "execution_count": 17,
   "id": "84cb052c",
   "metadata": {},
   "outputs": [],
   "source": [
    "my_set = {2,3,3,5,6,7,8,9,9}"
   ]
  },
  {
   "cell_type": "code",
   "execution_count": 25,
   "id": "4f743027",
   "metadata": {},
   "outputs": [
    {
     "data": {
      "text/plain": [
       "{2, 3, 5, 6, 7, 8, 9, 10000}"
      ]
     },
     "execution_count": 25,
     "metadata": {},
     "output_type": "execute_result"
    }
   ],
   "source": [
    "my_set.add(10000)\n",
    "my_set."
   ]
  },
  {
   "cell_type": "code",
   "execution_count": 19,
   "id": "e17e3c62",
   "metadata": {},
   "outputs": [],
   "source": [
    "alist = [22,33,44,55,33,44,22]"
   ]
  },
  {
   "cell_type": "code",
   "execution_count": 20,
   "id": "92628c17",
   "metadata": {},
   "outputs": [],
   "source": [
    "newlist = []\n",
    "for a in alist:\n",
    "    if a not in newlist:\n",
    "        newlist.append(a)\n",
    "        "
   ]
  },
  {
   "cell_type": "code",
   "execution_count": 21,
   "id": "311e9bb0",
   "metadata": {},
   "outputs": [
    {
     "data": {
      "text/plain": [
       "[22, 33, 44, 55]"
      ]
     },
     "execution_count": 21,
     "metadata": {},
     "output_type": "execute_result"
    }
   ],
   "source": [
    "newlist"
   ]
  },
  {
   "cell_type": "code",
   "execution_count": 24,
   "id": "8b1abd09",
   "metadata": {},
   "outputs": [
    {
     "data": {
      "text/plain": [
       "[33, 44, 22, 55]"
      ]
     },
     "execution_count": 24,
     "metadata": {},
     "output_type": "execute_result"
    }
   ],
   "source": [
    "alist = list(set(alist))\n",
    "alist"
   ]
  },
  {
   "cell_type": "code",
   "execution_count": 26,
   "id": "200b8baf",
   "metadata": {},
   "outputs": [],
   "source": [
    "#Do your sleves \n",
    "# implemet all set functions"
   ]
  },
  {
   "cell_type": "code",
   "execution_count": 27,
   "id": "0dc43cef",
   "metadata": {},
   "outputs": [
    {
     "data": {
      "text/plain": [
       "{2, 3, 5, 6, 7, 8, 9, 10000}"
      ]
     },
     "execution_count": 27,
     "metadata": {},
     "output_type": "execute_result"
    }
   ],
   "source": [
    "my_set"
   ]
  },
  {
   "cell_type": "code",
   "execution_count": 33,
   "id": "321a0828",
   "metadata": {},
   "outputs": [],
   "source": [
    "apkaset = {33,44}\n",
    "subkaset = apkaset.copy()"
   ]
  },
  {
   "cell_type": "code",
   "execution_count": 34,
   "id": "7966f9cb",
   "metadata": {},
   "outputs": [
    {
     "data": {
      "text/plain": [
       "{33, 44}"
      ]
     },
     "execution_count": 34,
     "metadata": {},
     "output_type": "execute_result"
    }
   ],
   "source": [
    "subkaset"
   ]
  },
  {
   "cell_type": "code",
   "execution_count": 29,
   "id": "b4245062",
   "metadata": {},
   "outputs": [],
   "source": [
    "my_set.update(apkaset)"
   ]
  },
  {
   "cell_type": "code",
   "execution_count": 30,
   "id": "a1279117",
   "metadata": {},
   "outputs": [
    {
     "data": {
      "text/plain": [
       "{2, 3, 5, 6, 7, 8, 9, 33, 44, 10000}"
      ]
     },
     "execution_count": 30,
     "metadata": {},
     "output_type": "execute_result"
    }
   ],
   "source": [
    "my_set"
   ]
  },
  {
   "cell_type": "code",
   "execution_count": 31,
   "id": "9819f4f1",
   "metadata": {},
   "outputs": [],
   "source": [
    "my_set.clear()"
   ]
  },
  {
   "cell_type": "code",
   "execution_count": 32,
   "id": "d73d06a7",
   "metadata": {},
   "outputs": [
    {
     "data": {
      "text/plain": [
       "set()"
      ]
     },
     "execution_count": 32,
     "metadata": {},
     "output_type": "execute_result"
    }
   ],
   "source": [
    "my_set"
   ]
  },
  {
   "cell_type": "code",
   "execution_count": 36,
   "id": "2ac857f2",
   "metadata": {},
   "outputs": [
    {
     "data": {
      "text/plain": [
       "{33, 44}"
      ]
     },
     "execution_count": 36,
     "metadata": {},
     "output_type": "execute_result"
    }
   ],
   "source": [
    "apkaset"
   ]
  },
  {
   "cell_type": "code",
   "execution_count": 38,
   "id": "00cd4cb8",
   "metadata": {},
   "outputs": [],
   "source": [
    "apkaset.remove(33)"
   ]
  },
  {
   "cell_type": "code",
   "execution_count": 39,
   "id": "4e9d5b8b",
   "metadata": {},
   "outputs": [
    {
     "data": {
      "text/plain": [
       "{44}"
      ]
     },
     "execution_count": 39,
     "metadata": {},
     "output_type": "execute_result"
    }
   ],
   "source": [
    "apkaset"
   ]
  },
  {
   "cell_type": "code",
   "execution_count": 44,
   "id": "ad28a7bb",
   "metadata": {},
   "outputs": [],
   "source": [
    "apkaset.add(31)"
   ]
  },
  {
   "cell_type": "code",
   "execution_count": 45,
   "id": "76c9ddb7",
   "metadata": {},
   "outputs": [
    {
     "data": {
      "text/plain": [
       "{3, 23, 31, 33, 44, 233}"
      ]
     },
     "execution_count": 45,
     "metadata": {},
     "output_type": "execute_result"
    }
   ],
   "source": [
    "apkaset"
   ]
  },
  {
   "cell_type": "code",
   "execution_count": 47,
   "id": "1c198b20",
   "metadata": {},
   "outputs": [],
   "source": [
    "apkaset.discard(100)"
   ]
  },
  {
   "cell_type": "code",
   "execution_count": 56,
   "id": "8241db89",
   "metadata": {},
   "outputs": [],
   "source": [
    "subkaset = {3,44,7,8,9}"
   ]
  },
  {
   "cell_type": "code",
   "execution_count": 57,
   "id": "5eeac893",
   "metadata": {},
   "outputs": [],
   "source": [
    "apkaset.difference_update(subkaset)"
   ]
  },
  {
   "cell_type": "code",
   "execution_count": 58,
   "id": "55572c5a",
   "metadata": {},
   "outputs": [
    {
     "data": {
      "text/plain": [
       "{23, 31, 233}"
      ]
     },
     "execution_count": 58,
     "metadata": {},
     "output_type": "execute_result"
    }
   ],
   "source": [
    "apkaset"
   ]
  },
  {
   "cell_type": "code",
   "execution_count": 54,
   "id": "9fd204ab",
   "metadata": {},
   "outputs": [
    {
     "data": {
      "text/plain": [
       "{3, 23, 31, 233}"
      ]
     },
     "execution_count": 54,
     "metadata": {},
     "output_type": "execute_result"
    }
   ],
   "source": [
    "apkaset"
   ]
  },
  {
   "cell_type": "code",
   "execution_count": 55,
   "id": "22bdf49e",
   "metadata": {},
   "outputs": [
    {
     "data": {
      "text/plain": [
       "{33, 44}"
      ]
     },
     "execution_count": 55,
     "metadata": {},
     "output_type": "execute_result"
    }
   ],
   "source": [
    "subkaset"
   ]
  },
  {
   "cell_type": "markdown",
   "id": "ee30b8d4",
   "metadata": {},
   "source": [
    "# Functions\n",
    "   - Buit-in fucntions\n",
    "   - user-defined functions"
   ]
  },
  {
   "cell_type": "code",
   "execution_count": 60,
   "id": "c409bcb8",
   "metadata": {},
   "outputs": [],
   "source": [
    "# function definition\n",
    "def mean(arr):# paremter \n",
    "    tot = 0\n",
    "    for val in arr:\n",
    "        tot +=val\n",
    "    return tot/len(arr)\n",
    "        \n",
    "    "
   ]
  },
  {
   "cell_type": "code",
   "execution_count": 61,
   "id": "940f5c12",
   "metadata": {},
   "outputs": [
    {
     "data": {
      "text/plain": [
       "5.0"
      ]
     },
     "execution_count": 61,
     "metadata": {},
     "output_type": "execute_result"
    }
   ],
   "source": [
    "#call \n",
    "mean([1,2,3,4,5,6,7,8,9])# argument"
   ]
  },
  {
   "cell_type": "code",
   "execution_count": 68,
   "id": "702a6ce2",
   "metadata": {},
   "outputs": [],
   "source": [
    "#define\n",
    "def say_hello():\n",
    "    print(\"Hello Friends\")\n",
    "# parameter less function"
   ]
  },
  {
   "cell_type": "code",
   "execution_count": 69,
   "id": "5f19dfa7",
   "metadata": {},
   "outputs": [
    {
     "name": "stdout",
     "output_type": "stream",
     "text": [
      "Hello Friends\n"
     ]
    }
   ],
   "source": [
    "# call \n",
    "say_hello()"
   ]
  },
  {
   "cell_type": "code",
   "execution_count": 75,
   "id": "11ba5bdd",
   "metadata": {},
   "outputs": [],
   "source": [
    "def say_salam(name):\n",
    "    print(f\"Assalam.o.Alaiklum Mr.{name}\")\n",
    "#parametrised function"
   ]
  },
  {
   "cell_type": "code",
   "execution_count": 76,
   "id": "e0d352ac",
   "metadata": {},
   "outputs": [
    {
     "name": "stdout",
     "output_type": "stream",
     "text": [
      "Assalam.o.Alaiklum Mr.kashif\n"
     ]
    }
   ],
   "source": [
    "say_salam(\"kashif\")"
   ]
  },
  {
   "cell_type": "code",
   "execution_count": 77,
   "id": "be87fc45",
   "metadata": {},
   "outputs": [
    {
     "name": "stdout",
     "output_type": "stream",
     "text": [
      "Assalam.o.Alaiklum Mr.Salman\n"
     ]
    }
   ],
   "source": [
    "say_salam(\"Salman\")"
   ]
  },
  {
   "cell_type": "code",
   "execution_count": 78,
   "id": "a94936fe",
   "metadata": {},
   "outputs": [
    {
     "name": "stdout",
     "output_type": "stream",
     "text": [
      "Assalam.o.Alaiklum Mr.Umer\n"
     ]
    }
   ],
   "source": [
    "say_salam(\"Umer\")"
   ]
  },
  {
   "cell_type": "code",
   "execution_count": 79,
   "id": "15d1380f",
   "metadata": {},
   "outputs": [],
   "source": [
    "def lower_text(para):\n",
    "    \n",
    "    print(para.lower())  "
   ]
  },
  {
   "cell_type": "code",
   "execution_count": 80,
   "id": "3ecea6cf",
   "metadata": {},
   "outputs": [
    {
     "name": "stdout",
     "output_type": "stream",
     "text": [
      "hello h ru mr. ali\n"
     ]
    }
   ],
   "source": [
    "lower_text(\"HELLO H RU MR. aLI\")"
   ]
  },
  {
   "cell_type": "code",
   "execution_count": 82,
   "id": "84454df5",
   "metadata": {},
   "outputs": [],
   "source": [
    "def char_count(para):\n",
    "    print(f'There are {len(para)} characters in you paragraph')"
   ]
  },
  {
   "cell_type": "code",
   "execution_count": 83,
   "id": "cc9fe3d8",
   "metadata": {},
   "outputs": [
    {
     "name": "stdout",
     "output_type": "stream",
     "text": [
      "There are 104 characters in you paragraph\n"
     ]
    }
   ],
   "source": []
  },
  {
   "cell_type": "code",
   "execution_count": 100,
   "id": "4b159e10",
   "metadata": {},
   "outputs": [],
   "source": [
    "def word_count(para):\n",
    "    print(f\"There are {len(para.split(' '))} words in your paragraph\")"
   ]
  },
  {
   "cell_type": "code",
   "execution_count": 101,
   "id": "f74d3740",
   "metadata": {},
   "outputs": [
    {
     "name": "stdout",
     "output_type": "stream",
     "text": [
      "There are 19 words in your paragraph\n"
     ]
    }
   ],
   "source": [
    "word_count(\"a book or other written or printed work, regarded in terms of its content rather than its physical form.\")"
   ]
  },
  {
   "cell_type": "code",
   "execution_count": 112,
   "id": "67292514",
   "metadata": {},
   "outputs": [],
   "source": [
    "def sent_count(para):\n",
    "    print(f\"There are {len(para.split('.'))} words in your paragraph\")"
   ]
  },
  {
   "cell_type": "code",
   "execution_count": 111,
   "id": "d597837f",
   "metadata": {},
   "outputs": [
    {
     "name": "stdout",
     "output_type": "stream",
     "text": [
      "There are 6 words in your paragraph\n"
     ]
    }
   ],
   "source": [
    "sent_count(\"a set of words that is complete in itself, typically containing a subject and predicate. conveying a statement, question. exclamation, or command. and consisting of a main clause. and sometimes one or more subordinate clauses. \")"
   ]
  },
  {
   "cell_type": "code",
   "execution_count": 114,
   "id": "1c4740b1",
   "metadata": {},
   "outputs": [
    {
     "name": "stdout",
     "output_type": "stream",
     "text": [
      "There are 225 characters in you paragraph\n"
     ]
    }
   ],
   "source": [
    "char_count(\"a set of words that is complete in itself, typically containing a subject and predicate, conveying a statement, question, exclamation, or command, and consisting of a main clause and sometimes one or more subordinate clauses.\")"
   ]
  },
  {
   "cell_type": "code",
   "execution_count": null,
   "id": "1fc7b26b",
   "metadata": {},
   "outputs": [],
   "source": [
    "def char_count(para):\n",
    "    charCount =0\n",
    "    for char in para:\n",
    "        if char.isalpha():\n",
    "            count +=1\n",
    "        \n",
    "    \n",
    "    "
   ]
  },
  {
   "cell_type": "code",
   "execution_count": 115,
   "id": "508d6b41",
   "metadata": {},
   "outputs": [
    {
     "data": {
      "text/plain": [
       "True"
      ]
     },
     "execution_count": 115,
     "metadata": {},
     "output_type": "execute_result"
    }
   ],
   "source": [
    "\"pk\".isalpha()"
   ]
  },
  {
   "cell_type": "code",
   "execution_count": null,
   "id": "26f0850e",
   "metadata": {},
   "outputs": [],
   "source": []
  }
 ],
 "metadata": {
  "kernelspec": {
   "display_name": "Python 3 (ipykernel)",
   "language": "python",
   "name": "python3"
  },
  "language_info": {
   "codemirror_mode": {
    "name": "ipython",
    "version": 3
   },
   "file_extension": ".py",
   "mimetype": "text/x-python",
   "name": "python",
   "nbconvert_exporter": "python",
   "pygments_lexer": "ipython3",
   "version": "3.9.7"
  }
 },
 "nbformat": 4,
 "nbformat_minor": 5
}
