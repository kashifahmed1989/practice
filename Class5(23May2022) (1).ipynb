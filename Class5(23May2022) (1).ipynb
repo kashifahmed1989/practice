{
 "cells": [
  {
   "cell_type": "markdown",
   "id": "f47c9fc6",
   "metadata": {},
   "source": [
    "# If Else Elif Statements"
   ]
  },
  {
   "cell_type": "raw",
   "id": "fb5ac184",
   "metadata": {},
   "source": [
    "- If else \n",
    "- If elif else  # multiple ifs\n"
   ]
  },
  {
   "cell_type": "code",
   "execution_count": 13,
   "id": "f2667024",
   "metadata": {},
   "outputs": [
    {
     "name": "stdout",
     "output_type": "stream",
     "text": [
      "Enter marks in subject155\n",
      "Enter marks in subject155\n",
      "Enter marks in subject155\n",
      "Enter marks in subject155\n",
      "Enter marks in subject155\n",
      "\n",
      "        SCORE REPORT\n",
      "Grade : C\n",
      "Percentage: 55.00000000000001\n",
      "\n"
     ]
    }
   ],
   "source": [
    "subj1 = float(input(\"Enter marks in subject1\"))\n",
    "subj2 = float(input(\"Enter marks in subject1\"))\n",
    "subj3 = float(input(\"Enter marks in subject1\"))\n",
    "subj4 = float(input(\"Enter marks in subject1\"))\n",
    "subj5 = float(input(\"Enter marks in subject1\"))\n",
    "total_marks = 500\n",
    "\n",
    "obt_marks = subj1+subj2+subj3+subj4+subj5\n",
    "percentage = obt_marks / total_marks * 100\n",
    "grade = None\n",
    "\n",
    "if percentage>=80:\n",
    "    grade = \"A+\"\n",
    "elif percentage>=70:\n",
    "    grade = \"A\"\n",
    "elif percentage>=60:\n",
    "    grade = \"B\"\n",
    "elif percentage>=50:\n",
    "    grade = \"C\"\n",
    "else:\n",
    "    grade = \"F\"\n",
    "result_card = f\"\"\"\n",
    "        SCORE REPORT\n",
    "Grade : {grade}\n",
    "Percentage: {percentage}\n",
    "\"\"\"\n",
    "print(result_card)"
   ]
  },
  {
   "cell_type": "code",
   "execution_count": 14,
   "id": "87ea755b",
   "metadata": {},
   "outputs": [
    {
     "name": "stdout",
     "output_type": "stream",
     "text": [
      "Enter marks in subject178\n",
      "Enter marks in subject178\n",
      "Enter marks in subject178\n",
      "Enter marks in subject178\n",
      "Enter marks in subject178\n",
      "Your Grade is A+\n",
      "Your perc is 78.0\n"
     ]
    }
   ],
   "source": [
    "subj1 = float(input(\"Enter marks in subject1\"))\n",
    "subj2 = float(input(\"Enter marks in subject1\"))\n",
    "subj3 = float(input(\"Enter marks in subject1\"))\n",
    "subj4 = float(input(\"Enter marks in subject1\"))\n",
    "subj5 = float(input(\"Enter marks in subject1\"))\n",
    "total_marks = 500\n",
    "\n",
    "obt_marks = subj1+subj2+subj3+subj4+subj5\n",
    "percentage = obt_marks / total_marks * 100\n",
    "grade = None\n",
    "\n",
    "# there is a logical mistake  coz every percentage will be less than 100\n",
    "if percentage>=90 or percentage<=100 :\n",
    "    grade = \"A+\"\n",
    "elif percentage>=80 or percentage<90 :\n",
    "    grade = \"A\"\n",
    "elif percentage>=70 or percentage<80 :\n",
    "    grade = \"B\"\n",
    "elif percentage>=60 or percentage<70 :\n",
    "    grade = \"C\"\n",
    "elif percentage>=50 or percentage<60 :\n",
    "    grade = \"D\"\n",
    "else:\n",
    "    grade = \"F\"\n",
    "print(f\"Your Grade is {grade}\")\n",
    "print(f\"Your perc is {percentage}\")"
   ]
  },
  {
   "cell_type": "code",
   "execution_count": 15,
   "id": "cdf3b550",
   "metadata": {},
   "outputs": [
    {
     "name": "stdout",
     "output_type": "stream",
     "text": [
      "Enter marks in subject156\n",
      "Enter marks in subject152\n",
      "Enter marks in subject152\n",
      "Enter marks in subject153\n",
      "Enter marks in subject136\n",
      "Your grade is None\n",
      "Your perc is 49.8\n"
     ]
    }
   ],
   "source": [
    "subj1 = float(input(\"Enter marks in subject1\"))\n",
    "subj2 = float(input(\"Enter marks in subject1\"))\n",
    "subj3 = float(input(\"Enter marks in subject1\"))\n",
    "subj4 = float(input(\"Enter marks in subject1\"))\n",
    "subj5 = float(input(\"Enter marks in subject1\"))\n",
    "total_marks = 500\n",
    "\n",
    "obt_marks = subj1+subj2+subj3+subj4+subj5\n",
    "percentage = obt_marks / total_marks * 100\n",
    "grade = None\n",
    "\n",
    "if percentage<40:\n",
    "    grade = \"F\"\n",
    "# logicall error every percentage greater than 50 will fall in this check\n",
    "elif percentage>=50:\n",
    "    grade = \"D\"\n",
    "elif percentage>=60:\n",
    "    grade = \"C\"\n",
    "elif percentage>=70:\n",
    "    grade = \"B\"\n",
    "elif percentage>=80:\n",
    "    grade = \"A\"\n",
    "elif percentage>=90:\n",
    "    grade = \"A+\"\n",
    "\n",
    "print(f\"Your grade is {grade}\")\n",
    "print(f\"Your perc is {percentage}\")"
   ]
  },
  {
   "cell_type": "code",
   "execution_count": 16,
   "id": "90bd3c8b",
   "metadata": {},
   "outputs": [
    {
     "name": "stdout",
     "output_type": "stream",
     "text": [
      "Enter marks in subject189\n",
      "Enter marks in subject189\n",
      "Enter marks in subject185\n",
      "Enter marks in subject152\n",
      "Enter marks in subject123\n",
      "Your perc is 67.60000000000001\n",
      "Your grade is C\n"
     ]
    }
   ],
   "source": [
    "subj1 = float(input(\"Enter marks in subject1\"))\n",
    "subj2 = float(input(\"Enter marks in subject1\"))\n",
    "subj3 = float(input(\"Enter marks in subject1\"))\n",
    "subj4 = float(input(\"Enter marks in subject1\"))\n",
    "subj5 = float(input(\"Enter marks in subject1\"))\n",
    "total_marks = 500\n",
    "\n",
    "obt_marks = subj1+subj2+subj3+subj4+subj5\n",
    "percentage = obt_marks / total_marks * 100\n",
    "grade = None\n",
    "# logic will be wrong if we \"or\" operator instead of \"and\" operator\n",
    "if percentage>=90 and percentage<=100:\n",
    "    grade = \"A+\"\n",
    "\n",
    "elif percentage>=80 and percentage<=90:\n",
    "    grade = \"A\"\n",
    "\n",
    "elif percentage>=70 and percentage<=80:\n",
    "    grade = \"B+\"\n",
    "\n",
    "elif percentage>=60 and percentage<=70:\n",
    "    grade = \"C\"\n",
    "\n",
    "elif percentage>=50 and percentage<=60:\n",
    "    grade = \"D\"\n",
    "elif percentage>=40 and percentage<=50:\n",
    "    grade = \"E\"\n",
    "else:\n",
    "    grade=\"F\"\n",
    "print(f\"Your perc is {percentage}\")\n",
    "print(f\"Your grade is {grade}\")"
   ]
  },
  {
   "cell_type": "markdown",
   "id": "942f79b0",
   "metadata": {},
   "source": [
    "# Nested If's"
   ]
  },
  {
   "cell_type": "code",
   "execution_count": 19,
   "id": "90965b90",
   "metadata": {},
   "outputs": [
    {
     "name": "stdout",
     "output_type": "stream",
     "text": [
      "Enter your usernamenasir\n",
      "Enter passwoerdwee\n",
      "user name doesnt exist\n"
     ]
    }
   ],
   "source": [
    "user=\"nasirhussain\"\n",
    "pass_word= \"123456\"\n",
    "\n",
    "user_name = input(\"Enter your username\")\n",
    "password = input(\"Enter passwoerd\")\n",
    "\n",
    "if user_name == user:\n",
    "    if password == pass_word:\n",
    "        print(\"Login APPROVED\")\n",
    "    else:\n",
    "        print(\"password doesnt match\")\n",
    "else:\n",
    "    print(\"user name doesnt exist\")"
   ]
  },
  {
   "cell_type": "code",
   "execution_count": 21,
   "id": "103e0bb8",
   "metadata": {},
   "outputs": [
    {
     "name": "stdout",
     "output_type": "stream",
     "text": [
      "Enter your usernamenasir\n",
      "user name doesnt exist\n"
     ]
    }
   ],
   "source": [
    "user=\"nasirhussain\"\n",
    "pass_word= \"123456\"\n",
    "\n",
    "user_name = input(\"Enter your username\")\n",
    "\n",
    "if user_name == user:\n",
    "    password = input(\"Enter passwoerd\")\n",
    "\n",
    "    if password == pass_word:\n",
    "        print(\"Login APPROVED\")\n",
    "    else:\n",
    "        print(\"password doesnt match\")\n",
    "else:\n",
    "    print(\"user name doesnt exist\")"
   ]
  },
  {
   "cell_type": "code",
   "execution_count": 18,
   "id": "0c55804f",
   "metadata": {},
   "outputs": [
    {
     "name": "stdout",
     "output_type": "stream",
     "text": [
      "Hello\n"
     ]
    }
   ],
   "source": [
    "if \"a\" > \"b\":\n",
    "    pass # pass is used to skip the block\n",
    "\n",
    "print(\"Hello\")"
   ]
  },
  {
   "cell_type": "code",
   "execution_count": null,
   "id": "e652ab2d",
   "metadata": {},
   "outputs": [],
   "source": []
  }
 ],
 "metadata": {
  "kernelspec": {
   "display_name": "Python 3 (ipykernel)",
   "language": "python",
   "name": "python3"
  },
  "language_info": {
   "codemirror_mode": {
    "name": "ipython",
    "version": 3
   },
   "file_extension": ".py",
   "mimetype": "text/x-python",
   "name": "python",
   "nbconvert_exporter": "python",
   "pygments_lexer": "ipython3",
   "version": "3.9.7"
  }
 },
 "nbformat": 4,
 "nbformat_minor": 5
}
