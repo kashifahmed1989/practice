{
 "cells": [
  {
   "cell_type": "code",
   "execution_count": null,
   "id": "c813887b",
   "metadata": {},
   "outputs": [],
   "source": [
    "def func(arr,task):\n",
    "    \n",
    "    if task== \"sum\":\n",
    "        return sum(arr)\n",
    "    \n",
    "    elif task==\"mult\":\n",
    "        result =1\n",
    "        for num in arr:\n",
    "            result*=num\n",
    "        return result\n",
    "    \n",
    "    elif task==\"max\":\n",
    "        return max(arr)\n",
    "    \n",
    "    elif task ==\"min\":\n",
    "        return min(arr)\n",
    "    \n",
    "    elif task ==\"even\":\n",
    "        even=[]\n",
    "        for num in arr:\n",
    "            if num%2==0:\n",
    "                even.append(num)\n",
    "        return even\n",
    "    \n",
    "    elif task ==\"odd\":\n",
    "        odd=[]\n",
    "        for num in arr:\n",
    "            if num%3==0:\n",
    "                odd.append(num)\n",
    "        return odd\n",
    "    \n",
    "    "
   ]
  },
  {
   "cell_type": "code",
   "execution_count": null,
   "id": "bc13bb01",
   "metadata": {},
   "outputs": [],
   "source": [
    "func([3,4,5,6,7], \"sum\")"
   ]
  },
  {
   "cell_type": "code",
   "execution_count": null,
   "id": "58b2eba2",
   "metadata": {},
   "outputs": [],
   "source": [
    "func([3,4,5,6,7], \"even\")"
   ]
  },
  {
   "cell_type": "code",
   "execution_count": null,
   "id": "3ded18a9",
   "metadata": {},
   "outputs": [],
   "source": [
    "func([3,4,5,6,7], \"odd\")"
   ]
  },
  {
   "cell_type": "code",
   "execution_count": null,
   "id": "f3e01a39",
   "metadata": {},
   "outputs": [],
   "source": [
    "func([3,4,5,6,7], \"max\")"
   ]
  },
  {
   "cell_type": "code",
   "execution_count": null,
   "id": "181ff4f0",
   "metadata": {},
   "outputs": [],
   "source": [
    "func([3,4,5,6,7], \"mult\")"
   ]
  },
  {
   "cell_type": "code",
   "execution_count": null,
   "id": "399ba330",
   "metadata": {},
   "outputs": [],
   "source": [
    "func([3,4,5,6,7], \"min\")"
   ]
  },
  {
   "cell_type": "code",
   "execution_count": null,
   "id": "9c281e6f",
   "metadata": {},
   "outputs": [],
   "source": [
    "#arr= float(input(\"enter: \"))\n",
    "arr=[]\n",
    "for i in range(5):\n",
    "    i= int(input(\"entr:\"))\n",
    "    arr.append\n",
    "def func(arr,task):\n",
    "    if task== \"sum\":\n",
    "        return sum(arr)\n",
    "    \n",
    "    elif task==\"mult\":\n",
    "        result =1\n",
    "        for num in arr:\n",
    "            result*=num\n",
    "        return result\n",
    "    \n",
    "    elif task==\"max\":\n",
    "        return max(arr)\n",
    "    \n",
    "    elif task ==\"min\":\n",
    "        return min(arr)\n",
    "    \n",
    "    elif task ==\"even\":\n",
    "        even=[]\n",
    "        for num in arr:\n",
    "            if num%2==0:\n",
    "                even.append(num)\n",
    "        return even\n",
    "    \n",
    "    elif task ==\"odd\":\n",
    "        odd=[]\n",
    "        for num in arr:\n",
    "            if num%3==0:\n",
    "                odd.append(num)\n",
    "        return odd\n"
   ]
  },
  {
   "cell_type": "code",
   "execution_count": null,
   "id": "4d104cf7",
   "metadata": {},
   "outputs": [],
   "source": [
    "func(arr, \"add\")"
   ]
  },
  {
   "cell_type": "code",
   "execution_count": 4,
   "id": "4dbaad54",
   "metadata": {},
   "outputs": [],
   "source": [
    "def description(name, age, gender,blood_group):\n",
    "    desc= f\"\"\" the name of person {name}\n",
    "    The age is {age}\n",
    "    the gender is{gender}\n",
    "    bloog gp is {blood_group}\"\"\"\n",
    "    Print(desc)\n",
    "musician = build_person('jimmy', 'hendrix')"
   ]
  },
  {
   "cell_type": "code",
   "execution_count": 6,
   "id": "2947d32b",
   "metadata": {},
   "outputs": [
    {
     "ename": "NameError",
     "evalue": "name 'musician' is not defined",
     "output_type": "error",
     "traceback": [
      "\u001b[1;31m---------------------------------------------------------------------------\u001b[0m",
      "\u001b[1;31mNameError\u001b[0m                                 Traceback (most recent call last)",
      "\u001b[1;32mC:\\Users\\LAB02R~1\\AppData\\Local\\Temp/ipykernel_8088/3755392684.py\u001b[0m in \u001b[0;36m<module>\u001b[1;34m\u001b[0m\n\u001b[1;32m----> 1\u001b[1;33m \u001b[0mmusician\u001b[0m\u001b[1;33m\u001b[0m\u001b[1;33m\u001b[0m\u001b[0m\n\u001b[0m",
      "\u001b[1;31mNameError\u001b[0m: name 'musician' is not defined"
     ]
    }
   ],
   "source": [
    "musician"
   ]
  }
 ],
 "metadata": {
  "kernelspec": {
   "display_name": "Python 3 (ipykernel)",
   "language": "python",
   "name": "python3"
  },
  "language_info": {
   "codemirror_mode": {
    "name": "ipython",
    "version": 3
   },
   "file_extension": ".py",
   "mimetype": "text/x-python",
   "name": "python",
   "nbconvert_exporter": "python",
   "pygments_lexer": "ipython3",
   "version": "3.9.7"
  }
 },
 "nbformat": 4,
 "nbformat_minor": 5
}
