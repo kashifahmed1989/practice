{
 "cells": [
  {
   "cell_type": "markdown",
   "id": "3da80799",
   "metadata": {},
   "source": [
    "1# Write a function that finds the max of the inputted array\n",
    "If the user passes an argument:\n",
    "arr = [8,5,2,3,7,0,1]\n",
    "The function should return the max value from the array:\n",
    "Note: We need to write our own max algorithm. Use of python function is not acceptable.\n",
    "    "
   ]
  },
  {
   "cell_type": "code",
   "execution_count": 1,
   "id": "78e3df94",
   "metadata": {},
   "outputs": [
    {
     "name": "stdout",
     "output_type": "stream",
     "text": [
      "Maximum value of the array is 8\n"
     ]
    }
   ],
   "source": [
    "import numpy as np\n",
    "arr = [8,5,2,3,7,0,1]\n",
    "max_value = np.max(arr)\n",
    "print('Maximum value of the array is',max_value)"
   ]
  },
  {
   "cell_type": "code",
   "execution_count": null,
   "id": "739a96e1",
   "metadata": {},
   "outputs": [],
   "source": []
  },
  {
   "cell_type": "markdown",
   "id": "b14f9749",
   "metadata": {},
   "source": [
    "Task2:\n",
    "Write a function that count the number of digits and characters in a text supplied to it. \n",
    "Suppose the following argument is supplied to the program:\n",
    "hello world! 123\n",
    "\n",
    "Then, the function should return:\n",
    "\n",
    "LETTERS 10\n",
    "DIGITS 3\n"
   ]
  },
  {
   "cell_type": "code",
   "execution_count": 2,
   "id": "10114f97",
   "metadata": {},
   "outputs": [
    {
     "name": "stdout",
     "output_type": "stream",
     "text": [
      "Letters 10\n",
      "Digits 3\n"
     ]
    }
   ],
   "source": [
    "#Task#2\n",
    "a = \"hello world! 123\"\n",
    "b=l=0\n",
    "for c in a:\n",
    "    if c.isdigit():\n",
    "        b=b+1\n",
    "    elif c.isalpha():\n",
    "        l=l+1\n",
    "    else:\n",
    "        pass\n",
    "print(\"Letters\", l)\n",
    "print(\"Digits\", b)"
   ]
  },
  {
   "cell_type": "markdown",
   "id": "11b4c559",
   "metadata": {},
   "source": [
    "Task3: You need to write a class “Line” that has two properties coord1 and coord2 \n",
    "Where: coord1 =(x1, y1)\n",
    "\t      coord2=(x2,y2)\n",
    "Create two lines by passing coordinates of line. Like (x1,y1) and (x2,y2). A line class has following methods:\n",
    "Function Name\tParameters\tReturn \n",
    "isLine\tco-ord1, co-rod2\tStr “Line”\n",
    "Length_of_line\tco-ord1, co-rod2\tNumeric length\n",
    "Slope_of_line\tco-ord1, co-rod2\tNumeric slope\n",
    "Parallel\tlineObj1,lineObj2\tStr status “parallel”/ “not parallel”\n",
    "Perpendicular\tlineObj2,lineObj2\tStr status “perpenduclar” / “Not perpendicular”"
   ]
  },
  {
   "cell_type": "code",
   "execution_count": 3,
   "id": "bb2a1ac5",
   "metadata": {},
   "outputs": [
    {
     "data": {
      "text/plain": [
       "4"
      ]
     },
     "execution_count": 3,
     "metadata": {},
     "output_type": "execute_result"
    }
   ],
   "source": [
    "4#Write a function that accepts a text argument and return the longest word in the test supplied."
   ]
  },
  {
   "cell_type": "code",
   "execution_count": 4,
   "id": "f21032b1",
   "metadata": {},
   "outputs": [
    {
     "name": "stdout",
     "output_type": "stream",
     "text": [
      "The word with longest length is: 22\n"
     ]
    }
   ],
   "source": [
    "#tASK 4\n",
    "def longestLength(a):\n",
    "    max1 = len(a[0])\n",
    "    for i in a:\n",
    "        if(len(i) > max1):\n",
    "            max1 = len(i)\n",
    "    print(\"The word with longest length is:\", max1)\n",
    " \n",
    "a = [\"kashi\", \"kashif\", \"kashifahmed\", \"my name is kasif ahmed\"]\n",
    "longestLength(a)"
   ]
  },
  {
   "cell_type": "code",
   "execution_count": 7,
   "id": "54941ede",
   "metadata": {},
   "outputs": [
    {
     "name": "stdout",
     "output_type": "stream",
     "text": [
      "The word with longest length is: my name is kasif ahmed  and length is  22\n"
     ]
    }
   ],
   "source": [
    "#TASK 4\n",
    "def longestLength(a):\n",
    "    max1 = len(a[0])\n",
    "    posn = a[0]\n",
    "    for i in a:\n",
    "        if(len(i) > max1):\n",
    "            max1 = len(i)\n",
    "            posn = i\n",
    "    print(\"The word with longest length is:\", posn,\n",
    "          \" and length is \", max1)\n",
    "a = [\"kashi\", \"kashif\", \"kashifahmed\", \"my name is kasif ahmed\"]\n",
    "longestLength(a)"
   ]
  },
  {
   "cell_type": "code",
   "execution_count": 14,
   "id": "a2274fec",
   "metadata": {},
   "outputs": [],
   "source": [
    "#TASK 1 SOLVE BY SIR\n",
    "def findmax(arr):\n",
    "    maxnum= 0\n",
    "    for num in arr:\n",
    "        if num>maxnum:\n",
    "            maxnum=num\n",
    "    return maxnum\n",
    "        \n"
   ]
  },
  {
   "cell_type": "code",
   "execution_count": 15,
   "id": "dcf811ef",
   "metadata": {},
   "outputs": [
    {
     "data": {
      "text/plain": [
       "8"
      ]
     },
     "execution_count": 15,
     "metadata": {},
     "output_type": "execute_result"
    }
   ],
   "source": [
    "findmax([8,5,2,3,7,0,1])"
   ]
  },
  {
   "cell_type": "code",
   "execution_count": null,
   "id": "88b211df",
   "metadata": {},
   "outputs": [],
   "source": [
    "def count(text):\n",
    "    for char in text:\n",
    "        "
   ]
  }
 ],
 "metadata": {
  "kernelspec": {
   "display_name": "Python 3 (ipykernel)",
   "language": "python",
   "name": "python3"
  },
  "language_info": {
   "codemirror_mode": {
    "name": "ipython",
    "version": 3
   },
   "file_extension": ".py",
   "mimetype": "text/x-python",
   "name": "python",
   "nbconvert_exporter": "python",
   "pygments_lexer": "ipython3",
   "version": "3.9.7"
  }
 },
 "nbformat": 4,
 "nbformat_minor": 5
}
