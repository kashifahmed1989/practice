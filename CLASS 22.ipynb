{
 "cells": [
  {
   "cell_type": "code",
   "execution_count": 10,
   "id": "e3825f84",
   "metadata": {},
   "outputs": [],
   "source": [
    "class Human():\n",
    "    def __init__(self,name,gender,age):\n",
    "        self.name= name\n",
    "        self.gender= gender\n",
    "        self.age= age\n",
    "    \n",
    "    def live(self):\n",
    "        print(f\"{self.name} is live\")\n",
    "    \n",
    "    def daide(self):\n",
    "        print(f\"{self.name} is live\")\n",
    "    "
   ]
  },
  {
   "cell_type": "code",
   "execution_count": 11,
   "id": "c557b5ef",
   "metadata": {},
   "outputs": [],
   "source": [
    "Human1= Human(\"kashif\",\"male\",30,)"
   ]
  },
  {
   "cell_type": "code",
   "execution_count": 12,
   "id": "96de37f9",
   "metadata": {},
   "outputs": [
    {
     "data": {
      "text/plain": [
       "'kashif'"
      ]
     },
     "execution_count": 12,
     "metadata": {},
     "output_type": "execute_result"
    }
   ],
   "source": [
    "Human1.name"
   ]
  },
  {
   "cell_type": "code",
   "execution_count": 14,
   "id": "f1a409ad",
   "metadata": {},
   "outputs": [],
   "source": [
    "class student(Human):\n",
    "    pass\n",
    "    "
   ]
  },
  {
   "cell_type": "code",
   "execution_count": 15,
   "id": "62346104",
   "metadata": {},
   "outputs": [],
   "source": [
    "student1= student(\"jaffery\",\"male\",24)"
   ]
  },
  {
   "cell_type": "code",
   "execution_count": 18,
   "id": "e9e8f09f",
   "metadata": {},
   "outputs": [
    {
     "name": "stdout",
     "output_type": "stream",
     "text": [
      "jaffery is live\n"
     ]
    }
   ],
   "source": [
    "student1.live()"
   ]
  },
  {
   "cell_type": "code",
   "execution_count": 47,
   "id": "67c23f8f",
   "metadata": {},
   "outputs": [],
   "source": [
    "class teacher(Human):\n",
    "    def __init__(self,name,gender,age,qualification):\n",
    "        super().__init__(name,gender,age)\n",
    "        self.qualification= qualification\n",
    "    \n",
    "    def teaching(self):\n",
    "        print(f\" the {self.name} is qualified {self.qualification} and teaching to \")"
   ]
  },
  {
   "cell_type": "code",
   "execution_count": 50,
   "id": "bccf1e7b",
   "metadata": {},
   "outputs": [],
   "source": [
    "teacher1= teacher(\"Nasir\", \"male\",35,\"MA\")"
   ]
  },
  {
   "cell_type": "code",
   "execution_count": 51,
   "id": "48e1ae18",
   "metadata": {},
   "outputs": [
    {
     "name": "stdout",
     "output_type": "stream",
     "text": [
      " the Nasir is qualified MA and teaching to \n"
     ]
    }
   ],
   "source": [
    "teacher1.teaching()"
   ]
  },
  {
   "cell_type": "code",
   "execution_count": 49,
   "id": "94da73a2",
   "metadata": {},
   "outputs": [],
   "source": [
    "class Car():\n",
    " \n",
    "    def __init__(self, make, model, year):\n",
    "        self.make = make\n",
    "        self.model = model\n",
    "        self.year = year\n",
    "        self.odometer_reading = 0\n",
    "\n",
    "    def get_descriptive_name(self):\n",
    "        long_name = str(self.year) + ' ' + self.make + ' ' + self.model\n",
    "        return long_name.title()\n",
    "\n",
    "    def read_odometer(self):\n",
    "        print(\"This car has \" + str(self.odometer_reading) + \" miles on it.\")\n",
    "\n",
    "    def update_odometer(self, mileage):\n",
    "        if mileage >= self.odometer_reading:\n",
    "            self.odometer_reading = mileage\n",
    "        else:\n",
    "            print(\"You can't roll back an odometer!\")\n",
    "\n",
    "    def increment_odometer(self, miles):\n",
    "        self.odometer_reading += miles"
   ]
  },
  {
   "cell_type": "code",
   "execution_count": null,
   "id": "7761e201",
   "metadata": {},
   "outputs": [],
   "source": [
    "class ElectricCar(Car):\n",
    "    def __init__(self, make, model, year):\n",
    " \n",
    "        super().__init__(make, model, year)\n",
    "        #super()takes you to the parent class initializer"
   ]
  }
 ],
 "metadata": {
  "kernelspec": {
   "display_name": "Python 3 (ipykernel)",
   "language": "python",
   "name": "python3"
  },
  "language_info": {
   "codemirror_mode": {
    "name": "ipython",
    "version": 3
   },
   "file_extension": ".py",
   "mimetype": "text/x-python",
   "name": "python",
   "nbconvert_exporter": "python",
   "pygments_lexer": "ipython3",
   "version": "3.9.7"
  }
 },
 "nbformat": 4,
 "nbformat_minor": 5
}
