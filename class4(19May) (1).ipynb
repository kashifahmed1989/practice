{
 "cells": [
  {
   "cell_type": "raw",
   "id": "7612b2fa",
   "metadata": {},
   "source": [
    "# More on Operators\n",
    "\n",
    "- =  (Assignment)\n",
    "- == (Equals to)\n",
    "- != (Not Equals to)\n",
    "- ** (Exponent)\n",
    "- %  (modulus)\n",
    "- >  (Greater than)\n",
    "- <  (Less than)\n",
    "- >=  (Greater than and equals to)\n",
    "- <=  (Less than and equals to)\n",
    "- and (logical and)\n",
    "- or  (logical or)"
   ]
  },
  {
   "cell_type": "code",
   "execution_count": 1,
   "id": "dd418300",
   "metadata": {},
   "outputs": [],
   "source": [
    "a = 10 "
   ]
  },
  {
   "cell_type": "code",
   "execution_count": 2,
   "id": "cf0be088",
   "metadata": {},
   "outputs": [],
   "source": [
    "b = 10"
   ]
  },
  {
   "cell_type": "code",
   "execution_count": 3,
   "id": "01fe3850",
   "metadata": {},
   "outputs": [
    {
     "data": {
      "text/plain": [
       "True"
      ]
     },
     "execution_count": 3,
     "metadata": {},
     "output_type": "execute_result"
    }
   ],
   "source": [
    "a==b"
   ]
  },
  {
   "cell_type": "code",
   "execution_count": 4,
   "id": "872dadd3",
   "metadata": {},
   "outputs": [
    {
     "data": {
      "text/plain": [
       "False"
      ]
     },
     "execution_count": 4,
     "metadata": {},
     "output_type": "execute_result"
    }
   ],
   "source": [
    "a!=b"
   ]
  },
  {
   "cell_type": "code",
   "execution_count": 6,
   "id": "8fb02d4d",
   "metadata": {},
   "outputs": [
    {
     "data": {
      "text/plain": [
       "1000"
      ]
     },
     "execution_count": 6,
     "metadata": {},
     "output_type": "execute_result"
    }
   ],
   "source": [
    "a**3"
   ]
  },
  {
   "cell_type": "code",
   "execution_count": 7,
   "id": "e2084a8c",
   "metadata": {},
   "outputs": [
    {
     "data": {
      "text/plain": [
       "False"
      ]
     },
     "execution_count": 7,
     "metadata": {},
     "output_type": "execute_result"
    }
   ],
   "source": [
    "a > b"
   ]
  },
  {
   "cell_type": "code",
   "execution_count": 8,
   "id": "b8a3d692",
   "metadata": {},
   "outputs": [
    {
     "data": {
      "text/plain": [
       "False"
      ]
     },
     "execution_count": 8,
     "metadata": {},
     "output_type": "execute_result"
    }
   ],
   "source": [
    "b<a"
   ]
  },
  {
   "cell_type": "code",
   "execution_count": 9,
   "id": "42f4f4b1",
   "metadata": {},
   "outputs": [
    {
     "data": {
      "text/plain": [
       "True"
      ]
     },
     "execution_count": 9,
     "metadata": {},
     "output_type": "execute_result"
    }
   ],
   "source": [
    "a<=b"
   ]
  },
  {
   "cell_type": "code",
   "execution_count": 10,
   "id": "0acc64c9",
   "metadata": {},
   "outputs": [
    {
     "data": {
      "text/plain": [
       "True"
      ]
     },
     "execution_count": 10,
     "metadata": {},
     "output_type": "execute_result"
    }
   ],
   "source": [
    "a<=b"
   ]
  },
  {
   "cell_type": "code",
   "execution_count": 11,
   "id": "fde105a4",
   "metadata": {},
   "outputs": [
    {
     "data": {
      "text/plain": [
       "3.3333333333333335"
      ]
     },
     "execution_count": 11,
     "metadata": {},
     "output_type": "execute_result"
    }
   ],
   "source": [
    "10/3"
   ]
  },
  {
   "cell_type": "code",
   "execution_count": 12,
   "id": "3ad80fa6",
   "metadata": {},
   "outputs": [
    {
     "data": {
      "text/plain": [
       "1"
      ]
     },
     "execution_count": 12,
     "metadata": {},
     "output_type": "execute_result"
    }
   ],
   "source": [
    "15%7"
   ]
  },
  {
   "cell_type": "code",
   "execution_count": 13,
   "id": "c832fc9a",
   "metadata": {},
   "outputs": [
    {
     "data": {
      "text/plain": [
       "2"
      ]
     },
     "execution_count": 13,
     "metadata": {},
     "output_type": "execute_result"
    }
   ],
   "source": [
    "15//7"
   ]
  },
  {
   "cell_type": "code",
   "execution_count": 14,
   "id": "d06ed57b",
   "metadata": {},
   "outputs": [
    {
     "data": {
      "text/plain": [
       "2.142857142857143"
      ]
     },
     "execution_count": 14,
     "metadata": {},
     "output_type": "execute_result"
    }
   ],
   "source": [
    "15/7"
   ]
  },
  {
   "cell_type": "code",
   "execution_count": 15,
   "id": "934a70f1",
   "metadata": {},
   "outputs": [
    {
     "data": {
      "text/plain": [
       "2"
      ]
     },
     "execution_count": 15,
     "metadata": {},
     "output_type": "execute_result"
    }
   ],
   "source": [
    "20%6"
   ]
  },
  {
   "cell_type": "markdown",
   "id": "2ab1fcb0",
   "metadata": {},
   "source": [
    "# Logical \"and\" and Logical \"or\""
   ]
  },
  {
   "cell_type": "raw",
   "id": "07415be0",
   "metadata": {},
   "source": [
    "r1           r2        or(+)        and (*)\n",
    "True(1)     True(1)      True         True \n",
    "True        False        True         False\n",
    "False(0)    True         True         False\n",
    "False       False        False        False"
   ]
  },
  {
   "cell_type": "code",
   "execution_count": 17,
   "id": "06bf6319",
   "metadata": {},
   "outputs": [
    {
     "data": {
      "text/plain": [
       "True"
      ]
     },
     "execution_count": 17,
     "metadata": {},
     "output_type": "execute_result"
    }
   ],
   "source": [
    "10>5 or 20<10\n",
    " #True     False"
   ]
  },
  {
   "cell_type": "code",
   "execution_count": 18,
   "id": "88c2d176",
   "metadata": {},
   "outputs": [
    {
     "data": {
      "text/plain": [
       "False"
      ]
     },
     "execution_count": 18,
     "metadata": {},
     "output_type": "execute_result"
    }
   ],
   "source": [
    "10>5 and 20<10\n",
    "# True    False"
   ]
  },
  {
   "cell_type": "markdown",
   "id": "ce346e78",
   "metadata": {},
   "source": [
    "# If Statment\n",
    " - If \n",
    " - If else \n",
    " - Elif\n"
   ]
  },
  {
   "cell_type": "code",
   "execution_count": 25,
   "id": "d0aca0a2",
   "metadata": {},
   "outputs": [
    {
     "name": "stdout",
     "output_type": "stream",
     "text": [
      "Enter a number of your choice4\n",
      "Enter another numner of your choice4\n",
      "Number 1 is equal to number 2\n",
      "I am out of if block \n"
     ]
    }
   ],
   "source": [
    "num1 = int(input(\"Enter a number of your choice\"))\n",
    "num2 = int(input(\"Enter another numner of your choice\"))\n",
    "\n",
    "if num1==num2:\n",
    "    print(\"Number 1 is equal to number 2\")\n",
    "print(\"I am out of if block \")"
   ]
  },
  {
   "cell_type": "code",
   "execution_count": 29,
   "id": "d01ca7a5",
   "metadata": {},
   "outputs": [
    {
     "name": "stdout",
     "output_type": "stream",
     "text": [
      "Enter a number of your choice5\n",
      "Enter another numner of your choice5\n",
      "5 is equal to 5\n"
     ]
    }
   ],
   "source": [
    "num1 = int(input(\"Enter a number of your choice\"))\n",
    "num2 = int(input(\"Enter another numner of your choice\"))\n",
    "\n",
    "if num1==num2:\n",
    "    print(f\"{num1} is equal to {num2}\")\n",
    "else:\n",
    "    print(f\"{num1} is not equal to {num2}\")\n",
    "    "
   ]
  },
  {
   "cell_type": "markdown",
   "id": "7ca3701b",
   "metadata": {},
   "source": [
    "# Multiple if's"
   ]
  },
  {
   "cell_type": "code",
   "execution_count": 30,
   "id": "500f535c",
   "metadata": {},
   "outputs": [
    {
     "name": "stdout",
     "output_type": "stream",
     "text": [
      "Enter a number of your choice3\n",
      "Enter another numner of your choice7\n",
      "3 is less than 7\n"
     ]
    }
   ],
   "source": [
    "num1 = int(input(\"Enter a number of your choice\"))\n",
    "num2 = int(input(\"Enter another numner of your choice\"))\n",
    "\n",
    "if num1==num2:\n",
    "    print(f\"{num1} is equal to {num2}\")\n",
    "    \n",
    "elif num1 > num2:    \n",
    "    print(f\"{num1} is greater than {num2}\")\n",
    "    \n",
    "elif num1 < num2:\n",
    "    print(f\"{num1} is less than {num2}\")\n",
    "else:\n",
    "    print(\"Pata nahui kia hy\")\n",
    "    \n",
    "    "
   ]
  },
  {
   "cell_type": "raw",
   "id": "8ba520f1",
   "metadata": {},
   "source": [
    "Check if the number inputted by a user is a multiple of 5 or 7"
   ]
  },
  {
   "cell_type": "code",
   "execution_count": 35,
   "id": "8e2caa8c",
   "metadata": {},
   "outputs": [
    {
     "name": "stdout",
     "output_type": "stream",
     "text": [
      "Enter a number of your choice6\n"
     ]
    }
   ],
   "source": [
    "num = int(input(\"Enter a number of your choice\"))\n"
   ]
  },
  {
   "cell_type": "code",
   "execution_count": 39,
   "id": "43075c23",
   "metadata": {},
   "outputs": [
    {
     "name": "stdout",
     "output_type": "stream",
     "text": [
      "The number is not multiple of 5 or 7\n"
     ]
    }
   ],
   "source": [
    "if ((num%5==0) or (num%7==0)):\n",
    "    print(\"The number is multiple of 5 or 7\")\n",
    "else:\n",
    "    print(\"The number is not multiple of 5 or 7\")"
   ]
  },
  {
   "cell_type": "code",
   "execution_count": 42,
   "id": "d456349e",
   "metadata": {},
   "outputs": [
    {
     "name": "stdout",
     "output_type": "stream",
     "text": [
      "Enter a number of your choice35\n",
      "multiple of 5\n"
     ]
    }
   ],
   "source": [
    "num = int(input(\"Enter a number of your choice\"))\n",
    "\n",
    "if num%5==0:\n",
    "    print(\"multiple of 5\")\n",
    "elif num%7==0:\n",
    "    print(\"multiple of 7\")\n",
    "else:\n",
    "    print(\"Nor multiple of 7 or 5\")"
   ]
  },
  {
   "cell_type": "code",
   "execution_count": null,
   "id": "c79a0dab",
   "metadata": {},
   "outputs": [],
   "source": []
  }
 ],
 "metadata": {
  "kernelspec": {
   "display_name": "Python 3 (ipykernel)",
   "language": "python",
   "name": "python3"
  },
  "language_info": {
   "codemirror_mode": {
    "name": "ipython",
    "version": 3
   },
   "file_extension": ".py",
   "mimetype": "text/x-python",
   "name": "python",
   "nbconvert_exporter": "python",
   "pygments_lexer": "ipython3",
   "version": "3.9.7"
  }
 },
 "nbformat": 4,
 "nbformat_minor": 5
}
