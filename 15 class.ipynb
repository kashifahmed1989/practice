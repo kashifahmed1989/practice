{
 "cells": [
  {
   "cell_type": "code",
   "execution_count": 1,
   "id": "36ef13a6",
   "metadata": {},
   "outputs": [
    {
     "ename": "IndentationError",
     "evalue": "unexpected indent (Temp/ipykernel_2044/2138969320.py, line 2)",
     "output_type": "error",
     "traceback": [
      "\u001b[1;36m  File \u001b[1;32m\"C:\\Users\\LAB02R~1\\AppData\\Local\\Temp/ipykernel_2044/2138969320.py\"\u001b[1;36m, line \u001b[1;32m2\u001b[0m\n\u001b[1;33m    print(f'hellow {name}')\u001b[0m\n\u001b[1;37m    ^\u001b[0m\n\u001b[1;31mIndentationError\u001b[0m\u001b[1;31m:\u001b[0m unexpected indent\n"
     ]
    }
   ],
   "source": [
    "#def greet(name):\n",
    "    print(f'hellow {name}')\n",
    "    "
   ]
  },
  {
   "cell_type": "code",
   "execution_count": null,
   "id": "4f7d1daa",
   "metadata": {},
   "outputs": [],
   "source": [
    "# def sqr(num):\n",
    " #   sqre=num*num\n",
    "  #  print(sqr)"
   ]
  },
  {
   "cell_type": "code",
   "execution_count": null,
   "id": "164d9275",
   "metadata": {},
   "outputs": [],
   "source": [
    "sqr(6)"
   ]
  },
  {
   "cell_type": "code",
   "execution_count": null,
   "id": "173e27b0",
   "metadata": {},
   "outputs": [],
   "source": [
    "def sqr(num):\n",
    "    sqre=num*num\n",
    "    global name\n",
    "    name = \"saylani\""
   ]
  },
  {
   "cell_type": "code",
   "execution_count": null,
   "id": "4ce99c2e",
   "metadata": {},
   "outputs": [],
   "source": [
    "sqr(10) "
   ]
  },
  {
   "cell_type": "code",
   "execution_count": null,
   "id": "f24b541e",
   "metadata": {},
   "outputs": [],
   "source": [
    "print(name)"
   ]
  },
  {
   "cell_type": "raw",
   "id": "c8cb30a7",
   "metadata": {},
   "source": [
    "# def add(n1,n2):\n",
    "    ad=n1+n2\n",
    "    return ad\n",
    "    \n"
   ]
  },
  {
   "cell_type": "code",
   "execution_count": 5,
   "id": "233190df",
   "metadata": {},
   "outputs": [],
   "source": [
    "#add(2,3)"
   ]
  },
  {
   "cell_type": "code",
   "execution_count": 2,
   "id": "20cc3fff",
   "metadata": {},
   "outputs": [],
   "source": [
    "def add (n1,n2):\n",
    "    total=n1+n2\n",
    "    global nam\n",
    "    nam=\"asad\"\n",
    "    #for call global var 1t to call n1 &n2\n",
    "    "
   ]
  },
  {
   "cell_type": "code",
   "execution_count": 6,
   "id": "36b8b6d0",
   "metadata": {},
   "outputs": [
    {
     "name": "stdout",
     "output_type": "stream",
     "text": [
      "asad\n"
     ]
    }
   ],
   "source": [
    "   add(2,3)\n",
    "    print(nam)"
   ]
  },
  {
   "cell_type": "code",
   "execution_count": null,
   "id": "0d7f272b",
   "metadata": {},
   "outputs": [],
   "source": [
    "print(nam)"
   ]
  },
  {
   "cell_type": "code",
   "execution_count": null,
   "id": "97a56c60",
   "metadata": {},
   "outputs": [],
   "source": [
    "print(nam)"
   ]
  },
  {
   "cell_type": "code",
   "execution_count": 7,
   "id": "45ef6b38",
   "metadata": {},
   "outputs": [
    {
     "name": "stdout",
     "output_type": "stream",
     "text": [
      "asad\n"
     ]
    }
   ],
   "source": [
    "print(nam)"
   ]
  },
  {
   "cell_type": "code",
   "execution_count": 9,
   "id": "5d20d81a",
   "metadata": {},
   "outputs": [],
   "source": [
    "def sub(v1,v2):\n",
    "    ans=v2-v1\n",
    "    print(ans)\n",
    "    # as here no val return to 2nd prnt cmd"
   ]
  },
  {
   "cell_type": "code",
   "execution_count": 11,
   "id": "3ffaa2e7",
   "metadata": {},
   "outputs": [
    {
     "name": "stdout",
     "output_type": "stream",
     "text": [
      "10\n",
      "None\n"
     ]
    }
   ],
   "source": [
    "print(sub(20,30))"
   ]
  },
  {
   "cell_type": "code",
   "execution_count": 12,
   "id": "1670ee51",
   "metadata": {},
   "outputs": [],
   "source": [
    "def sub(v1,v2):\n",
    "    ans=v2-v1\n",
    "    return"
   ]
  },
  {
   "cell_type": "code",
   "execution_count": 14,
   "id": "a6b491e1",
   "metadata": {},
   "outputs": [
    {
     "name": "stdout",
     "output_type": "stream",
     "text": [
      "None\n"
     ]
    }
   ],
   "source": [
    "print(sub(20,30))"
   ]
  },
  {
   "cell_type": "code",
   "execution_count": 16,
   "id": "94532c2c",
   "metadata": {},
   "outputs": [],
   "source": [
    "def comp_name(fstname,lastname):\n",
    "    fullname=fstname+\" \"+lastname\n",
    "    return fullname\n"
   ]
  },
  {
   "cell_type": "code",
   "execution_count": 18,
   "id": "6e477fd9",
   "metadata": {},
   "outputs": [
    {
     "data": {
      "text/plain": [
       "'ahmed kashif'"
      ]
     },
     "execution_count": 18,
     "metadata": {},
     "output_type": "execute_result"
    }
   ],
   "source": [
    "comp_name(\"ahmed\",\"kashif\")"
   ]
  },
  {
   "cell_type": "code",
   "execution_count": null,
   "id": "34a12e02",
   "metadata": {},
   "outputs": [],
   "source": [
    "def cube(no):\n",
    "    _cube=no**3\n",
    "    return "
   ]
  }
 ],
 "metadata": {
  "kernelspec": {
   "display_name": "Python 3 (ipykernel)",
   "language": "python",
   "name": "python3"
  },
  "language_info": {
   "codemirror_mode": {
    "name": "ipython",
    "version": 3
   },
   "file_extension": ".py",
   "mimetype": "text/x-python",
   "name": "python",
   "nbconvert_exporter": "python",
   "pygments_lexer": "ipython3",
   "version": "3.9.7"
  }
 },
 "nbformat": 4,
 "nbformat_minor": 5
}
