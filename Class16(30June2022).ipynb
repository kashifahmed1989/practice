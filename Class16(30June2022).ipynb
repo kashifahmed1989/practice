{
 "cells": [
  {
   "cell_type": "markdown",
   "id": "33a31e95",
   "metadata": {},
   "source": [
    "# More on functions"
   ]
  },
  {
   "cell_type": "markdown",
   "id": "cf8eeabf",
   "metadata": {},
   "source": [
    "### Default Parameter"
   ]
  },
  {
   "cell_type": "code",
   "execution_count": 13,
   "id": "bdaf44cb",
   "metadata": {},
   "outputs": [],
   "source": [
    "def func(arr,task=''):\n",
    "    \n",
    "    ## sum ,mult, max, min, even,odd\n",
    "    if task==\"sum\":\n",
    "        return sum(arr)\n",
    "    \n",
    "    elif task==\"mult\":\n",
    "        res = 1\n",
    "        for num in arr:\n",
    "            res *=num \n",
    "        return res\n",
    "    \n",
    "    elif task==\"max\":\n",
    "        return max(arr)\n",
    "    \n",
    "    elif task =='min':\n",
    "        return min(arr)\n",
    "    \n",
    "    elif task==\"even\":\n",
    "        even=[]\n",
    "        for num in arr:\n",
    "            if num%2==0:\n",
    "                even.append(num)\n",
    "        return even\n",
    "    \n",
    "    elif task==\"odd\":\n",
    "        odd=[]\n",
    "        \n",
    "        for num in arr:\n",
    "            if num%2!=0:\n",
    "                odd.append(num)  \n",
    "                return odd\n",
    "    else:\n",
    "        return arr"
   ]
  },
  {
   "cell_type": "code",
   "execution_count": 5,
   "id": "f775d83a",
   "metadata": {},
   "outputs": [
    {
     "data": {
      "text/plain": [
       "25"
      ]
     },
     "execution_count": 5,
     "metadata": {},
     "output_type": "execute_result"
    }
   ],
   "source": [
    "func([3,4,5,6,7], \"sum\")"
   ]
  },
  {
   "cell_type": "code",
   "execution_count": 6,
   "id": "1838cfcb",
   "metadata": {},
   "outputs": [
    {
     "data": {
      "text/plain": [
       "2520"
      ]
     },
     "execution_count": 6,
     "metadata": {},
     "output_type": "execute_result"
    }
   ],
   "source": [
    "func([3,4,5,6,7],'mult')"
   ]
  },
  {
   "cell_type": "code",
   "execution_count": 7,
   "id": "68c0c7ea",
   "metadata": {},
   "outputs": [
    {
     "data": {
      "text/plain": [
       "3"
      ]
     },
     "execution_count": 7,
     "metadata": {},
     "output_type": "execute_result"
    }
   ],
   "source": [
    "func([3,4,5,6,7],'min')"
   ]
  },
  {
   "cell_type": "code",
   "execution_count": 9,
   "id": "fa41bc2c",
   "metadata": {},
   "outputs": [
    {
     "data": {
      "text/plain": [
       "7"
      ]
     },
     "execution_count": 9,
     "metadata": {},
     "output_type": "execute_result"
    }
   ],
   "source": [
    "func([3,4,5,6,7],'max')"
   ]
  },
  {
   "cell_type": "code",
   "execution_count": 10,
   "id": "b7838015",
   "metadata": {},
   "outputs": [
    {
     "data": {
      "text/plain": [
       "[4, 6]"
      ]
     },
     "execution_count": 10,
     "metadata": {},
     "output_type": "execute_result"
    }
   ],
   "source": [
    "func([3,4,5,6,7],'even')"
   ]
  },
  {
   "cell_type": "code",
   "execution_count": 11,
   "id": "c7342a50",
   "metadata": {},
   "outputs": [
    {
     "data": {
      "text/plain": [
       "[3, 5, 7]"
      ]
     },
     "execution_count": 11,
     "metadata": {},
     "output_type": "execute_result"
    }
   ],
   "source": [
    "func([3,4,5,6,7],'odd')"
   ]
  },
  {
   "cell_type": "code",
   "execution_count": 14,
   "id": "4d9f9888",
   "metadata": {},
   "outputs": [
    {
     "data": {
      "text/plain": [
       "[3, 4, 5, 6, 7]"
      ]
     },
     "execution_count": 14,
     "metadata": {},
     "output_type": "execute_result"
    }
   ],
   "source": [
    "func([3,4,5,6,7])"
   ]
  },
  {
   "cell_type": "code",
   "execution_count": 23,
   "id": "7e8fe4d1",
   "metadata": {},
   "outputs": [],
   "source": [
    "def anc(name:str)-> str:\n",
    "    return name\n"
   ]
  },
  {
   "cell_type": "code",
   "execution_count": 24,
   "id": "5ea47915",
   "metadata": {},
   "outputs": [
    {
     "data": {
      "text/plain": [
       "45"
      ]
     },
     "execution_count": 24,
     "metadata": {},
     "output_type": "execute_result"
    }
   ],
   "source": [
    "anc(45)"
   ]
  },
  {
   "cell_type": "markdown",
   "id": "d275379c",
   "metadata": {},
   "source": [
    "# kEYWORD aRGUMANTS"
   ]
  },
  {
   "cell_type": "code",
   "execution_count": 36,
   "id": "42b14222",
   "metadata": {},
   "outputs": [],
   "source": [
    "def description(name, age, gender,blood_group):\n",
    "    desc = f\"\"\"\n",
    "            The name of person is {name}\n",
    "            The age is {age}\n",
    "            the Gender is {gender}\n",
    "            the blood group is {blood_group} \"\"\"\n",
    "    print(desc)"
   ]
  },
  {
   "cell_type": "code",
   "execution_count": 37,
   "id": "04986a27",
   "metadata": {},
   "outputs": [
    {
     "name": "stdout",
     "output_type": "stream",
     "text": [
      "\n",
      "            The name of person is asad\n",
      "            The age is 23\n",
      "            the Gender is male\n",
      "            the blood group is O+ \n"
     ]
    }
   ],
   "source": [
    "description(age=23,blood_group=\"O+\", name=\"asad\", gender=\"male\")"
   ]
  },
  {
   "cell_type": "markdown",
   "id": "8272c09a",
   "metadata": {},
   "source": [
    "#### Returning a Dictionary\n"
   ]
  },
  {
   "cell_type": "code",
   "execution_count": 50,
   "id": "33e182f8",
   "metadata": {},
   "outputs": [],
   "source": [
    "def build_person(first_name, last_name, age=''):\n",
    "    person = {'first': first_name, 'last': last_name}\n",
    "    if age:\n",
    "        person['age'] = age\n",
    "    return person\n"
   ]
  },
  {
   "cell_type": "code",
   "execution_count": 51,
   "id": "8820ef1f",
   "metadata": {},
   "outputs": [],
   "source": [
    "musician = build_person('jimi', 'hendrix', age=27)"
   ]
  },
  {
   "cell_type": "code",
   "execution_count": 52,
   "id": "962ec619",
   "metadata": {},
   "outputs": [
    {
     "data": {
      "text/plain": [
       "{'first': 'jimi', 'last': 'hendrix', 'age': 27}"
      ]
     },
     "execution_count": 52,
     "metadata": {},
     "output_type": "execute_result"
    }
   ],
   "source": [
    "musician"
   ]
  },
  {
   "cell_type": "code",
   "execution_count": 53,
   "id": "162085d0",
   "metadata": {},
   "outputs": [],
   "source": [
    "musician2 = build_person('jimi', 'hendrix')"
   ]
  },
  {
   "cell_type": "code",
   "execution_count": 54,
   "id": "c79c7545",
   "metadata": {},
   "outputs": [
    {
     "data": {
      "text/plain": [
       "{'first': 'jimi', 'last': 'hendrix'}"
      ]
     },
     "execution_count": 54,
     "metadata": {},
     "output_type": "execute_result"
    }
   ],
   "source": [
    "musician2"
   ]
  },
  {
   "cell_type": "code",
   "execution_count": 57,
   "id": "13f15138",
   "metadata": {},
   "outputs": [],
   "source": [
    "age =''\n",
    "if age:\n",
    "    print(\"h\")"
   ]
  },
  {
   "cell_type": "code",
   "execution_count": null,
   "id": "a7d1eaf7",
   "metadata": {},
   "outputs": [],
   "source": []
  }
 ],
 "metadata": {
  "kernelspec": {
   "display_name": "Python 3 (ipykernel)",
   "language": "python",
   "name": "python3"
  },
  "language_info": {
   "codemirror_mode": {
    "name": "ipython",
    "version": 3
   },
   "file_extension": ".py",
   "mimetype": "text/x-python",
   "name": "python",
   "nbconvert_exporter": "python",
   "pygments_lexer": "ipython3",
   "version": "3.9.7"
  }
 },
 "nbformat": 4,
 "nbformat_minor": 5
}
